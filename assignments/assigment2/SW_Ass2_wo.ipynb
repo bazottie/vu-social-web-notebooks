{
 "cells": [
  {
   "cell_type": "markdown",
   "metadata": {
    "id": "dcMf4aubeMI9"
   },
   "source": [
    "*****************************************************************\n",
    "#  The Social Web: data representation\n",
    "- Instructors: Davide Ceolin, Emma Beauxis-Aussalet.\n",
    "- TAs: Zubaria Inayat, Maxim Sergeev, Zhuofan Mei, Alexander Schmatz, Ling Jin.\n",
    "- Exercises for Hands-on session 2\n",
    "*****************************************************************"
   ]
  },
  {
   "cell_type": "markdown",
   "metadata": {
    "id": "Zhts5HMzeMI-"
   },
   "source": [
    "In this session you are going to mine data in various microformats. You will see the differences in what each of the formats can contain and what purpose they serve. We will start by looking at geographical data.\n",
    "\n",
    "Prerequisites:\n",
    "- Python 3.8\n",
    "- Python packages: requests, BeautifulSoup4, HTMLParser, rdflib\n"
   ]
  },
  {
   "cell_type": "code",
   "execution_count": 3,
   "metadata": {
    "colab": {
     "base_uri": "https://localhost:8080/",
     "height": 204
    },
    "id": "6f-OtFPPeMJA",
    "outputId": "9bcb836f-4204-4fac-d133-99e81a0b2884"
   },
   "outputs": [
    {
     "name": "stdout",
     "output_type": "stream",
     "text": [
      "Requirement already satisfied: requests in /Users/bazottie/.pyenv/versions/3.10.12/lib/python3.10/site-packages (2.31.0)\n",
      "Requirement already satisfied: urllib3<3,>=1.21.1 in /Users/bazottie/.pyenv/versions/3.10.12/lib/python3.10/site-packages (from requests) (1.26.16)\n",
      "Requirement already satisfied: charset-normalizer<4,>=2 in /Users/bazottie/.pyenv/versions/3.10.12/lib/python3.10/site-packages (from requests) (3.2.0)\n",
      "Requirement already satisfied: idna<4,>=2.5 in /Users/bazottie/.pyenv/versions/3.10.12/lib/python3.10/site-packages (from requests) (3.4)\n",
      "Requirement already satisfied: certifi>=2017.4.17 in /Users/bazottie/.pyenv/versions/3.10.12/lib/python3.10/site-packages (from requests) (2023.7.22)\n",
      "\n",
      "\u001b[1m[\u001b[0m\u001b[34;49mnotice\u001b[0m\u001b[1;39;49m]\u001b[0m\u001b[39;49m A new release of pip is available: \u001b[0m\u001b[31;49m23.0.1\u001b[0m\u001b[39;49m -> \u001b[0m\u001b[32;49m23.3.1\u001b[0m\n",
      "\u001b[1m[\u001b[0m\u001b[34;49mnotice\u001b[0m\u001b[1;39;49m]\u001b[0m\u001b[39;49m To update, run: \u001b[0m\u001b[32;49mpip install --upgrade pip\u001b[0m\n",
      "Note: you may need to restart the kernel to use updated packages.\n",
      "Requirement already satisfied: BeautifulSoup4 in /Users/bazottie/.pyenv/versions/3.10.12/lib/python3.10/site-packages (4.12.2)\n",
      "Requirement already satisfied: soupsieve>1.2 in /Users/bazottie/.pyenv/versions/3.10.12/lib/python3.10/site-packages (from BeautifulSoup4) (2.4.1)\n",
      "\n",
      "\u001b[1m[\u001b[0m\u001b[34;49mnotice\u001b[0m\u001b[1;39;49m]\u001b[0m\u001b[39;49m A new release of pip is available: \u001b[0m\u001b[31;49m23.0.1\u001b[0m\u001b[39;49m -> \u001b[0m\u001b[32;49m23.3.1\u001b[0m\n",
      "\u001b[1m[\u001b[0m\u001b[34;49mnotice\u001b[0m\u001b[1;39;49m]\u001b[0m\u001b[39;49m To update, run: \u001b[0m\u001b[32;49mpip install --upgrade pip\u001b[0m\n",
      "Note: you may need to restart the kernel to use updated packages.\n",
      "Requirement already satisfied: HTMLParser in /Users/bazottie/.pyenv/versions/3.10.12/lib/python3.10/site-packages (0.0.2)\n",
      "\n",
      "\u001b[1m[\u001b[0m\u001b[34;49mnotice\u001b[0m\u001b[1;39;49m]\u001b[0m\u001b[39;49m A new release of pip is available: \u001b[0m\u001b[31;49m23.0.1\u001b[0m\u001b[39;49m -> \u001b[0m\u001b[32;49m23.3.1\u001b[0m\n",
      "\u001b[1m[\u001b[0m\u001b[34;49mnotice\u001b[0m\u001b[1;39;49m]\u001b[0m\u001b[39;49m To update, run: \u001b[0m\u001b[32;49mpip install --upgrade pip\u001b[0m\n",
      "Note: you may need to restart the kernel to use updated packages.\n",
      "Requirement already satisfied: rdflib in /Users/bazottie/.pyenv/versions/3.10.12/lib/python3.10/site-packages (7.0.0)\n",
      "Requirement already satisfied: isodate<0.7.0,>=0.6.0 in /Users/bazottie/.pyenv/versions/3.10.12/lib/python3.10/site-packages (from rdflib) (0.6.1)\n",
      "Requirement already satisfied: pyparsing<4,>=2.1.0 in /Users/bazottie/.pyenv/versions/3.10.12/lib/python3.10/site-packages (from rdflib) (3.0.9)\n",
      "Requirement already satisfied: six in /Users/bazottie/.pyenv/versions/3.10.12/lib/python3.10/site-packages (from isodate<0.7.0,>=0.6.0->rdflib) (1.16.0)\n",
      "\n",
      "\u001b[1m[\u001b[0m\u001b[34;49mnotice\u001b[0m\u001b[1;39;49m]\u001b[0m\u001b[39;49m A new release of pip is available: \u001b[0m\u001b[31;49m23.0.1\u001b[0m\u001b[39;49m -> \u001b[0m\u001b[32;49m23.3.1\u001b[0m\n",
      "\u001b[1m[\u001b[0m\u001b[34;49mnotice\u001b[0m\u001b[1;39;49m]\u001b[0m\u001b[39;49m To update, run: \u001b[0m\u001b[32;49mpip install --upgrade pip\u001b[0m\n",
      "Note: you may need to restart the kernel to use updated packages.\n",
      "Requirement already satisfied: cloudscraper in /Users/bazottie/.pyenv/versions/3.10.12/lib/python3.10/site-packages (1.2.71)\n",
      "Requirement already satisfied: requests>=2.9.2 in /Users/bazottie/.pyenv/versions/3.10.12/lib/python3.10/site-packages (from cloudscraper) (2.31.0)\n",
      "Requirement already satisfied: pyparsing>=2.4.7 in /Users/bazottie/.pyenv/versions/3.10.12/lib/python3.10/site-packages (from cloudscraper) (3.0.9)\n",
      "Requirement already satisfied: requests-toolbelt>=0.9.1 in /Users/bazottie/.pyenv/versions/3.10.12/lib/python3.10/site-packages (from cloudscraper) (1.0.0)\n",
      "Requirement already satisfied: urllib3<3,>=1.21.1 in /Users/bazottie/.pyenv/versions/3.10.12/lib/python3.10/site-packages (from requests>=2.9.2->cloudscraper) (1.26.16)\n",
      "Requirement already satisfied: certifi>=2017.4.17 in /Users/bazottie/.pyenv/versions/3.10.12/lib/python3.10/site-packages (from requests>=2.9.2->cloudscraper) (2023.7.22)\n",
      "Requirement already satisfied: charset-normalizer<4,>=2 in /Users/bazottie/.pyenv/versions/3.10.12/lib/python3.10/site-packages (from requests>=2.9.2->cloudscraper) (3.2.0)\n",
      "Requirement already satisfied: idna<4,>=2.5 in /Users/bazottie/.pyenv/versions/3.10.12/lib/python3.10/site-packages (from requests>=2.9.2->cloudscraper) (3.4)\n",
      "\n",
      "\u001b[1m[\u001b[0m\u001b[34;49mnotice\u001b[0m\u001b[1;39;49m]\u001b[0m\u001b[39;49m A new release of pip is available: \u001b[0m\u001b[31;49m23.0.1\u001b[0m\u001b[39;49m -> \u001b[0m\u001b[32;49m23.3.1\u001b[0m\n",
      "\u001b[1m[\u001b[0m\u001b[34;49mnotice\u001b[0m\u001b[1;39;49m]\u001b[0m\u001b[39;49m To update, run: \u001b[0m\u001b[32;49mpip install --upgrade pip\u001b[0m\n",
      "Note: you may need to restart the kernel to use updated packages.\n"
     ]
    }
   ],
   "source": [
    "# If you're using a virtualenv, make sure it's activated before running\n",
    "# this cell!\n",
    "%pip install requests\n",
    "%pip install BeautifulSoup4\n",
    "%pip install HTMLParser\n",
    "%pip install rdflib\n",
    "%pip install cloudscraper"
   ]
  },
  {
   "cell_type": "markdown",
   "metadata": {
    "id": "irPnmIK4eMJd"
   },
   "source": [
    "##  Exercise 1\n",
    "\n",
    "Even if web pages do not use microformat, interesting data can often be extracted from the HTML. You may use packages such as BeautifulSoup to extract arbitrary pieces of data from any HTML page.\n",
    "The example below shows how we can find the URL of first image in the infobox table of the wikipedia page on Amsterdam. Tip: compare the code below with HTML source code of the wikipedia page: the image url is in the \"src\" attribute of the \"img\" element of in the \"table\" element with class=\"infobox\"."
   ]
  },
  {
   "cell_type": "code",
   "execution_count": 4,
   "metadata": {
    "colab": {
     "base_uri": "https://localhost:8080/",
     "height": 34
    },
    "id": "9gpHw90keMJf",
    "outputId": "7ae1fe64-8d85-4a47-cfdf-422284954d81"
   },
   "outputs": [
    {
     "name": "stdout",
     "output_type": "stream",
     "text": [
      "//upload.wikimedia.org/wikipedia/commons/thumb/5/57/Imagen_de_los_canales_conc%C3%A9ntricos_en_%C3%81msterdam.png/268px-Imagen_de_los_canales_conc%C3%A9ntricos_en_%C3%81msterdam.png\n"
     ]
    }
   ],
   "source": [
    "# -*- coding: utf-8 -*-\n",
    "\n",
    "import requests\n",
    "from bs4 import BeautifulSoup\n",
    "\n",
    "# This script requires you to add a url of a page with geotags to the commandline, e.g.\n",
    "# python geo.py 'http://en.wikipedia.org/wiki/Amsterdam'\n",
    "URL = 'https://en.wikipedia.org/wiki/Amsterdam'\n",
    "\n",
    "req = requests.get(URL, headers={'User-Agent' : \"Social Web Course Student\"})\n",
    "soup = BeautifulSoup(req.text)\n",
    "# print(req.text)\n",
    "image1 = soup.findAll('table', class_='infobox')[0].find('img')\n",
    "print(image1['src'])  \n"
   ]
  },
  {
   "cell_type": "markdown",
   "metadata": {},
   "source": [
    "Extracting coordinates from a webpage and reformatting them in the geo microformat (based on Example 8-1 in Mining the Social Web). Note that wikipages may encode long/lat information in different ways. On of the ways used by the Amsterdam wikipedia page is in a span element that is not shown to the user: \n",
    "<span class=\"geo\">52.367; 4.900</span>\n",
    "This span element has a single child: len(geoTag == 1) and no further structure, we have to manually get the long/lat by splitting the string on the ';' semicolon."
   ]
  },
  {
   "cell_type": "code",
   "execution_count": 5,
   "metadata": {
    "colab": {
     "base_uri": "https://localhost:8080/",
     "height": 34
    },
    "id": "LtHtQT9PeMJl",
    "outputId": "8a7f7b52-cdb2-409f-b3f0-ee7adf60a9f7"
   },
   "outputs": [
    {
     "name": "stdout",
     "output_type": "stream",
     "text": [
      "<span class=\"geo\">52.37278; 4.89361</span>\n",
      "Location is at 52.37278 4.89361\n"
     ]
    }
   ],
   "source": [
    "\n",
    "geoTag = soup.find(True, 'geo')\n",
    "print(geoTag)\n",
    "\n",
    "if geoTag and len(geoTag) > 1:\n",
    "        lat = geoTag.find(True, 'latitude').string\n",
    "        lon = geoTag.find(True, 'longitude').string\n",
    "        print ('Location is at'), lat, lon\n",
    "elif geoTag and len(geoTag) == 1:\n",
    "        (lat, lon) = geoTag.string.split(';')\n",
    "        (lat, lon) = (lat.strip(), lon.strip())\n",
    "        print (('Location is at'), lat, lon)\n",
    "else:\n",
    "        print ('Location not found')\n"
   ]
  },
  {
   "cell_type": "markdown",
   "metadata": {
    "id": "8S_bXnjveMJp"
   },
   "source": [
    "### Task 1\n",
    "\n",
    "Can you convert the output of Exercise 1 into KML? Here is the KML documentation: https://developers.google.com/kml/documentation/?csw=1 and here you can find a simple example of how it is used: https://renenyffenegger.ch/notes/tools/Google-Earth/kml/index\n",
    "\n",
    "Visualise the point in Google Maps using the following code example: https://developers.google.com/maps/documentation/javascript/examples/layer-kml-features\n",
    "You will have to create your own KML file for the custom map layer, and provide a URL to the KML file inside the JavaScript code, which means that you have to upload the file somewhere. You can use a service like http://pastebin.com/ to obtain a URL for your KML file —> paste the code there and request the RAW format URL; use this one in this Task1. If it fails to work you can also use KML viewer websites like https://kmzview.com/.\n",
    "\n",
    "Is KML a microformat, why (not)?"
   ]
  },
  {
   "cell_type": "markdown",
   "metadata": {},
   "source": [
    "## Is KML a microformat?\n",
    "**Yes**, KML is a microformat.\n",
    "Microformats are are human first formats built upon existing open data standards, such as XML, and KML is an extension of XML, adding new elements and attributes."
   ]
  },
  {
   "cell_type": "code",
   "execution_count": 6,
   "metadata": {},
   "outputs": [],
   "source": [
    "kml = f'''<?xml version=\"1.0\" encoding=\"UTF-8\"?>\n",
    "<kml xmlns=\"http://www.opengis.net/kml/2.2\">\n",
    "  <Placemark>\n",
    "    <name>A simple placemark on the ground</name>\n",
    "    <description>This is dam square.</description>\n",
    "    <Point>\n",
    "\t\t\t<coordinates>{lon},{lat},0</coordinates>\n",
    "    </Point>\n",
    "  </Placemark>\n",
    "</kml>'''\n",
    "\n",
    "# Write the KML file\n",
    "f = open('./location.kml', 'w')\n",
    "f.write(kml)\n",
    "f.close()"
   ]
  },
  {
   "cell_type": "markdown",
   "metadata": {
    "id": "kUnka7EyeMJp"
   },
   "source": [
    "## Exercise 2 \n",
    "In order to find information in the web we can use microformats such as [hRecipe](https://microformats.org/wiki/hrecipe) or Schema.org's [Recipe](https://schema.org/Recipe). But first, we'll show you how to find arbitrary tags in a webpage.\n"
   ]
  },
  {
   "cell_type": "markdown",
   "metadata": {
    "id": "b0pBs-PVeMJq"
   },
   "source": [
    "### Task 2 \n",
    "Parsing data for a <sub><sup>veggie</sup></sub> spaghetti alla carbonara recipe (from Example 2-7 in Mining the Social Web)."
   ]
  },
  {
   "cell_type": "code",
   "execution_count": 10,
   "metadata": {
    "tags": []
   },
   "outputs": [],
   "source": [
    "import cloudscraper\n",
    "import json\n",
    "from bs4 import BeautifulSoup\n",
    "\n",
    "# A yummy webpage (feel free to change to your likings.)\n",
    "URL = \"https://www.acouplecooks.com/spring-vegetarian-spaghetti-carbonara\"\n",
    "\n",
    "# Create a CloudScraper object\n",
    "scraper = cloudscraper.create_scraper()\n",
    "\n",
    "# Use the CloudScraper object to fetch the HTML content\n",
    "response = scraper.get(URL)\n",
    "\n",
    "# Parse the HTML content with BeautifulSoup\n",
    "soup = BeautifulSoup(response.text, 'html.parser')\n",
    "\n",
    "# Now you can work with the 'soup' object as you did before\n",
    "listchildren = list(soup.children)\n",
    "#print(listchildren)\n"
   ]
  },
  {
   "cell_type": "markdown",
   "metadata": {
    "id": "IhdMwqykeMJt"
   },
   "source": [
    "We can find any element in the page through *css tag selectors*\n",
    "You can find them all [here](https://www.w3schools.com/cssref/css_selectors.asp), but shortly these are \".\" for classes, # for ids and plain text for the element name.\n",
    "\n",
    "\n",
    "You can also combine them, so that looking for \".class1.class2\" would select all elements displaying both classes. For a deeper overview please check the above link (or google \"html tag selectors\"). "
   ]
  },
  {
   "cell_type": "code",
   "execution_count": 11,
   "metadata": {
    "tags": []
   },
   "outputs": [
    {
     "name": "stdout",
     "output_type": "stream",
     "text": [
      "2\n",
      "<title>Vegetarian Carbonara – A Couple Cooks</title>\n"
     ]
    }
   ],
   "source": [
    "print(len(listchildren)) # we can see here how many children the html doc has got.\n",
    "title_unparsed = soup.select_one(\"title\")\n",
    "#show the title element\n",
    "print(title_unparsed)"
   ]
  },
  {
   "cell_type": "markdown",
   "metadata": {},
   "source": [
    "Not so pretty.... Use the text method."
   ]
  },
  {
   "cell_type": "code",
   "execution_count": 9,
   "metadata": {
    "tags": []
   },
   "outputs": [
    {
     "name": "stdout",
     "output_type": "stream",
     "text": [
      "Vegetarian Carbonara – A Couple Cooks\n"
     ]
    }
   ],
   "source": [
    "print(title_unparsed.text)"
   ]
  },
  {
   "cell_type": "markdown",
   "metadata": {},
   "source": [
    "The website has a block of JSON-LD data embedded. Try to see if you can find it in the soup object.\n",
    "We can load the JSON-LD script to work with it easier.\n",
    "Lets get a list of the ingredients."
   ]
  },
  {
   "cell_type": "code",
   "execution_count": 12,
   "metadata": {
    "tags": []
   },
   "outputs": [
    {
     "name": "stdout",
     "output_type": "stream",
     "text": [
      "1 pound spaghetti noodles\n",
      "½ cup smoked mozzarella cheese\n",
      "½ cup grated Parmesan cheese, plus more for serving\n",
      "4 egg yolks\n",
      "1 cup frozen Earthbound Farm Organic peas\n",
      "8 cups Earthbound Farm Organic spinach\n",
      "3 tablespoons butter\n",
      "Kosher salt\n",
      "Fresh ground black pepper\n"
     ]
    }
   ],
   "source": [
    "# Find the script tag containing the JSON-LD data\n",
    "json_ld_script = soup.find(\"script\", {\"class\": \"yoast-schema-graph\"})\n",
    "\n",
    "# Extract the content of the script tag\n",
    "script_content = json_ld_script.string\n",
    "\n",
    "# Load the JSON data from the script content\n",
    "data = json.loads(script_content)\n",
    "\n",
    "# Access the \"recipeIngredient\" list\n",
    "recipe_ingredients = data[\"@graph\"][7][\"recipeIngredient\"]\n",
    "\n",
    "# Print the list of ingredients\n",
    "for ingredient in recipe_ingredients:\n",
    "    print(ingredient)"
   ]
  },
  {
   "cell_type": "markdown",
   "metadata": {},
   "source": [
    "Lets also print out the instructions."
   ]
  },
  {
   "cell_type": "code",
   "execution_count": 13,
   "metadata": {
    "tags": []
   },
   "outputs": [
    {
     "name": "stdout",
     "output_type": "stream",
     "text": [
      "In a large pot, combine 6 quarts of water with 2 tablespoons kosher salt and bring it to a boil.\n",
      "Grate the Parmesan and mozzarella cheese. Carefully separate four egg yolks and set aside.\n",
      "Once boiling, add the pasta and cook until the pasta is just about al dente, about 7 minutes; then add peas and spinach and cook for 1 minute. Reserve 1 cup cooking water, and then drain the pasta and vegetables.\n",
      "In a skillet, melt the butter, then stir in the cheeses, ¼ cup pasta water, and ¼ teaspoon kosher salt. Stir in the pasta and vegetables until creamy over low heat, adding more pasta water if necessary (note that the mozzarella will stick together in some places).\n",
      "To serve, top each pasta serving with a whole egg yolk and additional Parmesan cheese, and stir the yolk into the pasta at the table (if you are uncomfortable serving egg yolks at the table, stir the egg yolks into the pasta in the skillet to heat them through). Serve immediately. (Note that the mozzarella cheese can become gummy the longer the pasta sits, so eat immediately if possible. Leftovers can be reheated in a skillet, but may not have the same creamy texture.)\n"
     ]
    }
   ],
   "source": [
    "recipe_instructions= data[\"@graph\"][7][\"recipeInstructions\"]\n",
    "#the instructions list contains dictionaries as elements, take a look at how the list is organized\n",
    "for step in recipe_instructions:\n",
    "    print(step[\"text\"])"
   ]
  },
  {
   "cell_type": "markdown",
   "metadata": {
    "tags": []
   },
   "source": [
    "Websites are going to be structured differently. Look at the following JSON-DL snippet."
   ]
  },
  {
   "cell_type": "code",
   "execution_count": 14,
   "metadata": {
    "tags": []
   },
   "outputs": [],
   "source": [
    "json_example = {\n",
    "    \"title\": \"The anarchist cookbook\",\n",
    "    \"recipeInstructions\": \"<ol class=\\\"recipeSteps\\\"><li>Cook the linguine according to the packet instructions. </li><li>Meanwhile, carefully crack the eggs into a small bowl and beat them with a fork. Season with a little black pepper, then stir in the ricotta finely grate in most of the lemon zest. </li><li>When the pasta has 3 minutes left, add the peas. Reserve a little cooking water, then drain the linguine and peas, and return to the pan. </li><li>Stir in the egg mixture and spinach with a wooden spoon – they'll cook gently in the residual heat. Add a little pasta water to loosen, if needed. </li><li>Share between bowls and serve with a green salad.</li></ol>\",\n",
    "    \"ingredients\": [\"a lot of effort\", \"the right mindset\"]\n",
    "}\n",
    "\n",
    "recipe_instructions = json_example[\"recipeInstructions\"]\n",
    "example_soup = BeautifulSoup(recipe_instructions, 'html.parser')"
   ]
  },
  {
   "cell_type": "code",
   "execution_count": 15,
   "metadata": {
    "tags": []
   },
   "outputs": [
    {
     "name": "stdout",
     "output_type": "stream",
     "text": [
      "['Cook the linguine according to the packet instructions.', 'Meanwhile, carefully crack the eggs into a small bowl and beat them with a fork. Season with a little black pepper, then stir in the ricotta finely grate in most of the lemon zest.', 'When the pasta has 3 minutes left, add the peas. Reserve a little cooking water, then drain the linguine and peas, and return to the pan.', \"Stir in the egg mixture and spinach with a wooden spoon – they'll cook gently in the residual heat. Add a little pasta water to loosen, if needed.\", 'Share between bowls and serve with a green salad.']\n"
     ]
    }
   ],
   "source": [
    "#to get a nice and clean list of the instructions, step by step\n",
    "#we can use the find method to get the first \"ol\" element with attribute \"class..\" and then use find_all to get all list elements in there\n",
    "#then we can strip the list items to obtain the instructions\n",
    "list_items = example_soup.find('ol', class_='recipeSteps').find_all('li')\n",
    "instructions = [item.get_text(strip=True) for item in list_items]\n",
    "print(instructions)"
   ]
  },
  {
   "cell_type": "markdown",
   "metadata": {
    "id": "RYb6WtXYeMJ6"
   },
   "source": [
    "## Task 2.1\n",
    "Now it's your turn. Create a function that can scrape any recipe webpage from the same website (other websites will have different class tags). \n",
    "\n",
    "Make sure to:\n",
    "\n",
    "- return itemized content (e.g. ingredients) in a list. You may want to use a list comprehension here.\n",
    "- Not all items have been cleaned of their html markdown (see variables ```ingredients``` vs. ```instructions_unparsed```. Make sure to return a list with human readable content (i.e. by using the ```.text``` attribute).\n"
   ]
  },
  {
   "cell_type": "code",
   "execution_count": 21,
   "metadata": {
    "tags": []
   },
   "outputs": [
    {
     "name": "stdout",
     "output_type": "stream",
     "text": [
      "{'name': 'Vegetarian Carbonara – A Couple Cooks', 'ingredients': ['1 pound spaghetti noodles', '½ cup smoked mozzarella cheese', '½ cup grated Parmesan cheese, plus more for serving', '4 egg yolks', '1 cup frozen Earthbound Farm Organic peas', '8 cups Earthbound Farm Organic spinach', '3 tablespoons butter', 'Kosher salt', 'Fresh ground black pepper'], 'instructions': ['In a large pot, combine 6 quarts of water with 2 tablespoons kosher salt and bring it to a boil.', 'Grate the Parmesan and mozzarella cheese. Carefully separate four egg yolks and set aside.', 'Once boiling, add the pasta and cook until the pasta is just about al dente, about 7 minutes; then add peas and spinach and cook for 1 minute. Reserve 1 cup cooking water, and then drain the pasta and vegetables.', 'In a skillet, melt the butter, then stir in the cheeses, ¼ cup pasta water, and ¼ teaspoon kosher salt. Stir in the pasta and vegetables until creamy over low heat, adding more pasta water if necessary (note that the mozzarella will stick together in some places).', 'To serve, top each pasta serving with a whole egg yolk and additional Parmesan cheese, and stir the yolk into the pasta at the table (if you are uncomfortable serving egg yolks at the table, stir the egg yolks into the pasta in the skillet to heat them through). Serve immediately. (Note that the mozzarella cheese can become gummy the longer the pasta sits, so eat immediately if possible. Leftovers can be reheated in a skillet, but may not have the same creamy texture.)']}\n"
     ]
    }
   ],
   "source": [
    "#Here you can see the solution for our example website\n",
    "\n",
    "URL = \"https://www.acouplecooks.com/spring-vegetarian-spaghetti-carbonara\"\n",
    "\n",
    "def parse_website(url):\n",
    "    # Create a CloudScraper object\n",
    "    scraper = cloudscraper.create_scraper()\n",
    "\n",
    "    # Use the CloudScraper object to fetch the HTML content\n",
    "    response = scraper.get(URL)\n",
    "\n",
    "    # Parse the HTML content with BeautifulSoup\n",
    "    soup = BeautifulSoup(response.text, 'html.parser')\n",
    "    \n",
    "    #Get the title\n",
    "    title_unparsed = soup.select_one(\"title\")\n",
    "    fn = title_unparsed.text\n",
    "    \n",
    "    json_ld_script = soup.find(\"script\", {\"class\": \"yoast-schema-graph\"})\n",
    "\n",
    "    # Extract the content of the script tag\n",
    "    script_content = json_ld_script.string\n",
    "\n",
    "    # Load the JSON data from the script content\n",
    "    data = json.loads(script_content)\n",
    "\n",
    "    # Access the \"recipeIngredient\" list\n",
    "    recipe_ingredients = data[\"@graph\"][7][\"recipeIngredient\"]\n",
    "    \n",
    "    ingredients = [ingredient for ingredient in recipe_ingredients]\n",
    "    \n",
    "    #Access the instructions\n",
    "    recipe_instructions= data[\"@graph\"][7][\"recipeInstructions\"]\n",
    "    #the instructions list contains dictionaries as elements, take a look at how the list is organized\n",
    "    instructions = [step[\"text\"] for step in recipe_instructions]\n",
    "\n",
    "    return {'name': fn,\n",
    "            'ingredients': ingredients,\n",
    "            'instructions': instructions,\n",
    "            }\n",
    "    \n",
    "recipe = parse_website(URL)\n",
    "print (recipe)\n",
    "        "
   ]
  },
  {
   "cell_type": "code",
   "execution_count": 78,
   "metadata": {
    "colab": {
     "base_uri": "https://localhost:8080/",
     "height": 54
    },
    "id": "UQu9ecLEeMJ6",
    "outputId": "a8aa0e14-a8fb-4279-cf32-8dca97ab3412"
   },
   "outputs": [
    {
     "name": "stdout",
     "output_type": "stream",
     "text": [
      "{'name': 'Vegetarian carbonara recipe | Jamie Oliver pasta recipes', 'ingredients': ['400 g dried linguine ', '4 large free-range eggs ', '2 tablespoons soft ricotta cheese  ', '1  lemon ', '100 g fresh or frozen peas  ', '100 g baby spinach  '], 'instructions': ['Cook the linguine according to the packet instructions. ', 'Meanwhile, carefully crack the eggs into a small bowl and beat them with \\na fork. Season with a little black pepper, then stir in the ricotta finely grate in most of the lemon zest. ', 'When the pasta has 3 minutes left, add the peas. Reserve a little cooking water, then drain the linguine and peas, and return to the pan. ', 'Stir in the egg mixture and spinach with a wooden spoon – they’ll cook gently in the residual heat. Add a little pasta water to loosen, if needed. ', 'Share between bowls and serve with a green salad.']}\n"
     ]
    }
   ],
   "source": [
    "# -*- coding: utf-8 -*-\n",
    "\n",
    "import cloudscraper\n",
    "import json\n",
    "from bs4 import BeautifulSoup\n",
    "\n",
    "\n",
    "# Pass in a URL containing hRecipe, such as\n",
    "# https://www.jamieoliver.com/recipes/pasta-recipes/veggie-carbonara/\n",
    "\n",
    "URL = \"https://www.jamieoliver.com/recipes/pasta-recipes/veggie-carbonara/\"\n",
    "\n",
    "\n",
    "def get_list_from_ol(html):\n",
    "    list = []\n",
    "    for item in html.find_all('li'):\n",
    "        list.append(item.text)\n",
    "    return list\n",
    "# Parse out some of the pertinent information for a recipe.\n",
    "# See http://microformats.org/wiki/hrecipe.\n",
    "def parse_website(url):\n",
    "    scraper = cloudscraper.create_scraper()\n",
    "    response = scraper.get(URL)\n",
    "    soup = BeautifulSoup(response.text, 'html.parser')\n",
    "    title_unparsed = soup.select_one(\"title\")\n",
    "    title = title_unparsed.text\n",
    "\n",
    "    # Look for json ld data\n",
    "    json_ld_script = soup.find(\"script\", {\"type\": \"application/ld+json\"})\n",
    "\n",
    "    script_content = json_ld_script.string\n",
    "    data = json.loads(script_content)\n",
    "\n",
    "    recipe_ingredients = data[\"recipeIngredient\"]\n",
    "    \n",
    "    ingredients = [ingredient for ingredient in recipe_ingredients]\n",
    "    recipe_instructions = BeautifulSoup(data[\"recipeInstructions\"], 'html.parser')\n",
    "\n",
    "    instructions = get_list_from_ol(recipe_instructions)\n",
    "    \n",
    "\n",
    "    return {'name': title,\n",
    "            'ingredients': ingredients,\n",
    "            'instructions': instructions,\n",
    "            }\n",
    "    \n",
    "\n",
    "    \n",
    "recipe = parse_website(URL)\n",
    "print (recipe)"
   ]
  },
  {
   "cell_type": "markdown",
   "metadata": {
    "id": "ccURluAIeMJ8"
   },
   "source": [
    "But How can we get information not only from one website,  but from all? \n",
    "\n",
    "The answer: microformats.\n",
    "\n",
    "But rather than extracting with information manually from the schema.org or hRecipe microformats, we can use a package, ```scrape-schema-recipe``` \n",
    "\n",
    "Feel free to experiment with it. "
   ]
  },
  {
   "cell_type": "markdown",
   "metadata": {
    "id": "EBY-y_GreMJ8"
   },
   "source": [
    "### Task 2.2\n",
    "hRecipe is a microformat specifically created for recipes.\n",
    "Can you for example easily compare different dessert recipe ingredients? For inspiration you can look back at the exercises you did in Hands-on session 1 where you compared different sets of tweets."
   ]
  },
  {
   "cell_type": "code",
   "execution_count": 36,
   "metadata": {
    "tags": []
   },
   "outputs": [
    {
     "name": "stdout",
     "output_type": "stream",
     "text": [
      "Collecting scrape_schema_recipe\n",
      "  Downloading scrape_schema_recipe-0.2.2-py2.py3-none-any.whl (567 kB)\n",
      "\u001b[2K     \u001b[90m━━━━━━━━━━━━━━━━━━━━━━━━━━━━━━━━━━━━━━━\u001b[0m \u001b[32m567.1/567.1 kB\u001b[0m \u001b[31m7.3 MB/s\u001b[0m eta \u001b[36m0:00:00\u001b[0m00:01\u001b[0m00:01\u001b[0m\n",
      "\u001b[?25hRequirement already satisfied: requests in /Users/bazottie/.pyenv/versions/3.10.12/lib/python3.10/site-packages (from scrape_schema_recipe) (2.31.0)\n",
      "Collecting extruct\n",
      "  Downloading extruct-0.16.0-py2.py3-none-any.whl (26 kB)\n",
      "Requirement already satisfied: setuptools>=39.2.0 in /Users/bazottie/.pyenv/versions/3.10.12/lib/python3.10/site-packages (from scrape_schema_recipe) (65.5.0)\n",
      "Requirement already satisfied: isodate>=0.5.1 in /Users/bazottie/.pyenv/versions/3.10.12/lib/python3.10/site-packages (from scrape_schema_recipe) (0.6.1)\n",
      "Requirement already satisfied: six in /Users/bazottie/.pyenv/versions/3.10.12/lib/python3.10/site-packages (from isodate>=0.5.1->scrape_schema_recipe) (1.16.0)\n",
      "Requirement already satisfied: rdflib>=6.0.0 in /Users/bazottie/.pyenv/versions/3.10.12/lib/python3.10/site-packages (from extruct->scrape_schema_recipe) (7.0.0)\n",
      "Collecting html-text>=0.5.1\n",
      "  Downloading html_text-0.5.2-py2.py3-none-any.whl (7.5 kB)\n",
      "Collecting mf2py\n",
      "  Downloading mf2py-1.1.3-py3-none-any.whl (24 kB)\n",
      "Collecting jstyleson\n",
      "  Downloading jstyleson-0.0.2.tar.gz (2.0 kB)\n",
      "  Preparing metadata (setup.py) ... \u001b[?25ldone\n",
      "\u001b[?25hCollecting lxml\n",
      "  Downloading lxml-4.9.3.tar.gz (3.6 MB)\n",
      "\u001b[2K     \u001b[90m━━━━━━━━━━━━━━━━━━━━━━━━━━━━━━━━━━━━━━━━\u001b[0m \u001b[32m3.6/3.6 MB\u001b[0m \u001b[31m16.6 MB/s\u001b[0m eta \u001b[36m0:00:00\u001b[0ma \u001b[36m0:00:01\u001b[0m\n",
      "\u001b[?25h  Preparing metadata (setup.py) ... \u001b[?25ldone\n",
      "\u001b[?25hCollecting pyrdfa3\n",
      "  Downloading pyRdfa3-3.5.3-py3-none-any.whl (121 kB)\n",
      "\u001b[2K     \u001b[90m━━━━━━━━━━━━━━━━━━━━━━━━━━━━━━━━━━━━━━\u001b[0m \u001b[32m121.9/121.9 kB\u001b[0m \u001b[31m10.5 MB/s\u001b[0m eta \u001b[36m0:00:00\u001b[0m\n",
      "\u001b[?25hCollecting w3lib\n",
      "  Downloading w3lib-2.1.2-py3-none-any.whl (21 kB)\n",
      "Requirement already satisfied: certifi>=2017.4.17 in /Users/bazottie/.pyenv/versions/3.10.12/lib/python3.10/site-packages (from requests->scrape_schema_recipe) (2023.7.22)\n",
      "Requirement already satisfied: charset-normalizer<4,>=2 in /Users/bazottie/.pyenv/versions/3.10.12/lib/python3.10/site-packages (from requests->scrape_schema_recipe) (3.2.0)\n",
      "Requirement already satisfied: idna<4,>=2.5 in /Users/bazottie/.pyenv/versions/3.10.12/lib/python3.10/site-packages (from requests->scrape_schema_recipe) (3.4)\n",
      "Requirement already satisfied: urllib3<3,>=1.21.1 in /Users/bazottie/.pyenv/versions/3.10.12/lib/python3.10/site-packages (from requests->scrape_schema_recipe) (1.26.16)\n",
      "Requirement already satisfied: pyparsing<4,>=2.1.0 in /Users/bazottie/.pyenv/versions/3.10.12/lib/python3.10/site-packages (from rdflib>=6.0.0->extruct->scrape_schema_recipe) (3.0.9)\n",
      "Collecting html5lib>=1.0.1\n",
      "  Downloading html5lib-1.1-py2.py3-none-any.whl (112 kB)\n",
      "\u001b[2K     \u001b[90m━━━━━━━━━━━━━━━━━━━━━━━━━━━━━━━━━━━━━━━\u001b[0m \u001b[32m112.2/112.2 kB\u001b[0m \u001b[31m9.0 MB/s\u001b[0m eta \u001b[36m0:00:00\u001b[0m\n",
      "\u001b[?25hRequirement already satisfied: BeautifulSoup4>=4.6.0 in /Users/bazottie/.pyenv/versions/3.10.12/lib/python3.10/site-packages (from mf2py->extruct->scrape_schema_recipe) (4.12.2)\n",
      "Requirement already satisfied: soupsieve>1.2 in /Users/bazottie/.pyenv/versions/3.10.12/lib/python3.10/site-packages (from BeautifulSoup4>=4.6.0->mf2py->extruct->scrape_schema_recipe) (2.4.1)\n",
      "Collecting webencodings\n",
      "  Using cached webencodings-0.5.1-py2.py3-none-any.whl (11 kB)\n",
      "Building wheels for collected packages: jstyleson, lxml\n",
      "  Building wheel for jstyleson (setup.py) ... \u001b[?25ldone\n",
      "\u001b[?25h  Created wheel for jstyleson: filename=jstyleson-0.0.2-py3-none-any.whl size=2384 sha256=bb9b91a59e934c8becae9d1cb09f89d845ae1df6dd57b091420a9fdc17c5222f\n",
      "  Stored in directory: /Users/bazottie/Library/Caches/pip/wheels/12/51/c6/a1e751db88203e11c6d9ffe4683ca3d8c14b1479639bec1006\n",
      "  Building wheel for lxml (setup.py) ... \u001b[?25ldone\n",
      "\u001b[?25h  Created wheel for lxml: filename=lxml-4.9.3-cp310-cp310-macosx_13_0_arm64.whl size=1539151 sha256=1ed740e5032f66ceacebf1f42ca2163c5d7e3ea080268d1187e1a1e19c9ae0b9\n",
      "  Stored in directory: /Users/bazottie/Library/Caches/pip/wheels/38/0b/56/fd5ffdd76481c9220a131ff39258963d8384599f0109b688d0\n",
      "Successfully built jstyleson lxml\n",
      "Installing collected packages: webencodings, jstyleson, w3lib, lxml, html5lib, mf2py, html-text, pyrdfa3, extruct, scrape_schema_recipe\n",
      "Successfully installed extruct-0.16.0 html-text-0.5.2 html5lib-1.1 jstyleson-0.0.2 lxml-4.9.3 mf2py-1.1.3 pyrdfa3-3.5.3 scrape_schema_recipe-0.2.2 w3lib-2.1.2 webencodings-0.5.1\n",
      "\n",
      "\u001b[1m[\u001b[0m\u001b[34;49mnotice\u001b[0m\u001b[1;39;49m]\u001b[0m\u001b[39;49m A new release of pip is available: \u001b[0m\u001b[31;49m23.0.1\u001b[0m\u001b[39;49m -> \u001b[0m\u001b[32;49m23.3.1\u001b[0m\n",
      "\u001b[1m[\u001b[0m\u001b[34;49mnotice\u001b[0m\u001b[1;39;49m]\u001b[0m\u001b[39;49m To update, run: \u001b[0m\u001b[32;49mpip install --upgrade pip\u001b[0m\n",
      "Note: you may need to restart the kernel to use updated packages.\n"
     ]
    }
   ],
   "source": [
    "%pip install scrape_schema_recipe"
   ]
  },
  {
   "cell_type": "code",
   "execution_count": 79,
   "metadata": {},
   "outputs": [
    {
     "name": "stdout",
     "output_type": "stream",
     "text": [
      "Veggie carbonara\n",
      "['400 g dried linguine ', '4 large free-range eggs ', '2 tablespoons soft ricotta cheese  ', '1  lemon ', '100 g fresh or frozen peas  ', '100 g baby spinach  ']\n",
      "['Cook the linguine according to the packet instructions. ', 'Meanwhile, carefully crack the eggs into a small bowl and beat them with \\na fork. Season with a little black pepper, then stir in the ricotta finely grate in most of the lemon zest. ', 'When the pasta has 3 minutes left, add the peas. Reserve a little cooking water, then drain the linguine and peas, and return to the pan. ', 'Stir in the egg mixture and spinach with a wooden spoon – they’ll cook gently in the residual heat. Add a little pasta water to loosen, if needed. ', 'Share between bowls and serve with a green salad.']\n"
     ]
    },
    {
     "name": "stderr",
     "output_type": "stream",
     "text": [
      "/Users/bazottie/.pyenv/versions/3.10.12/lib/python3.10/site-packages/mf2py/parser.py:120: GuessedAtParserWarning: No parser was explicitly specified, so I'm using the best available HTML parser for this system (\"html.parser\"). This usually isn't a problem, but if you run this code on another system, or in a different virtual environment, it may use a different parser and behave differently.\n",
      "\n",
      "The code that caused this warning is on line 120 of the file /Users/bazottie/.pyenv/versions/3.10.12/lib/python3.10/site-packages/mf2py/parser.py. To get rid of this warning, pass the additional argument 'features=\"html.parser\"' to the BeautifulSoup constructor.\n",
      "\n",
      "  self.__doc__ = BeautifulSoup(doc)\n"
     ]
    }
   ],
   "source": [
    "import  scrape_schema_recipe\n",
    "URL = \"https://www.jamieoliver.com/recipes/pasta-recipes/veggie-carbonara/\"\n",
    "\n",
    "\n",
    "recipe_list = scrape_schema_recipe.scrape(URL, python_objects=True)\n",
    "recipe = recipe_list[0]\n",
    "\n",
    "instructionsHtml = BeautifulSoup(recipe['recipeInstructions'], 'html.parser')\n",
    "\n",
    "instructions = get_list_from_ol(instructionsHtml)\n",
    "\n",
    "print(recipe['name'])\n",
    "print(recipe['recipeIngredient'])\n",
    "print(instructions)"
   ]
  },
  {
   "cell_type": "markdown",
   "metadata": {
    "id": "n-J8fiLbeMJ9"
   },
   "source": [
    "## Exercise 3"
   ]
  },
  {
   "cell_type": "markdown",
   "metadata": {
    "id": "7XBeqJHVeMJ9"
   },
   "source": [
    "Schema.org is one of the most widely used annotations formats. Schema.org is a multipurpose  template that has been created by a consortium consisting of Yahoo!, Google and Microsoft. It can describe entities, events, products etc. Check out the vocabulary specs on Schema.org."
   ]
  },
  {
   "cell_type": "markdown",
   "metadata": {
    "id": "fiw8JClyeMJ-"
   },
   "source": [
    "### Task 3\n",
    "\n",
    "Parsing schema.org microdata. To parse this data you need to install the rdflib-microdata package, which you have done in one of the previous steps.\n",
    "\n"
   ]
  },
  {
   "cell_type": "code",
   "execution_count": 80,
   "metadata": {
    "colab": {
     "base_uri": "https://localhost:8080/",
     "height": 153
    },
    "id": "X2zr3fOOeMJ-",
    "outputId": "d123f981-d73f-470f-b5e9-8735819f894b"
   },
   "outputs": [
    {
     "name": "stdout",
     "output_type": "stream",
     "text": [
      "http://dbpedia.org/resource/Micheal_Jackson http://www.w3.org/ns/prov#wasDerivedFrom http://en.wikipedia.org/wiki/Micheal_Jackson?oldid=1056738079&ns=0\n",
      "http://dbpedia.org/resource/Micheal_Jackson http://dbpedia.org/ontology/wikiPageWikiLink http://dbpedia.org/resource/Michael_Jackson\n",
      "http://dbpedia.org/resource/Micheal_Jackson http://dbpedia.org/property/wikiPageUsesTemplate http://dbpedia.org/resource/Template:R_from_misspelling\n",
      "http://dbpedia.org/resource/Micheal_Jackson http://www.w3.org/2000/01/rdf-schema#label Micheal Jackson\n",
      "http://dbpedia.org/resource/Micheal_Jackson http://dbpedia.org/ontology/wikiPageRedirects http://dbpedia.org/resource/Michael_Jackson\n",
      "http://dbpedia.org/resource/Micheal_Jackson http://dbpedia.org/ontology/wikiPageRevisionID 1056738079\n",
      "http://dbpedia.org/resource/Micheal_Jackson http://dbpedia.org/ontology/wikiPageLength 68\n",
      "http://dbpedia.org/resource/Micheal_Jackson http://xmlns.com/foaf/0.1/isPrimaryTopicOf http://en.wikipedia.org/wiki/Micheal_Jackson\n",
      "http://dbpedia.org/resource/Micheal_Jackson http://dbpedia.org/ontology/wikiPageID 14995602\n"
     ]
    }
   ],
   "source": [
    "from rdflib import Graph\n",
    "\n",
    "# Source: https://www.youtube.com/watch?v=sCU214rbRZ0\n",
    "# Pass in a URL containing Schema.org microformats\n",
    "URL = \"http://dbpedia.org/resource/Micheal_Jackson\"\n",
    "\n",
    "# Initialize a graph\n",
    "g = Graph()\n",
    "\n",
    "# Parse in an RDF file graph dbpedia\n",
    "result = g.parse(location=URL)\n",
    "\n",
    "# Loop through first 10 triples in the graph\n",
    "for index, (sub, pred, obj) in enumerate(g):\n",
    "    print(sub, pred, obj)\n",
    "    if index == 10:\n",
    "        break"
   ]
  },
  {
   "cell_type": "code",
   "execution_count": 81,
   "metadata": {
    "colab": {
     "base_uri": "https://localhost:8080/",
     "height": 34
    },
    "id": "hrQ2EuY5JAn1",
    "outputId": "eba60ebb-7ac5-4451-c16e-3f68e66af7f3"
   },
   "outputs": [
    {
     "name": "stdout",
     "output_type": "stream",
     "text": [
      "Graph has 9 facts\n"
     ]
    }
   ],
   "source": [
    "# Print the size of the Graph\n",
    "print(f'Graph has {len(g)} facts')"
   ]
  },
  {
   "cell_type": "code",
   "execution_count": 82,
   "metadata": {
    "colab": {
     "base_uri": "https://localhost:8080/",
     "height": 323
    },
    "id": "IAO1JllwJMqO",
    "outputId": "08f5e32d-d1a6-4a30-878a-ce7b768a8811"
   },
   "outputs": [
    {
     "name": "stdout",
     "output_type": "stream",
     "text": [
      "@prefix foaf: <http://xmlns.com/foaf/0.1/> .\n",
      "@prefix ns1: <http://dbpedia.org/ontology/> .\n",
      "@prefix ns2: <http://dbpedia.org/property/> .\n",
      "@prefix prov: <http://www.w3.org/ns/prov#> .\n",
      "@prefix rdfs: <http://www.w3.org/2000/01/rdf-schema#> .\n",
      "@prefix xsd: <http://www.w3.org/2001/XMLSchema#> .\n",
      "\n",
      "<http://dbpedia.org/resource/Micheal_Jackson> rdfs:label \"Micheal Jackson\"@en ;\n",
      "    ns1:wikiPageID 14995602 ;\n",
      "    ns1:wikiPageLength \"68\"^^xsd:nonNegativeInteger ;\n",
      "    ns1:wikiPageRedirects <http://dbpedia.org/resource/Michael_Jackson> ;\n",
      "    ns1:wikiPageRevisionID 1056738079 ;\n",
      "    ns1:wikiPageWikiLink <http://dbpedia.org/resource/Michael_Jackson> ;\n",
      "    ns2:wikiPageUsesTemplate <http://dbpedia.org/resource/Template:R_from_misspelling> ;\n",
      "    prov:wasDerivedFrom <http://en.wikipedia.org/wiki/Micheal_Jackson?oldid=1056738079&ns=0> ;\n",
      "    foaf:isPrimaryTopicOf <http://en.wikipedia.org/wiki/Micheal_Jackson> .\n",
      "\n",
      "\n"
     ]
    }
   ],
   "source": [
    "# Print out the entire Graph in the RDF Turtle format\n",
    "print(g.serialize(format='ttl'))"
   ]
  },
  {
   "cell_type": "markdown",
   "metadata": {
    "id": "dzbynasAeMKA"
   },
   "source": [
    "### Task 3.1 \n",
    "Compare the schema.org information about a band on last.fm to the Facebook Open Graph information about the same band from Facebook. What are the differences? Which format do you think supports better interoperability?"
   ]
  },
  {
   "cell_type": "code",
   "execution_count": 93,
   "metadata": {},
   "outputs": [
    {
     "name": "stdout",
     "output_type": "stream",
     "text": [
      "[   {   'json-ld': [],\n",
      "        'microdata': [   {   '@context': 'http://schema.org',\n",
      "                             '@type': 'MusicGroup',\n",
      "                             'album': [   {   '@type': 'MusicAlbum',\n",
      "                                              'byArtist': 'Black Country, New '\n",
      "                                                          'Road',\n",
      "                                              'image': 'https://lastfm.freetls.fastly.net/i/u/avatar170s/c3e33a2d86475d3967180137e43edb38.jpg',\n",
      "                                              'name': 'Glastonbury 2023',\n",
      "                                              'url': 'https://www.last.fm/music/Black+Country,+New+Road/Glastonbury+2023'},\n",
      "                                          {   '@type': 'MusicAlbum',\n",
      "                                              'byArtist': 'Black Country, New '\n",
      "                                                          'Road',\n",
      "                                              'image': 'https://lastfm.freetls.fastly.net/i/u/300x300/3332b3cee5de8598dbd080f8e2783f93.jpg',\n",
      "                                              'name': 'Ants From Up There',\n",
      "                                              'url': 'https://www.last.fm/music/Black+Country,+New+Road/Ants+From+Up+There'},\n",
      "                                          {   '@type': 'MusicAlbum',\n",
      "                                              'byArtist': 'Black Country, New '\n",
      "                                                          'Road',\n",
      "                                              'image': 'https://lastfm.freetls.fastly.net/i/u/300x300/972219222c95598bb474d3631d289ad3.jpg',\n",
      "                                              'name': 'For the First Time',\n",
      "                                              'url': 'https://www.last.fm/music/Black+Country,+New+Road/For+the+First+Time'},\n",
      "                                          {   '@type': 'MusicAlbum',\n",
      "                                              'byArtist': 'Black Country, New '\n",
      "                                                          'Road',\n",
      "                                              'image': 'https://lastfm.freetls.fastly.net/i/u/300x300/73a09ce78b38c58b16e876eda5cf4fe5.jpg',\n",
      "                                              'name': 'Live At Bush Hall',\n",
      "                                              'url': 'https://www.last.fm/music/Black+Country,+New+Road/Live+At+Bush+Hall'},\n",
      "                                          {   '@type': 'MusicAlbum',\n",
      "                                              'byArtist': 'Black Country, New '\n",
      "                                                          'Road',\n",
      "                                              'image': 'https://lastfm.freetls.fastly.net/i/u/300x300/b0d46999b5806b12ab6091da5fcf6e26.jpg',\n",
      "                                              'name': 'Sunglasses',\n",
      "                                              'url': 'https://www.last.fm/music/Black+Country,+New+Road/Sunglasses'}],\n",
      "                             'image': 'https://lastfm.freetls.fastly.net/i/u/ar0/4accb23aa9645817ecf0a97d3ef61134.jpg',\n",
      "                             'name': 'Black Country, New Road',\n",
      "                             'track': [   {   '@type': 'MusicRecording',\n",
      "                                              'byArtist': 'Black Country, New '\n",
      "                                                          'Road',\n",
      "                                              'name': 'The Place Where He '\n",
      "                                                      'Inserted The Blade',\n",
      "                                              'url': 'https://www.last.fm/music/Black+Country,+New+Road/_/The+Place+Where+He+Inserted+The+Blade'},\n",
      "                                          {   '@type': 'MusicRecording',\n",
      "                                              'name': 'The Place Where He '\n",
      "                                                      'Inserted The Blade'},\n",
      "                                          {   '@type': 'MusicRecording',\n",
      "                                              'name': 'Concorde'},\n",
      "                                          {   '@type': 'MusicRecording',\n",
      "                                              'name': 'Chaos Space Marine'},\n",
      "                                          {   '@type': 'MusicRecording',\n",
      "                                              'name': 'Good Will Hunting'},\n",
      "                                          {   '@type': 'MusicRecording',\n",
      "                                              'name': 'Intro'},\n",
      "                                          {   '@type': 'MusicRecording',\n",
      "                                              'name': 'Haldern'},\n",
      "                                          {   '@type': 'MusicRecording',\n",
      "                                              'name': 'Bread Song'},\n",
      "                                          {   '@type': 'MusicRecording',\n",
      "                                              'name': 'Basketball Shoes'},\n",
      "                                          {   '@type': 'MusicRecording',\n",
      "                                              'name': 'Athens, France'},\n",
      "                                          {   '@type': 'MusicRecording',\n",
      "                                              'name': 'Sunglasses'}],\n",
      "                             'url': 'https://www.last.fm/music/Black+Country,+New+Road'},\n",
      "                         {   '@context': 'http://schema.org',\n",
      "                             '@type': 'MusicGroup',\n",
      "                             'name': 'black midi',\n",
      "                             'url': 'https://www.last.fm/music/black+midi'},\n",
      "                         {   '@context': 'http://schema.org',\n",
      "                             '@type': 'MusicGroup',\n",
      "                             'name': 'Squid',\n",
      "                             'url': 'https://www.last.fm/music/Squid'},\n",
      "                         {   '@context': 'http://schema.org',\n",
      "                             '@type': 'MusicGroup',\n",
      "                             'name': 'Maruja',\n",
      "                             'url': 'https://www.last.fm/music/Maruja'},\n",
      "                         {   '@context': 'http://schema.org',\n",
      "                             '@type': 'MusicGroup',\n",
      "                             'name': 'black midi',\n",
      "                             'url': 'https://www.last.fm/music/black+midi'},\n",
      "                         {   '@context': 'http://schema.org',\n",
      "                             '@type': 'MusicGroup',\n",
      "                             'name': 'Squid',\n",
      "                             'url': 'https://www.last.fm/music/Squid'},\n",
      "                         {   '@context': 'http://schema.org',\n",
      "                             '@type': 'MusicGroup',\n",
      "                             'name': 'Maruja',\n",
      "                             'url': 'https://www.last.fm/music/Maruja'},\n",
      "                         {   '@context': 'http://schema.org',\n",
      "                             '@type': 'MusicGroup',\n",
      "                             'name': 'Shame',\n",
      "                             'url': 'https://www.last.fm/music/Shame'},\n",
      "                         {   '@context': 'http://schema.org',\n",
      "                             '@type': 'MusicGroup',\n",
      "                             'name': 'Slint',\n",
      "                             'url': 'https://www.last.fm/music/Slint'},\n",
      "                         {   '@context': 'http://schema.org',\n",
      "                             '@type': 'MusicGroup',\n",
      "                             'name': 'HMLTD',\n",
      "                             'url': 'https://www.last.fm/music/HMLTD'},\n",
      "                         {   '@context': 'http://schema.org',\n",
      "                             '@type': 'Organization',\n",
      "                             'name': 'Last.fm',\n",
      "                             'sameAs': [   'https://www.facebook.com/lastfm',\n",
      "                                           'https://twitter.com/lastfm',\n",
      "                                           'https://www.instagram.com/last_fm',\n",
      "                                           'https://www.youtube.com/user/lastfm'],\n",
      "                             'url': 'https://www.last.fm'}],\n",
      "        'opengraph': [   {   '@context': {'og': 'http://ogp.me/ns#'},\n",
      "                             '@type': 'website',\n",
      "                             'og:description': 'Listen to music from Black '\n",
      "                                               'Country, New Road like The '\n",
      "                                               'Place Where He Inserted The '\n",
      "                                               'Blade, Concorde & more. Find '\n",
      "                                               'the latest tracks, albums, and '\n",
      "                                               'images from Black Country, New '\n",
      "                                               'Road.',\n",
      "                             'og:image': 'https://lastfm.freetls.fastly.net/i/u/ar0/4accb23aa9645817ecf0a97d3ef61134.jpg',\n",
      "                             'og:image:height': '630',\n",
      "                             'og:image:width': '1200',\n",
      "                             'og:site_name': 'Last.fm',\n",
      "                             'og:title': 'Black Country, New Road music, '\n",
      "                                         'videos, stats, and photos | Last.fm',\n",
      "                             'og:url': 'https://www.last.fm/music/Black+Country,+New+Road'}]},\n",
      "    {   'json-ld': [],\n",
      "        'microdata': [],\n",
      "        'opengraph': [   {   '@context': {'og': 'http://ogp.me/ns#'},\n",
      "                             '@type': 'video.other',\n",
      "                             'og:description': 'Black Country, New Road. '\n",
      "                                               '28.062 vind-ik-leuks · 147 '\n",
      "                                               'personen praten hierover. Live '\n",
      "                                               'at Bush Hall \\n'\n",
      "                                               'https://linktr.ee/bcnr',\n",
      "                             'og:image': 'https://scontent-ams2-1.xx.fbcdn.net/v/t39.30808-1/336676414_545341867580959_1869189835964661836_n.jpg?stp=dst-jpg_p720x720&_nc_cat=100&ccb=1-7&_nc_sid=5f2048&_nc_ohc=k4Uz6U0XCOkAX-AMPGW&_nc_ht=scontent-ams2-1.xx&oh=00_AfCAiKu22gjb4pZ1LuOg4OZo8NTeYGOYOnUUgvjhKIIdaQ&oe=654DD56F',\n",
      "                             'og:image:alt': 'Black Country, New Road',\n",
      "                             'og:locale': 'en_US',\n",
      "                             'og:title': 'Black Country, New Road',\n",
      "                             'og:url': 'https://www.facebook.com/BlackCountryNewRoad'}]}]\n"
     ]
    }
   ],
   "source": [
    "import pandas as pd\n",
    "import extruct\n",
    "import requests\n",
    "from w3lib.html import get_base_url\n",
    "from urllib.parse import urlparse\n",
    "import pprint\n",
    "pp = pprint.PrettyPrinter(indent=4)\n",
    "\n",
    "def extract_metadata(url):\n",
    "    \"\"\"Extract all metadata present in the page and return a dictionary of metadata lists. \n",
    "    \n",
    "    Args:\n",
    "        url (string): URL of page from which to extract metadata. \n",
    "    \n",
    "    Returns: \n",
    "        metadata (dict): Dictionary of json-ld, microdata, and opengraph lists. \n",
    "        Each of the lists present within the dictionary contains multiple dictionaries.\n",
    "    \"\"\"\n",
    "    \n",
    "    r = requests.get(url)\n",
    "    base_url = get_base_url(r.text, r.url)\n",
    "    metadata = extruct.extract(r.text, \n",
    "                               base_url=base_url,\n",
    "                               uniform=True,\n",
    "                               syntaxes=['json-ld',\n",
    "                                         'microdata',\n",
    "                                         'opengraph'])\n",
    "    return metadata\n",
    "\n",
    "LASTFM = \"https://www.last.fm/music/Black+Country,+New+Road\"\n",
    "FACEBOOK = \"https://www.facebook.com/BlackCountryNewRoad/\"\n",
    "lastfm_meta = extract_metadata(LASTFM)\n",
    "facebook_meta = extract_metadata(FACEBOOK)\n",
    "\n",
    "pp.pprint([lastfm_meta, facebook_meta])\n",
    "\n"
   ]
  },
  {
   "cell_type": "markdown",
   "metadata": {},
   "source": [
    "### Task 3.1 Answer\n",
    "Last.fm uses the schema.org `MusicGroup` type, which has standardized detailed properties for the specific entity type.\n",
    "Facebook uses only generic open graph propeties which are document specific and not specific to the semantic object we are looking for.\n",
    "OpenGraph is a more general format, but it is not as detailed as schema.org and is in the end, very specific to Facebook.\n",
    "Therefore, last.fm/schema.org supports better interoperability."
   ]
  },
  {
   "cell_type": "markdown",
   "metadata": {
    "id": "Nocs4YDPeMKB"
   },
   "source": [
    "### Task 3.2\n",
    "Explore the various microformats at http://microformats.org/ and compare the output of the exercises with the output of http://microformats.org/. Think about possible microformats you want to support in your final assignment and read up on how to parse them."
   ]
  }
 ],
 "metadata": {
  "colab": {
   "collapsed_sections": [],
   "name": "Hands-on_2_microformats.ipynb",
   "provenance": [],
   "toc_visible": true
  },
  "kernelspec": {
   "display_name": "Python 3 (ipykernel)",
   "language": "python",
   "name": "python3"
  },
  "language_info": {
   "codemirror_mode": {
    "name": "ipython",
    "version": 3
   },
   "file_extension": ".py",
   "mimetype": "text/x-python",
   "name": "python",
   "nbconvert_exporter": "python",
   "pygments_lexer": "ipython3",
   "version": "3.10.12"
  }
 },
 "nbformat": 4,
 "nbformat_minor": 4
}
