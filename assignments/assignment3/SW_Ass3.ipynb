{
 "cells": [
  {
   "cell_type": "markdown",
   "metadata": {},
   "source": [
    "# The Social Web Assignment 3: Network Analysis\n",
    "\n",
    "- Instructors: Davide Ceolin, Emma Beauxis-Aussalet.\n",
    "- TAs: Zubaria Inayat, Maxim Sergeev, Zhuofan Mei, Alexander Schmatz, Ling Jin.\n",
    "- Exercises for Hands-on session 3 (original notebook design by Michael Accetto)\n",
    "\n",
    "Many interesting data on the Social Web is structured as a graph or network. This notebook will guide you through the use of the networkx library and the construction of a basic network object, made of nodes and edges. After it you will have learned how to measure basic network properties and how to analyse the structure of a network. \n",
    "\n",
    "1. Make sure you followed the instructions in the 'GettingStarted.pdf' guide.\n",
    "2. Activate your virtual environment\n",
    "3. Install the networkX as by running the following cell. We will also install matplotlib, needed to show the graph created with networkx."
   ]
  },
  {
   "cell_type": "code",
   "execution_count": 1,
   "metadata": {},
   "outputs": [
    {
     "name": "stdout",
     "output_type": "stream",
     "text": [
      "Requirement already satisfied: networkx in /Users/bazottie/.pyenv/versions/3.10.12/lib/python3.10/site-packages (3.1)\n"
     ]
    },
    {
     "name": "stdout",
     "output_type": "stream",
     "text": [
      "\n",
      "\u001b[1m[\u001b[0m\u001b[34;49mnotice\u001b[0m\u001b[1;39;49m]\u001b[0m\u001b[39;49m A new release of pip is available: \u001b[0m\u001b[31;49m23.0.1\u001b[0m\u001b[39;49m -> \u001b[0m\u001b[32;49m23.3.1\u001b[0m\n",
      "\u001b[1m[\u001b[0m\u001b[34;49mnotice\u001b[0m\u001b[1;39;49m]\u001b[0m\u001b[39;49m To update, run: \u001b[0m\u001b[32;49mpip install --upgrade pip\u001b[0m\n",
      "Note: you may need to restart the kernel to use updated packages.\n",
      "Requirement already satisfied: matplotlib in /Users/bazottie/.pyenv/versions/3.10.12/lib/python3.10/site-packages (3.7.2)\n",
      "Requirement already satisfied: python-dateutil>=2.7 in /Users/bazottie/.pyenv/versions/3.10.12/lib/python3.10/site-packages (from matplotlib) (2.8.2)\n",
      "Requirement already satisfied: cycler>=0.10 in /Users/bazottie/.pyenv/versions/3.10.12/lib/python3.10/site-packages (from matplotlib) (0.11.0)\n",
      "Requirement already satisfied: kiwisolver>=1.0.1 in /Users/bazottie/.pyenv/versions/3.10.12/lib/python3.10/site-packages (from matplotlib) (1.4.5)\n",
      "Requirement already satisfied: fonttools>=4.22.0 in /Users/bazottie/.pyenv/versions/3.10.12/lib/python3.10/site-packages (from matplotlib) (4.42.1)\n",
      "Requirement already satisfied: packaging>=20.0 in /Users/bazottie/.pyenv/versions/3.10.12/lib/python3.10/site-packages (from matplotlib) (23.1)\n",
      "Requirement already satisfied: numpy>=1.20 in /Users/bazottie/.pyenv/versions/3.10.12/lib/python3.10/site-packages (from matplotlib) (1.24.3)\n",
      "Requirement already satisfied: pyparsing<3.1,>=2.3.1 in /Users/bazottie/.pyenv/versions/3.10.12/lib/python3.10/site-packages (from matplotlib) (3.0.9)\n",
      "Requirement already satisfied: contourpy>=1.0.1 in /Users/bazottie/.pyenv/versions/3.10.12/lib/python3.10/site-packages (from matplotlib) (1.1.0)\n",
      "Requirement already satisfied: pillow>=6.2.0 in /Users/bazottie/.pyenv/versions/3.10.12/lib/python3.10/site-packages (from matplotlib) (10.0.0)\n",
      "Requirement already satisfied: six>=1.5 in /Users/bazottie/.pyenv/versions/3.10.12/lib/python3.10/site-packages (from python-dateutil>=2.7->matplotlib) (1.16.0)\n",
      "\n",
      "\u001b[1m[\u001b[0m\u001b[34;49mnotice\u001b[0m\u001b[1;39;49m]\u001b[0m\u001b[39;49m A new release of pip is available: \u001b[0m\u001b[31;49m23.0.1\u001b[0m\u001b[39;49m -> \u001b[0m\u001b[32;49m23.3.1\u001b[0m\n",
      "\u001b[1m[\u001b[0m\u001b[34;49mnotice\u001b[0m\u001b[1;39;49m]\u001b[0m\u001b[39;49m To update, run: \u001b[0m\u001b[32;49mpip install --upgrade pip\u001b[0m\n",
      "Note: you may need to restart the kernel to use updated packages.\n"
     ]
    }
   ],
   "source": [
    "%pip install networkx\n",
    "%pip install matplotlib"
   ]
  },
  {
   "cell_type": "markdown",
   "metadata": {},
   "source": [
    "## Background\n",
    "Classic social network analysis studies a network's structure. In a social network, a person is considered a *node* or *vertex*, and a relationship between people is a *link* or *edge*. \n",
    "Many network statistics can yield insights on the underlying social structure. At the same time, their intuitive visual representation aids in developing working hypothesis explaining their dynamics.\n",
    "\n",
    "Statistics can quantify the importance of a social agent and how different communities cluster together.\n",
    "Others can uncover the routes through which information spreads, as well as the origin of a specific disease or rumor in a group.  \n",
    "\n",
    "Let's import all the packages needed for the notebook (note: this should run without output):"
   ]
  },
  {
   "cell_type": "code",
   "execution_count": 2,
   "metadata": {},
   "outputs": [],
   "source": [
    "import networkx as nx\n",
    "from matplotlib import pyplot as plt\n",
    "import pickle"
   ]
  },
  {
   "cell_type": "markdown",
   "metadata": {},
   "source": [
    "## Making a graph\n",
    "In this part, a few simple exemples will be presented to get familiar with the python constructs used throughout the notebook(s).\n",
    "\n",
    "We will start here by making a graph. Here we use the basic Graph Object to instantiate our graph: `G`. "
   ]
  },
  {
   "cell_type": "code",
   "execution_count": 3,
   "metadata": {},
   "outputs": [],
   "source": [
    "G = nx.Graph()"
   ]
  },
  {
   "cell_type": "markdown",
   "metadata": {},
   "source": [
    "Let's add nodes. We can use `add_node` for a one-off node addition. \\\n",
    "We can also add nodes in bulk with the `add_nodes_from` method, which takes an iterable (e.g. list, tuple, list of dictionaries) as main argument.  "
   ]
  },
  {
   "cell_type": "code",
   "execution_count": 4,
   "metadata": {},
   "outputs": [],
   "source": [
    "# Add one node:\n",
    "G.add_node(1)\n",
    "# Add multiple nodes 2, 3, 4, .. 8:\n",
    "G.add_nodes_from([i for i in range(2, 9)])"
   ]
  },
  {
   "cell_type": "markdown",
   "metadata": {},
   "source": [
    "Coding Tip: *If you are not familiar with list comprehensions, such as the following:*   `list = [i for i in range(10)]`\n",
    "\n",
    "*Please check out this page: https://runestone.academy/runestone/books/published/thinkcspy/Lists/ListComprehensions.html*"
   ]
  },
  {
   "cell_type": "code",
   "execution_count": 5,
   "metadata": {},
   "outputs": [
    {
     "data": {
      "text/plain": [
       "NodeView((1, 2, 3, 4, 5, 6, 7, 8))"
      ]
     },
     "execution_count": 5,
     "metadata": {},
     "output_type": "execute_result"
    }
   ],
   "source": [
    "# Visualize all graph nodes:\n",
    "G.nodes()"
   ]
  },
  {
   "cell_type": "markdown",
   "metadata": {},
   "source": [
    "Attributes can be useful for storing data of interest to our research. We will will provide some dummy \"score\" data  for the moment, just for demonstration purposes. \\\n",
    "Later, we will retrieve real data from external sources."
   ]
  },
  {
   "cell_type": "code",
   "execution_count": 7,
   "metadata": {},
   "outputs": [
    {
     "data": {
      "text/plain": [
       "NodeDataView({1: {}, 2: {}, 3: {}, 4: {}, 5: {}, 6: {}, 7: {}, 8: {}, 9: {'ID': 'user_9', 'score': 80}})"
      ]
     },
     "execution_count": 7,
     "metadata": {},
     "output_type": "execute_result"
    }
   ],
   "source": [
    "n = 9\n",
    "\n",
    "node_info = {'ID': 'user_' + str(9), 'score': 80}\n",
    "\n",
    "G.add_node(9, **node_info)\n",
    "# nx.set_node_attributes(G, name='ID', values='user_9')\n",
    "G.nodes(data=True)"
   ]
  },
  {
   "cell_type": "code",
   "execution_count": 8,
   "metadata": {},
   "outputs": [
    {
     "name": "stdout",
     "output_type": "stream",
     "text": [
      "[(10, {'ID': 'user_10', 'score': 72}), (11, {'ID': 'user_11', 'score': 68}), (12, {'ID': 'user_12', 'score': 95}), (13, {'ID': 'user_13', 'score': 86}), (14, {'ID': 'user_14', 'score': 79})]\n",
      "\n",
      "This dictionary will provide the following information to the graph:\n",
      "\n",
      "node: 10\n",
      "\tID:\tuser_10\n",
      "\tscore:\t72\n",
      "node: 11\n",
      "\tID:\tuser_11\n",
      "\tscore:\t68\n",
      "node: 12\n",
      "\tID:\tuser_12\n",
      "\tscore:\t95\n",
      "node: 13\n",
      "\tID:\tuser_13\n",
      "\tscore:\t86\n",
      "node: 14\n",
      "\tID:\tuser_14\n",
      "\tscore:\t79\n"
     ]
    }
   ],
   "source": [
    "from random import randrange\n",
    "# create 5 more users, giving them corresponding IDs and random scores.\n",
    "# this will be used in the following cell to insert information in the graph.\n",
    "nodes_with_attributes = [(i, {'ID': 'user_' + str(i), 'score': randrange(40, 100)}) for i in range(10, 15)]\n",
    "\n",
    "print(nodes_with_attributes)\n",
    "\n",
    "print('\\nThis dictionary will provide the following information to the graph:\\n')\n",
    "for node_and_attributes in nodes_with_attributes:\n",
    "    print(f'node: {node_and_attributes[0]}')\n",
    "    \n",
    "    for key, value in node_and_attributes[1].items():\n",
    "        print(f'\\t{key}:\\t{value}')"
   ]
  },
  {
   "cell_type": "code",
   "execution_count": 9,
   "metadata": {},
   "outputs": [],
   "source": [
    "# add the nodes and attributes:\n",
    "G.add_nodes_from(nodes_with_attributes)"
   ]
  },
  {
   "cell_type": "code",
   "execution_count": 10,
   "metadata": {},
   "outputs": [
    {
     "data": {
      "text/plain": [
       "NodeView((1, 2, 3, 4, 5, 6, 7, 8, 9, 10, 11, 12, 13, 14))"
      ]
     },
     "execution_count": 10,
     "metadata": {},
     "output_type": "execute_result"
    }
   ],
   "source": [
    "G.nodes() # show only nodes"
   ]
  },
  {
   "cell_type": "code",
   "execution_count": 11,
   "metadata": {},
   "outputs": [
    {
     "data": {
      "text/plain": [
       "NodeDataView({1: {}, 2: {}, 3: {}, 4: {}, 5: {}, 6: {}, 7: {}, 8: {}, 9: {'ID': 'user_9', 'score': 80}, 10: {'ID': 'user_10', 'score': 72}, 11: {'ID': 'user_11', 'score': 68}, 12: {'ID': 'user_12', 'score': 95}, 13: {'ID': 'user_13', 'score': 86}, 14: {'ID': 'user_14', 'score': 79}})"
      ]
     },
     "execution_count": 11,
     "metadata": {},
     "output_type": "execute_result"
    }
   ],
   "source": [
    "G.nodes(data=True) # show everything "
   ]
  },
  {
   "cell_type": "code",
   "execution_count": 12,
   "metadata": {},
   "outputs": [
    {
     "name": "stdout",
     "output_type": "stream",
     "text": [
      "1 {}\n",
      "2 {}\n",
      "3 {}\n",
      "4 {}\n",
      "5 {}\n",
      "6 {}\n",
      "7 {}\n",
      "8 {}\n",
      "9 {'ID': 'user_9', 'score': 80}\n",
      "10 {'ID': 'user_10', 'score': 72}\n",
      "11 {'ID': 'user_11', 'score': 68}\n",
      "12 {'ID': 'user_12', 'score': 95}\n",
      "13 {'ID': 'user_13', 'score': 86}\n",
      "14 {'ID': 'user_14', 'score': 79}\n"
     ]
    }
   ],
   "source": [
    "for k, v in dict(G.nodes(data=True)).items():\n",
    "    print(k, v)"
   ]
  },
  {
   "cell_type": "markdown",
   "metadata": {
    "tags": []
   },
   "source": [
    "### Task 1.a\n",
    "There seem to be missing information for some of the nodes in `G`. \\\n",
    "\n",
    "* add those attributes to the incomplete nodes. \n",
    "* Add a third attribute of your own choice containing a value of type `string`, `integer` or `float`. \\\n",
    "   Some ideas could be: `favourite_pet`, `number_of_cakes_eaten_on_a_single_day`, or `probability_of_survival`\n",
    "* At the end, show the complete set of nodes along with their attributes, fetching directly from the graph."
   ]
  },
  {
   "cell_type": "code",
   "execution_count": 13,
   "metadata": {
    "tags": []
   },
   "outputs": [
    {
     "name": "stdout",
     "output_type": "stream",
     "text": [
      "[(1, {'ID': 'user_1', 'score': 74}), (2, {'ID': 'user_2', 'score': 88}), (3, {'ID': 'user_3', 'score': 70}), (4, {'ID': 'user_4', 'score': 63}), (5, {'ID': 'user_5', 'score': 90}), (6, {'ID': 'user_6', 'score': 51}), (7, {'ID': 'user_7', 'score': 81}), (8, {'ID': 'user_8', 'score': 94})]\n",
      "\n",
      "This dictionary will provide the following information to the graph:\n",
      "\n"
     ]
    }
   ],
   "source": [
    "from random import randrange\n",
    "nodes_with_attributes = [(i, {'ID': 'user_' + str(i), 'score': randrange(40, 100)}) for i in range(1, 9)]\n",
    "print(nodes_with_attributes)\n",
    "print('\\nThis dictionary will provide the following information to the graph:\\n')"
   ]
  },
  {
   "cell_type": "code",
   "execution_count": 14,
   "metadata": {},
   "outputs": [
    {
     "name": "stdout",
     "output_type": "stream",
     "text": [
      "node: 1\n",
      "\tID:\tuser_1\n",
      "\tscore:\t74\n",
      "node: 2\n",
      "\tID:\tuser_2\n",
      "\tscore:\t88\n",
      "node: 3\n",
      "\tID:\tuser_3\n",
      "\tscore:\t70\n",
      "node: 4\n",
      "\tID:\tuser_4\n",
      "\tscore:\t63\n",
      "node: 5\n",
      "\tID:\tuser_5\n",
      "\tscore:\t90\n",
      "node: 6\n",
      "\tID:\tuser_6\n",
      "\tscore:\t51\n",
      "node: 7\n",
      "\tID:\tuser_7\n",
      "\tscore:\t81\n",
      "node: 8\n",
      "\tID:\tuser_8\n",
      "\tscore:\t94\n"
     ]
    },
    {
     "data": {
      "text/plain": [
       "NodeView((1, 2, 3, 4, 5, 6, 7, 8, 9, 10, 11, 12, 13, 14))"
      ]
     },
     "execution_count": 14,
     "metadata": {},
     "output_type": "execute_result"
    }
   ],
   "source": [
    "for node_and_attributes in nodes_with_attributes:\n",
    "    print(f'node: {node_and_attributes[0]}')\n",
    "    \n",
    "    for key, value in node_and_attributes[1].items():\n",
    "        print(f'\\t{key}:\\t{value}')\n",
    "G.add_nodes_from(nodes_with_attributes)\n",
    "G.nodes() # show only nodes"
   ]
  },
  {
   "cell_type": "code",
   "execution_count": 15,
   "metadata": {},
   "outputs": [
    {
     "name": "stdout",
     "output_type": "stream",
     "text": [
      "1 {'ID': 'user_1', 'score': 74}\n",
      "2 {'ID': 'user_2', 'score': 88}\n",
      "3 {'ID': 'user_3', 'score': 70}\n",
      "4 {'ID': 'user_4', 'score': 63}\n",
      "5 {'ID': 'user_5', 'score': 90}\n",
      "6 {'ID': 'user_6', 'score': 51}\n",
      "7 {'ID': 'user_7', 'score': 81}\n",
      "8 {'ID': 'user_8', 'score': 94}\n",
      "9 {'ID': 'user_9', 'score': 80}\n",
      "10 {'ID': 'user_10', 'score': 72}\n",
      "11 {'ID': 'user_11', 'score': 68}\n",
      "12 {'ID': 'user_12', 'score': 95}\n",
      "13 {'ID': 'user_13', 'score': 86}\n",
      "14 {'ID': 'user_14', 'score': 79}\n"
     ]
    }
   ],
   "source": [
    "G.nodes(data=True) # show everything\n",
    "for k, v in dict(G.nodes(data=True)).items():\n",
    "    print(k, v)"
   ]
  },
  {
   "cell_type": "code",
   "execution_count": 17,
   "metadata": {},
   "outputs": [
    {
     "name": "stdout",
     "output_type": "stream",
     "text": [
      "1 {'ID': 'user_1', 'score': 74, 'number_of_pets': 5}\n",
      "2 {'ID': 'user_2', 'score': 88, 'number_of_pets': 1}\n",
      "3 {'ID': 'user_3', 'score': 70, 'number_of_pets': 5}\n",
      "4 {'ID': 'user_4', 'score': 63, 'number_of_pets': 0}\n",
      "5 {'ID': 'user_5', 'score': 90, 'number_of_pets': 1}\n",
      "6 {'ID': 'user_6', 'score': 51, 'number_of_pets': 0}\n",
      "7 {'ID': 'user_7', 'score': 81, 'number_of_pets': 0}\n",
      "8 {'ID': 'user_8', 'score': 94, 'number_of_pets': 0}\n",
      "9 {'ID': 'user_9', 'score': 80, 'number_of_pets': 3}\n",
      "10 {'ID': 'user_10', 'score': 72, 'number_of_pets': 1}\n",
      "11 {'ID': 'user_11', 'score': 68, 'number_of_pets': 4}\n",
      "12 {'ID': 'user_12', 'score': 95, 'number_of_pets': 5}\n",
      "13 {'ID': 'user_13', 'score': 86, 'number_of_pets': 2}\n",
      "14 {'ID': 'user_14', 'score': 79, 'number_of_pets': 0}\n"
     ]
    }
   ],
   "source": [
    "# Adding attribute\n",
    "nodes_with_attributes = [(i, {'number_of_pets': randrange(0,6)}) for i in range(1, 15)]\n",
    "G.add_nodes_from(nodes_with_attributes)\n",
    "G.nodes(data=True)  \n",
    "for k, v in dict(G.nodes(data=True)).items():\n",
    "    print(k, v)"
   ]
  },
  {
   "cell_type": "markdown",
   "metadata": {},
   "source": [
    "## adding edges"
   ]
  },
  {
   "cell_type": "markdown",
   "metadata": {},
   "source": [
    "The same thing can be done with edges, establishing new relations between vertices (synonym of nodes) in your graph."
   ]
  },
  {
   "cell_type": "code",
   "execution_count": 18,
   "metadata": {},
   "outputs": [],
   "source": [
    "G.add_edge(1, 5)"
   ]
  },
  {
   "cell_type": "markdown",
   "metadata": {},
   "source": [
    "To visualize the graph, we can call the nx.draw_networkx function."
   ]
  },
  {
   "cell_type": "code",
   "execution_count": 19,
   "metadata": {},
   "outputs": [
    {
     "name": "stdout",
     "output_type": "stream",
     "text": [
      "The number of connections present in this graph is: 1\n"
     ]
    },
    {
     "data": {
      "image/png": "[encoded data removed]",
      "text/plain": [
       "<Figure size 640x480 with 1 Axes>"
      ]
     },
     "metadata": {},
     "output_type": "display_data"
    }
   ],
   "source": [
    "nx.draw_networkx(G)\n",
    "print(f'The number of connections present in this graph is: {G.number_of_edges()}')"
   ]
  },
  {
   "cell_type": "markdown",
   "metadata": {},
   "source": [
    "To add more than one edge at the time, we use the \"add_edges_from\" method. \\\n",
    "We provide an *edge list* or *adjacency list*, listing the pair of nodes that are connected."
   ]
  },
  {
   "cell_type": "code",
   "execution_count": 20,
   "metadata": {},
   "outputs": [],
   "source": [
    "# Define a connection from each node N to its neighbour N + 1.\n",
    "connections = [(n, n+1) for n in range(max(G.nodes()))] \n",
    "G.add_edges_from(connections)"
   ]
  },
  {
   "cell_type": "code",
   "execution_count": 21,
   "metadata": {},
   "outputs": [
    {
     "data": {
      "text/plain": [
       "EdgeView([(1, 5), (1, 0), (1, 2), (2, 3), (3, 4), (4, 5), (5, 6), (6, 7), (7, 8), (8, 9), (9, 10), (10, 11), (11, 12), (12, 13), (13, 14)])"
      ]
     },
     "execution_count": 21,
     "metadata": {},
     "output_type": "execute_result"
    }
   ],
   "source": [
    "G.edges()"
   ]
  },
  {
   "cell_type": "code",
   "execution_count": 22,
   "metadata": {},
   "outputs": [
    {
     "data": {
      "image/png": "[encoded data removed]",
      "text/plain": [
       "<Figure size 640x480 with 1 Axes>"
      ]
     },
     "metadata": {},
     "output_type": "display_data"
    }
   ],
   "source": [
    "nx.draw_networkx(G)"
   ]
  },
  {
   "cell_type": "code",
   "execution_count": 23,
   "metadata": {},
   "outputs": [
    {
     "name": "stdout",
     "output_type": "stream",
     "text": [
      "number of nodes: 15\n",
      "number of edges: 15\n"
     ]
    }
   ],
   "source": [
    "print(f'number of nodes: {G.number_of_nodes()}')\n",
    "print(f'number of edges: {G.number_of_edges()}')"
   ]
  },
  {
   "cell_type": "markdown",
   "metadata": {},
   "source": [
    "### Task 1.b\n",
    "\n",
    "How many nodes and edges does the graph `G` now have?\n",
    "\n",
    "Make a function taking G as argument, that prints the number of edges and nodes for the provided graph.\n",
    "\n",
    "(tip: you can use the `count_graph_elements` function we made before)."
   ]
  },
  {
   "cell_type": "code",
   "execution_count": 24,
   "metadata": {},
   "outputs": [],
   "source": [
    "def count_graph_elements(G):\n",
    "    print(f'number of nodes: {G.number_of_nodes()}')\n",
    "    print(f'number of edges: {G.number_of_edges()}')"
   ]
  },
  {
   "cell_type": "code",
   "execution_count": 25,
   "metadata": {},
   "outputs": [
    {
     "name": "stdout",
     "output_type": "stream",
     "text": [
      "number of nodes: 15\n",
      "number of edges: 15\n"
     ]
    }
   ],
   "source": [
    "count_graph_elements(G)"
   ]
  },
  {
   "cell_type": "markdown",
   "metadata": {},
   "source": [
    "To clear your graph, you can use:"
   ]
  },
  {
   "cell_type": "code",
   "execution_count": 26,
   "metadata": {},
   "outputs": [],
   "source": [
    "G.clear()"
   ]
  },
  {
   "cell_type": "markdown",
   "metadata": {},
   "source": [
    "We can verify whether the graph was freed of all its elements by calling `G.nodes()` and `G.edges()` again. \\\n",
    "Or we can define a function that will save us some time in the long run:"
   ]
  },
  {
   "cell_type": "code",
   "execution_count": 27,
   "metadata": {},
   "outputs": [
    {
     "name": "stdout",
     "output_type": "stream",
     "text": [
      "number of nodes: 0\n",
      "number of edges: 0\n"
     ]
    }
   ],
   "source": [
    "count_graph_elements(G)"
   ]
  },
  {
   "cell_type": "markdown",
   "metadata": {},
   "source": [
    "### A Network of People\n",
    "We will start now by adding people to our network. "
   ]
  },
  {
   "cell_type": "code",
   "execution_count": 28,
   "metadata": {},
   "outputs": [],
   "source": [
    "G.add_edge('Toran', 'Bayta')"
   ]
  },
  {
   "cell_type": "code",
   "execution_count": 29,
   "metadata": {},
   "outputs": [
    {
     "name": "stdout",
     "output_type": "stream",
     "text": [
      "[('Toran', 'Bayta')]\n",
      "['Toran', 'Bayta']\n"
     ]
    }
   ],
   "source": [
    "print(G.edges())\n",
    "print(G.nodes()) # nodes are added automatically when edges are added."
   ]
  },
  {
   "cell_type": "code",
   "execution_count": 30,
   "metadata": {},
   "outputs": [],
   "source": [
    "e = [('Milo', 'Yossarian'), ('Toran', 'Mis'), ('Toran', 'Jord')]\n",
    "G.add_edges_from(e)"
   ]
  },
  {
   "cell_type": "markdown",
   "metadata": {},
   "source": [
    "As you can see above, nodes don't need to be explicitly defined. "
   ]
  },
  {
   "cell_type": "code",
   "execution_count": 31,
   "metadata": {},
   "outputs": [
    {
     "data": {
      "text/plain": [
       "EdgeView([('Toran', 'Bayta'), ('Toran', 'Mis'), ('Toran', 'Jord'), ('Milo', 'Yossarian')])"
      ]
     },
     "execution_count": 31,
     "metadata": {},
     "output_type": "execute_result"
    }
   ],
   "source": [
    "G.edges()"
   ]
  },
  {
   "cell_type": "markdown",
   "metadata": {},
   "source": [
    "### Task 2\n",
    "Add 10 edges with different people to the graph G. To do so, you can use `add_edges_from`, and provide an iterable as shown above. (an iterable is anything that can be 'looped over', in this case you likely want to use a list of tuples as shown above).\n",
    "\n",
    "The groups of people to add are: \n",
    " - group 1:\n",
    "     - Toran\n",
    "     - Mis\n",
    "     - Hardin\n",
    "     - Mallow\n",
    "     - Hari\n",
    "     - Jord\n",
    "     - Lathan\n",
    " - group 2:\n",
    "     - Milo\n",
    "     - Yossarian\n",
    "     - Orr\n",
    "     - Nately\n",
    "     - Dobbs\n",
    "     - Duckett\n",
    "     \n",
    "Make sure that people in the first group are not connected to the second group. Also make sure that each person in one group is connected to at least one other person within the same group."
   ]
  },
  {
   "cell_type": "code",
   "execution_count": 32,
   "metadata": {},
   "outputs": [],
   "source": [
    "# Your code here:\n",
    "\n",
    "edges_group_1 = [('Mis', 'Hardin'), ('Hardin', 'Mallow'), ('Mallow', 'Hari'), ('Hari', 'Lathan')]\n",
    "edges_group_2 = [('Yossarian', 'Orr'), ('Orr', 'Nately'), ('Nately', 'Dobbs'), ('Dobbs', 'Duckett')]\n"
   ]
  },
  {
   "cell_type": "code",
   "execution_count": 33,
   "metadata": {},
   "outputs": [],
   "source": [
    "G.add_edges_from(edges_group_1)\n",
    "G.add_edges_from(edges_group_2)"
   ]
  },
  {
   "cell_type": "code",
   "execution_count": 34,
   "metadata": {},
   "outputs": [
    {
     "data": {
      "text/plain": [
       "EdgeView([('Toran', 'Bayta'), ('Toran', 'Mis'), ('Toran', 'Jord'), ('Milo', 'Yossarian'), ('Yossarian', 'Orr'), ('Mis', 'Hardin'), ('Hardin', 'Mallow'), ('Mallow', 'Hari'), ('Hari', 'Lathan'), ('Orr', 'Nately'), ('Nately', 'Dobbs'), ('Dobbs', 'Duckett')])"
      ]
     },
     "execution_count": 34,
     "metadata": {},
     "output_type": "execute_result"
    }
   ],
   "source": [
    "G.edges()"
   ]
  },
  {
   "cell_type": "markdown",
   "metadata": {},
   "source": [
    "Let's visualize the state of the graph:"
   ]
  },
  {
   "cell_type": "code",
   "execution_count": 49,
   "metadata": {},
   "outputs": [
    {
     "data": {
      "image/png": "[encoded data removed]",
      "text/plain": [
       "<Figure size 640x480 with 1 Axes>"
      ]
     },
     "metadata": {},
     "output_type": "display_data"
    }
   ],
   "source": [
    "nx.spring_layout(G)\n",
    "nx.draw_networkx(G)"
   ]
  },
  {
   "cell_type": "markdown",
   "metadata": {},
   "source": [
    "### Edge attributes\n",
    "Edges can also have attributes. One important attribute is 'weight', we can add weight to the graphs with the same syntax we used to add a normal edge.\n",
    "\n",
    "We can add a weight to an edge by providing the argument `weight` to the function `add_edge`:"
   ]
  },
  {
   "cell_type": "code",
   "execution_count": 50,
   "metadata": {},
   "outputs": [],
   "source": [
    "G.add_edge('Milo', 'Hari', weight=0.1)"
   ]
  },
  {
   "cell_type": "markdown",
   "metadata": {},
   "source": [
    "More conveniently, we can use the `add_edges_from` method to add a collection of edges and attributes.\n",
    "Any attribute can be provided as a dictionary in a format such as:\n",
    "    \n",
    "    [\n",
    "     (edge_1a, edge_1b, {'attribute_name': 'value_1a}),\n",
    "     (edge_2a, edge_2b, {'attribute_name': 'value_2a}),\n",
    "     ...\n",
    "     (edge_Na, edge_Nb, {'attribute_name': 'value_Na})\n",
    "    ]"
   ]
  },
  {
   "cell_type": "code",
   "execution_count": 53,
   "metadata": {},
   "outputs": [],
   "source": [
    "from random import random\n",
    "# for now, we add random weights normalized in range [0.3, 1.0]\n",
    "weighted_edges = [(p1, p2, {'weight': round((random() + .5) / 1.5, 1)}) for w, (p1, p2) in enumerate(G.edges())]\n",
    "G.add_edges_from(weighted_edges)"
   ]
  },
  {
   "cell_type": "code",
   "execution_count": 54,
   "metadata": {},
   "outputs": [
    {
     "data": {
      "text/plain": [
       "EdgeDataView([('Toran', 'Bayta', {'weight': 0.7}), ('Toran', 'Mis', {'weight': 0.4}), ('Toran', 'Jord', {'weight': 0.4}), ('Milo', 'Yossarian', {'weight': 0.6}), ('Milo', 'Hari', {'weight': 0.5}), ('Yossarian', 'Orr', {'weight': 0.6}), ('Mis', 'Hardin', {'weight': 0.6}), ('Hardin', 'Mallow', {'weight': 0.4}), ('Mallow', 'Hari', {'weight': 0.8}), ('Hari', 'Lathan', {'weight': 0.5}), ('Orr', 'Nately', {'weight': 0.8}), ('Nately', 'Dobbs', {'weight': 0.8}), ('Dobbs', 'Duckett', {'weight': 0.6})])"
      ]
     },
     "execution_count": 54,
     "metadata": {},
     "output_type": "execute_result"
    }
   ],
   "source": [
    "G.edges(data=True) # by using data=True, we can visualize edge attributes."
   ]
  },
  {
   "cell_type": "code",
   "execution_count": 59,
   "metadata": {},
   "outputs": [
    {
     "data": {
      "image/png": "[encoded data removed]",
      "text/plain": [
       "<Figure size 640x480 with 1 Axes>"
      ]
     },
     "metadata": {},
     "output_type": "display_data"
    }
   ],
   "source": [
    "nx.draw_networkx(G)"
   ]
  },
  {
   "cell_type": "markdown",
   "metadata": {},
   "source": [
    "### visualizing the information\n",
    "In order to create more informative visualizations, there are slightly more advanced techniques.\n",
    "\n",
    "By iterating through the edges attributes, we can directly represent weights and other information in our graph."
   ]
  },
  {
   "cell_type": "code",
   "execution_count": 60,
   "metadata": {},
   "outputs": [],
   "source": [
    "# comprehension list: loop over edges, separating them in two subset (lower vs. greater or equal 0.5)\n",
    "edges_L = [(u, v) for (u, v, d) in G.edges(data=True) if d[\"weight\"] > 0.5]\n",
    "edges_S = [(u, v) for (u, v, d) in G.edges(data=True) if d[\"weight\"] <= 0.5]"
   ]
  },
  {
   "cell_type": "markdown",
   "metadata": {},
   "source": [
    "Here we will use one layout to plot vertices and edges separately.\n",
    "\n",
    "The layout function `spring_layout` returns positions for each node present in the network. \n",
    "\n",
    "In this way we will be able to plot different components of the network separately, providing more control on various characteristics we may want to represent.\n",
    "\n"
   ]
  },
  {
   "cell_type": "code",
   "execution_count": 61,
   "metadata": {},
   "outputs": [
    {
     "name": "stdout",
     "output_type": "stream",
     "text": [
      "Graph nodes coordinates\n",
      "{'Toran': array([0.068631, 0.831753]), 'Bayta': array([0.17778709, 0.97297254]), 'Milo': array([-0.25302364, -0.33299662]), 'Yossarian': array([-0.13547215, -0.54309454]), 'Mis': array([0.03245127, 0.57758794]), 'Jord': array([-0.06092723,  1.        ]), 'Hardin': array([-0.02468785,  0.35390062]), 'Mallow': array([-0.20353348,  0.11999506]), 'Hari': array([-0.31579287, -0.07167965]), 'Lathan': array([-0.52476064, -0.05875585]), 'Orr': array([ 0.03912843, -0.69696019]), 'Nately': array([ 0.22477937, -0.75840816]), 'Dobbs': array([ 0.40987569, -0.74494918]), 'Duckett': array([ 0.565545  , -0.64936497])}\n"
     ]
    }
   ],
   "source": [
    "\n",
    "pos = nx.spring_layout(G) # obtain edges pos(ition)\n",
    "print('Graph nodes coordinates')\n",
    "print(pos)"
   ]
  },
  {
   "cell_type": "code",
   "execution_count": 62,
   "metadata": {},
   "outputs": [
    {
     "data": {
      "image/png": "[encoded data removed]",
      "text/plain": [
       "<Figure size 640x480 with 1 Axes>"
      ]
     },
     "metadata": {},
     "output_type": "display_data"
    }
   ],
   "source": [
    "# Drawing the graph in the traditional way only provides connectivity topology:\n",
    "nx.draw(G, pos)"
   ]
  },
  {
   "cell_type": "code",
   "execution_count": 63,
   "metadata": {},
   "outputs": [
    {
     "data": {
      "text/plain": [
       "<matplotlib.collections.PathCollection at 0x11f5c33d0>"
      ]
     },
     "execution_count": 63,
     "metadata": {},
     "output_type": "execute_result"
    },
    {
     "data": {
      "image/png": "[encoded data removed]",
      "text/plain": [
       "<Figure size 640x480 with 1 Axes>"
      ]
     },
     "metadata": {},
     "output_type": "display_data"
    }
   ],
   "source": [
    "nx.draw_networkx_nodes(G, pos, node_size=200)"
   ]
  },
  {
   "cell_type": "code",
   "execution_count": 64,
   "metadata": {},
   "outputs": [
    {
     "data": {
      "text/plain": [
       "<matplotlib.collections.LineCollection at 0x11f5a5450>"
      ]
     },
     "execution_count": 64,
     "metadata": {},
     "output_type": "execute_result"
    },
    {
     "data": {
      "image/png": "[encoded data removed]",
      "text/plain": [
       "<Figure size 640x480 with 1 Axes>"
      ]
     },
     "metadata": {},
     "output_type": "display_data"
    }
   ],
   "source": [
    "nx.draw_networkx_nodes(G, pos, node_size=200)\n",
    "nx.draw_networkx_edges(G, pos, edgelist=edges_L, width=4)\n",
    "nx.draw_networkx_edges(\n",
    "    G, pos, edgelist=edges_S, width=2, edge_color=\"b\", style=\"dashed\"\n",
    ")"
   ]
  },
  {
   "cell_type": "markdown",
   "metadata": {},
   "source": [
    "Something seems off with this plot. The plot has axes ranging values [0, 1], while our positions occur beyond the provided window.\n",
    "To fix this, we can instantiate provide axes to the draw_network_element functions:"
   ]
  },
  {
   "cell_type": "code",
   "execution_count": 65,
   "metadata": {},
   "outputs": [
    {
     "data": {
      "text/plain": [
       "{'Toran': (0.06863099921468291, 0.8317530012874791),\n",
       " 'Bayta': (0.17778708907351726, 0.9729725379942367),\n",
       " 'Milo': (-0.2530236410741061, -0.3329966191661828),\n",
       " 'Yossarian': (-0.13547215326842627, -0.5430945426651946),\n",
       " 'Mis': (0.0324512718455276, 0.5775879448331329),\n",
       " 'Jord': (-0.0609272263293669, 1.0),\n",
       " 'Hardin': (-0.024687851800353447, 0.3539006166527027),\n",
       " 'Mallow': (-0.20353347644324452, 0.11999505666277328),\n",
       " 'Hari': (-0.3157928741220592, -0.07167964986152633),\n",
       " 'Lathan': (-0.5247606421028058, -0.058755846150019116),\n",
       " 'Orr': (0.03912843039559809, -0.6969601878379738),\n",
       " 'Nately': (0.22477937489151475, -0.7584081571288853),\n",
       " 'Dobbs': (0.4098756948333762, -0.7449491811782778),\n",
       " 'Duckett': (0.5655450048861453, -0.6493649734422651)}"
      ]
     },
     "execution_count": 65,
     "metadata": {},
     "output_type": "execute_result"
    }
   ],
   "source": [
    "{k: (u, v) for k, (u, v) in pos.items()}"
   ]
  },
  {
   "cell_type": "code",
   "execution_count": 66,
   "metadata": {},
   "outputs": [
    {
     "data": {
      "image/png": "[encoded data removed]",
      "text/plain": [
       "<Figure size 700x700 with 1 Axes>"
      ]
     },
     "metadata": {},
     "output_type": "display_data"
    }
   ],
   "source": [
    "\n",
    "\n",
    "# instantiate pyplot axis to plot everything (internally used by all the `nx.draw...` functions)\n",
    "fig, ax = plt.subplots(figsize=(7, 7))\n",
    "\n",
    "nx.draw_networkx_nodes(G, pos, node_size=200, node_color='red')\n",
    "nx.draw_networkx_edges(G, pos, edgelist=edges_L, width=4, edge_color='grey')\n",
    "nx.draw_networkx_edges(\n",
    "    G, pos, edgelist=edges_S, width=2, edge_color=\"b\", style=\"dashed\"\n",
    ")\n",
    "label_offset = 0.06 # we insert the label for each node slightly above it.\n",
    "nx.draw_networkx_labels(G, {k: (u, v + label_offset) for k, (u, v) in pos.items()}) # dictionary comprehension expression\n",
    "\n",
    "## centre plot, leave margin around the graph\n",
    "\n",
    "\n",
    "xs = [p[0] for p in pos.values()] # extract all x...\n",
    "ys = [p[1] for p in pos.values()] # ...and y values from edges positions\n",
    "\n",
    "margin = 0.1\n",
    "ax.set_xlim((min(xs) - 0.1, max(xs) + 0.1))\n",
    "ax.set_ylim((min(ys) - 0.1, max(ys) + 0.1))\n",
    "plt.show()\n"
   ]
  },
  {
   "cell_type": "markdown",
   "metadata": {},
   "source": [
    "### Task 3\n",
    "Can you make a function plotting a given graph, exhibiting like thickness *proportional to the weight* attribute of each edge?\n",
    "\n",
    "To do so you will need to:\n",
    "\n",
    "0. Take G, label_offset and show_edge_attributes as arguments of your function\n",
    "1. Instantiate pyplot figure and axis with `plt.subplots()`\n",
    "3. obtain nodes position via `nx.spring_layout(G)`\n",
    "3. Show nodes with `nx.draw_networkx_nodes(G, pos, node_size=..., node_color=...)`\n",
    "4. Show edges by:\n",
    "     1. getting all (scaled) weights by: `[d['weight']*scaling_factor for (u, v, d) in G.edges(data=True)]` \\\n",
    "        where scaling_factor is an arbitrarily chosen integer to make the difference in weights visible.\n",
    "     2. call the function below: \n",
    "             nx.draw_networkx_edges(G, pos, edgelist=G.edges(), width=weights, edge_color=...)\n",
    "         by providing the array `weights` as width argument.\n",
    "      \n",
    "      \n",
    "5. For each node, show its name above it, calling `draw_networkx_labels` with an offset to the y coordinate. \n",
    "6. add the option to display edge attributes with `nx.draw_networkx_edge_label`. \\\n",
    "    i. Make this dependent on an argument: (`if show_edge_attributes:`). \\\n",
    "    ii. create the adjacency list to show only the weight with:\n",
    "        edge_labels = {(u, v): d['weight'] for (u, v, d) in G.edges(data=True)}\n",
    "    iii. Then:\n",
    "        nx.draw_networkx_edge_labels(G, pos, edge_labels)\n",
    "7. increase graph margins by: \\\n",
    "    i. obtaining x and y coordinates for each item in `pos` \\\n",
    "    ii. set xlim and ylim accordingly\n",
    "\n",
    "Of the points here outlined, 6. is the only task not shown previously in this notebook. The workings of `nx.draw_networkx_edge_labels`, however, are similar to `draw_networkx_labels`. More information can be found [reading the docs](https://networkx.org/documentation/stable/reference/generated/networkx.drawing.nx_pylab.draw_networkx_edge_labels.html)."
   ]
  },
  {
   "cell_type": "code",
   "execution_count": 140,
   "metadata": {},
   "outputs": [],
   "source": [
    "def show_graph(G, label_offset=0.5, plot_margin=.1, show_edge_attribute=True):\n",
    "    plt.subplots()\n",
    "    nx.spring_layout(G)\n",
    "    nx.draw_networkx_nodes(G, pos, node_size=200, node_color='red')\n",
    "    \n",
    "    weights = [d['weight']*5 for (u, v, d) in G.edges(data=True)]\n",
    "    nx.draw_networkx_edges(G, pos, edgelist=G.edges(), width=weights, edge_color='blue')\n",
    "    \n",
    "    label_offset = .2 # we insert the label for each node slightly above it.\n",
    "    nx.draw_networkx_labels(G, {k: (u, v + label_offset) for k, (u, v) in pos.items()}) # dictionary comprehension expression\n",
    "    \n",
    "    if show_edge_attribute:\n",
    "        edge_labels = nx.get_edge_attributes(G, 'weight')\n",
    "        nx.draw_networkx_edge_labels(G, pos, edge_labels=edge_labels)\n",
    "    xs = [p[0] for p in pos.values()] # extract all x...\n",
    "    ys = [p[1] for p in pos.values()] # ...and y values from edges positions\n",
    "    plt.margins(plot_margin)\n",
    "    plt.xlim([min(xs) - 0.1, max(xs) + 0.1])\n",
    "    plt.ylim([min(ys) - 0.1, max(ys) + 0.1])\n",
    "    plt.show()"
   ]
  },
  {
   "cell_type": "code",
   "execution_count": 141,
   "metadata": {},
   "outputs": [
    {
     "data": {
      "image/png": "[encoded data removed]",
      "text/plain": [
       "<Figure size 640x480 with 1 Axes>"
      ]
     },
     "metadata": {},
     "output_type": "display_data"
    }
   ],
   "source": [
    "show_graph(G)"
   ]
  },
  {
   "cell_type": "code",
   "execution_count": 142,
   "metadata": {},
   "outputs": [
    {
     "name": "stdout",
     "output_type": "stream",
     "text": [
      "number of nodes: 14\n",
      "number of edges: 13\n"
     ]
    }
   ],
   "source": [
    "count_graph_elements(G)"
   ]
  },
  {
   "cell_type": "markdown",
   "metadata": {},
   "source": [
    "## Time for Data\n",
    "\n",
    "We will now show how to apply this graphing techniques to real world data, building a network to gain an understanding of the underlying social dynamics."
   ]
  },
  {
   "cell_type": "markdown",
   "metadata": {},
   "source": [
    "### Task 4\n",
    "1. Download [Stanford's example facebook network data](https://snap.stanford.edu/data/egonets-Facebook.html).\n",
    "2. Extract the archive file named `facebook.tar.gz`.  \n",
    "    * on Linux or Mac:\n",
    "        1. `Ctrl+Alt+T`;\n",
    "        2.  `tar -xvzf /path/to/file.tar.gz`.\n",
    "      \n",
    "    * on Windows (just use [7zip](https://www.7-zip.org/)).\n",
    "2. replace the variable filename with the relative or absolute path of the file named \"`0.edges`\". "
   ]
  },
  {
   "cell_type": "code",
   "execution_count": 45,
   "metadata": {},
   "outputs": [
    {
     "ename": "FileNotFoundError",
     "evalue": "[Errno 2] No such file or directory: 'facebook/0.edges'",
     "output_type": "error",
     "traceback": [
      "\u001b[0;31m---------------------------------------------------------------------------\u001b[0m",
      "\u001b[0;31mFileNotFoundError\u001b[0m                         Traceback (most recent call last)",
      "\u001b[1;32m/Users/bazottie/Sites/sw23-21/assignments/assignment3/SW_Ass3.ipynb Cell 71\u001b[0m line \u001b[0;36m3\n\u001b[1;32m      <a href='vscode-notebook-cell:/Users/bazottie/Sites/sw23-21/assignments/assignment3/SW_Ass3.ipynb#Y130sZmlsZQ%3D%3D?line=0'>1</a>\u001b[0m \u001b[39m# Your code here\u001b[39;00m\n\u001b[1;32m      <a href='vscode-notebook-cell:/Users/bazottie/Sites/sw23-21/assignments/assignment3/SW_Ass3.ipynb#Y130sZmlsZQ%3D%3D?line=1'>2</a>\u001b[0m edges_filename \u001b[39m=\u001b[39m \u001b[39m'\u001b[39m\u001b[39mfacebook/0.edges\u001b[39m\u001b[39m'\u001b[39m\n\u001b[0;32m----> <a href='vscode-notebook-cell:/Users/bazottie/Sites/sw23-21/assignments/assignment3/SW_Ass3.ipynb#Y130sZmlsZQ%3D%3D?line=2'>3</a>\u001b[0m G_fb \u001b[39m=\u001b[39m nx\u001b[39m.\u001b[39;49mread_edgelist(edges_filename, nodetype\u001b[39m=\u001b[39;49m\u001b[39mint\u001b[39;49m)\n",
      "File \u001b[0;32m~/.pyenv/versions/3.10.12/lib/python3.10/site-packages/networkx/utils/decorators.py:766\u001b[0m, in \u001b[0;36margmap.__call__.<locals>.func\u001b[0;34m(_argmap__wrapper, *args, **kwargs)\u001b[0m\n\u001b[1;32m    765\u001b[0m \u001b[39mdef\u001b[39;00m \u001b[39mfunc\u001b[39m(\u001b[39m*\u001b[39margs, __wrapper\u001b[39m=\u001b[39m\u001b[39mNone\u001b[39;00m, \u001b[39m*\u001b[39m\u001b[39m*\u001b[39mkwargs):\n\u001b[0;32m--> 766\u001b[0m     \u001b[39mreturn\u001b[39;00m argmap\u001b[39m.\u001b[39;49m_lazy_compile(__wrapper)(\u001b[39m*\u001b[39;49margs, \u001b[39m*\u001b[39;49m\u001b[39m*\u001b[39;49mkwargs)\n",
      "File \u001b[0;32m<class 'networkx.utils.decorators.argmap'> compilation 13:3\u001b[0m, in \u001b[0;36margmap_read_edgelist_9\u001b[0;34m(path, comments, delimiter, create_using, nodetype, data, edgetype, encoding)\u001b[0m\n\u001b[1;32m      1\u001b[0m \u001b[39mimport\u001b[39;00m \u001b[39mbz2\u001b[39;00m\n\u001b[1;32m      2\u001b[0m \u001b[39mimport\u001b[39;00m \u001b[39mcollections\u001b[39;00m\n\u001b[0;32m----> 3\u001b[0m \u001b[39mimport\u001b[39;00m \u001b[39mgzip\u001b[39;00m\n\u001b[1;32m      4\u001b[0m \u001b[39mimport\u001b[39;00m \u001b[39minspect\u001b[39;00m\n\u001b[1;32m      5\u001b[0m \u001b[39mimport\u001b[39;00m \u001b[39mitertools\u001b[39;00m\n",
      "File \u001b[0;32m~/.pyenv/versions/3.10.12/lib/python3.10/site-packages/networkx/utils/decorators.py:189\u001b[0m, in \u001b[0;36mopen_file.<locals>._open_file\u001b[0;34m(path)\u001b[0m\n\u001b[1;32m    185\u001b[0m \u001b[39melse\u001b[39;00m:\n\u001b[1;32m    186\u001b[0m     \u001b[39m# could be None, or a file handle, in which case the algorithm will deal with it\u001b[39;00m\n\u001b[1;32m    187\u001b[0m     \u001b[39mreturn\u001b[39;00m path, \u001b[39mlambda\u001b[39;00m: \u001b[39mNone\u001b[39;00m\n\u001b[0;32m--> 189\u001b[0m fobj \u001b[39m=\u001b[39m _dispatch_dict[ext](path, mode\u001b[39m=\u001b[39;49mmode)\n\u001b[1;32m    190\u001b[0m \u001b[39mreturn\u001b[39;00m fobj, \u001b[39mlambda\u001b[39;00m: fobj\u001b[39m.\u001b[39mclose()\n",
      "\u001b[0;31mFileNotFoundError\u001b[0m: [Errno 2] No such file or directory: 'facebook/0.edges'"
     ]
    }
   ],
   "source": [
    "# Your code here\n",
    "edges_filename = 'facebook/0.edges'\n",
    "G_fb = nx.read_edgelist(edges_filename, nodetype=int)"
   ]
  },
  {
   "cell_type": "code",
   "execution_count": null,
   "metadata": {},
   "outputs": [],
   "source": [
    "nx.draw_networkx(G_fb)"
   ]
  },
  {
   "cell_type": "markdown",
   "metadata": {},
   "source": [
    "### Connectedness\n",
    "Is this graph connected? Why?"
   ]
  },
  {
   "cell_type": "code",
   "execution_count": null,
   "metadata": {},
   "outputs": [],
   "source": [
    "# to answer the question above, we can use the functions provided by networkx:\n",
    "if nx.is_connected(G_fb):\n",
    "    print(\"the graph is connected\")\n",
    "    print(f'because there is only {nx.connected_components(G_fb)} ')\n",
    "else:\n",
    "    print(\"the graph is not connected\")\n",
    "    print(f'because there are n {len([c for c in nx.connected_components(G_fb)])} separate components.')"
   ]
  },
  {
   "cell_type": "markdown",
   "metadata": {},
   "source": [
    "There seem to be a few components disconnected to the whole.\n",
    "\n",
    "Let's extract the greatest component and define a stand-alone network from it."
   ]
  },
  {
   "cell_type": "code",
   "execution_count": null,
   "metadata": {},
   "outputs": [],
   "source": [
    "# return connected components\n",
    "components = nx.connected_components(G_fb)\n",
    "# find the largest, sorting by size (len)\n",
    "largest_comp = max(components, key=len)\n",
    "# obtain subgraph `sG` from `G_fb`\n",
    "sG = G_fb.subgraph(largest_comp)\n",
    "# quickly visualize\n",
    "nx.draw_networkx(sG)"
   ]
  },
  {
   "cell_type": "markdown",
   "metadata": {},
   "source": [
    "### Manipulating graph attributes: adding, saving, loading and visualizing attribute data\n",
    "\n",
    "Often you want to be able to associate a specific attribute to all the nodes or edges in your graph. Make sure you understand the example code below. Here, we use a random nuber generator to generate the values for an example `weight` attribute for all edges in our graph. We than use the pickle package to write down the resulting data structure, so we may quickly load it back from disk when needed later (or to use it in the notebook of your group members!). We then add the new weight attribute values to the edges of the graph and vizualize the result: \n"
   ]
  },
  {
   "cell_type": "code",
   "execution_count": null,
   "metadata": {},
   "outputs": [],
   "source": [
    "# generate random weights for all edges:\n",
    "adj_d = {(u, v): {'weight': round((random() + .05)/1.05, 2)} for (u, v) in sG.edges()}\n",
    "\n",
    "# save to disk:\n",
    "with open('weights.pkl', 'wb') as f:\n",
    "    pickle.dump(adj_d, f)\n",
    "\n",
    "# load from disk \n",
    "with open('weights.pkl', 'rb') as f:\n",
    "    adjacency_dictionary_with_attributes = pickle.load(f)"
   ]
  },
  {
   "cell_type": "code",
   "execution_count": null,
   "metadata": {},
   "outputs": [],
   "source": [
    "nx.set_edge_attributes(sG, values = adjacency_dictionary_with_attributes)"
   ]
  },
  {
   "cell_type": "code",
   "execution_count": null,
   "metadata": {},
   "outputs": [],
   "source": [
    "show_graph(sG)"
   ]
  },
  {
   "cell_type": "markdown",
   "metadata": {},
   "source": [
    "## Measures of graph centrality / eccentricity\n",
    "\n",
    "### Degree & degree centrality\n",
    "\n",
    "The total number of edges of a node is known as its **degree**. A node with a realtive high degree can be seen as playing a more *central* role in the graph and is said to have a high **degree centrality**. \n",
    "\n",
    "For networks with directed edges, it is common to count incoming edges (indegree) and outgoing (outdegree) edges seperately. For example, on twitter, a node with a high indegree corresponds to an account with many followers, while a node with a high outdegree represents an account that follows many others. Note that direclty interpreting these numbers as properties of the account owners in the real world maybe dangerous (e.g. \"Alice is more popular person than Bob because of her higher indegree\" or \"Bob has a high outdegree, typically someone who is afraid to be alone\")\n",
    "\n",
    "On facebook, the friend relation is not directed so we focus just on the degree metric in the examples below.\n",
    "\n",
    "To make it easy to use degrees in your data analysis, it is often handy to pre-compute the degrees and make the results an explicit attribute of each node. For example: "
   ]
  },
  {
   "cell_type": "code",
   "execution_count": null,
   "metadata": {},
   "outputs": [],
   "source": [
    "# find the degree of each node\n",
    "degree_dict = dict(sG.degree(sG.nodes()))\n",
    "# add the attribute 'degree' to the respective node.\n",
    "nx.set_node_attributes(sG, degree_dict, 'degree')"
   ]
  },
  {
   "cell_type": "markdown",
   "metadata": {
    "tags": []
   },
   "source": [
    "### Task 5\n",
    "\n",
    "Can you create a variant of the above function `show_graph` named '`show_graph_node_degrees`'\n",
    "\n",
    "This time:\n",
    "\n",
    "1. Don't show node names\n",
    "2. Color-code each node by looking at its 'degree' attribute. \n",
    "\n",
    "Tips:\n",
    "\n",
    "1. You can obtain the 'degree' attribute for each node similarly to what was done before for 'weights' of each node. Namely, using a comprehension list while indexing the desired attribute, and then providing the resulting array to the `draw_networkx_nodes` function as 'node_color' argument. \n",
    "2. Make nodes smaller to be able to see all the nodes (even in the most crowded clusters)."
   ]
  },
  {
   "cell_type": "code",
   "execution_count": null,
   "metadata": {},
   "outputs": [],
   "source": [
    "def show_graph_node_degrees(graph, label_offset=0.08, plot_margin=0.1, show_edge_attribute=True):\n",
    "    # Your code here.\n",
    "    pass"
   ]
  },
  {
   "cell_type": "code",
   "execution_count": null,
   "metadata": {},
   "outputs": [],
   "source": [
    "show_graph_node_degrees(sG)"
   ]
  },
  {
   "cell_type": "markdown",
   "metadata": {},
   "source": [
    "### Centrality measures\n",
    "\n",
    "Degree centrality is not the only metric related to centrality. Another intuitively common intepretation of centrality is that a central node is relatively close to most other nodes in the network. **Closeness centrality**  of a node is (the reciprocal of) the average length of the shortest path between the node and all other nodes in the network. Note that central nodes have shorter paths, so to make sure that lower averages result in higher centrality, often the reciprocal of the average is used i.s.o. the average itself. \n",
    "\n",
    "Yet another notion of centrality, often used in social network analysis, is the intuition that more central nodes often play the role of being the *bridge* between two other nodes, e.g. they are more often on the shortest path that connects other pairs. The number of times a node is on the shortest path relative to the total number of shortest paths is knowns as the **betweeness centrality**. \n",
    "\n",
    "Another metric you may find in the literature is **eigenvector centrality**, which is centered around the idea that the *influence* of a node in the network increases if it influences other nodes with a high eigenvector centrality. This metric is closely related to metrics such as Pagerank. \n",
    "\n",
    "There are, however, many more notions of centrality. Which one is *best* depends on your research question and data used. You are recommended to explore the other centrality metrics available in the [networkx library](https://networkx.org/documentation/stable/reference/algorithms/centrality.html)."
   ]
  },
  {
   "cell_type": "markdown",
   "metadata": {},
   "source": [
    "### Task 6\n",
    "\n",
    "To each node, add the attributes: \n",
    "\n",
    "- betweenness centrality (`nx.betweenness_centrality(graph_object)`)\n",
    "- eigenvector centrality (`nx.eigenvector_centrality(graph_object)`)\n",
    "- closeness centrality (`nx.closeness_centrality(g_o)`)"
   ]
  },
  {
   "cell_type": "code",
   "execution_count": null,
   "metadata": {},
   "outputs": [],
   "source": [
    "# For instance:\n",
    "\n",
    "## find the between centrality of each node\n",
    "between_centrality = nx.betweenness_centrality(sG)\n",
    "## add the attribute 'betweenness' to the respective node.\n",
    "nx.set_node_attributes(sG, between_centrality, 'betweenness')"
   ]
  },
  {
   "cell_type": "code",
   "execution_count": null,
   "metadata": {},
   "outputs": [],
   "source": [
    "# Your code here"
   ]
  },
  {
   "cell_type": "markdown",
   "metadata": {},
   "source": [
    "### Task 7\n",
    "Write a function akin to show_graph_node_degree called `show_graph_node_centrality` taking an argument (among others) called 'centrality_measure'. \n",
    "\n",
    "Plot the graph by color-coding each node with the desired centrality measure. "
   ]
  },
  {
   "cell_type": "code",
   "execution_count": null,
   "metadata": {},
   "outputs": [],
   "source": [
    "def show_graph_node_centrality(graph, centrality_measure, show_edge_attribute=True):\n",
    "    \n",
    "    if centrality_measure not in ['betweenness', 'eigenvector', 'degree', 'closeness']:\n",
    "        raise ValueError\n",
    "    \n",
    "    label_offset=0.08\n",
    "    plot_margin=0.1\n",
    "    \n",
    "    # your code here\n",
    "    \n",
    "    # Repeat the usual steps, but consider user input for 'centrality_measure' to color-code each node. "
   ]
  },
  {
   "cell_type": "markdown",
   "metadata": {},
   "source": [
    "### Question\n",
    "What is the difference the presented centrality measures? Discuss the tradeoff between computational complexity and usefulness of each."
   ]
  },
  {
   "cell_type": "markdown",
   "metadata": {},
   "source": [
    "*Your answer here*"
   ]
  }
 ],
 "metadata": {
  "kernelspec": {
   "display_name": "Python 3 (ipykernel)",
   "language": "python",
   "name": "python3"
  },
  "language_info": {
   "codemirror_mode": {
    "name": "ipython",
    "version": 3
   },
   "file_extension": ".py",
   "mimetype": "text/x-python",
   "name": "python",
   "nbconvert_exporter": "python",
   "pygments_lexer": "ipython3",
   "version": "3.8.18"
  }
 },
 "nbformat": 4,
 "nbformat_minor": 4
}
