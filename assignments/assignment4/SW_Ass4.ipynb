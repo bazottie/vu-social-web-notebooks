{
 "cells": [
  {
   "cell_type": "markdown",
   "metadata": {},
   "source": [
    "*****************************************************\n",
    "# The Social Web Assignment 4: Recommendation\n",
    "\n",
    "- Instructors: Davide Ceolin, Emma Beauxis-Aussalet.\n",
    "- TAs: Zubaria Inayat, Maxim Sergeev, Zhuofan Mei, Alexander Schmatz, Ling Jin.\n",
    "- Exercises for Hands-on session 4 \n",
    "*****************************************************\n",
    "\n",
    "In this notebook you will use the similarity measures to provide recommendations by comparing users and content based on expressed preferences (ratings). You will also explore textual similarity using a very popular natural language processing library, NLTK. Finally, you will explore recommendations on the Reddit platform."
   ]
  },
  {
   "cell_type": "markdown",
   "metadata": {},
   "source": [
    "Required packages:\n",
    "* feedparser, praw,  nltk"
   ]
  },
  {
   "cell_type": "code",
   "execution_count": 1,
   "metadata": {
    "scrolled": true
   },
   "outputs": [
    {
     "name": "stdout",
     "output_type": "stream",
     "text": [
      "Collecting praw\n",
      "  Downloading praw-7.7.1-py3-none-any.whl.metadata (9.8 kB)\n",
      "Collecting prawcore<3,>=2.1 (from praw)\n",
      "  Downloading prawcore-2.4.0-py3-none-any.whl.metadata (5.0 kB)\n",
      "Collecting update-checker>=0.18 (from praw)\n",
      "  Downloading update_checker-0.18.0-py3-none-any.whl (7.0 kB)\n",
      "Collecting websocket-client>=0.54.0 (from praw)\n",
      "  Downloading websocket_client-1.6.4-py3-none-any.whl.metadata (7.7 kB)\n",
      "Requirement already satisfied: requests<3.0,>=2.6.0 in /opt/homebrew/lib/python3.11/site-packages (from prawcore<3,>=2.1->praw) (2.31.0)\n",
      "Requirement already satisfied: charset-normalizer<4,>=2 in /opt/homebrew/lib/python3.11/site-packages (from requests<3.0,>=2.6.0->prawcore<3,>=2.1->praw) (3.3.2)\n",
      "Requirement already satisfied: idna<4,>=2.5 in /opt/homebrew/lib/python3.11/site-packages (from requests<3.0,>=2.6.0->prawcore<3,>=2.1->praw) (3.4)\n",
      "Requirement already satisfied: urllib3<3,>=1.21.1 in /opt/homebrew/lib/python3.11/site-packages (from requests<3.0,>=2.6.0->prawcore<3,>=2.1->praw) (2.0.7)\n",
      "Requirement already satisfied: certifi>=2017.4.17 in /opt/homebrew/lib/python3.11/site-packages (from requests<3.0,>=2.6.0->prawcore<3,>=2.1->praw) (2023.7.22)\n",
      "Downloading praw-7.7.1-py3-none-any.whl (191 kB)\n",
      "\u001b[2K   \u001b[38;2;114;156;31m━━━━━━━━━━━━━━━━━━━━━━━━━━━━━━━━━━━━━━━━\u001b[0m \u001b[32m191.0/191.0 kB\u001b[0m \u001b[31m1.0 MB/s\u001b[0m eta \u001b[36m0:00:00\u001b[0m[31m1.2 MB/s\u001b[0m eta \u001b[36m0:00:01\u001b[0m\n",
      "\u001b[?25hDownloading prawcore-2.4.0-py3-none-any.whl (17 kB)\n",
      "Downloading websocket_client-1.6.4-py3-none-any.whl (57 kB)\n",
      "\u001b[2K   \u001b[38;2;114;156;31m━━━━━━━━━━━━━━━━━━━━━━━━━━━━━━━━━━━━━━━━\u001b[0m \u001b[32m57.3/57.3 kB\u001b[0m \u001b[31m1.3 MB/s\u001b[0m eta \u001b[36m0:00:00\u001b[0m[31m1.6 MB/s\u001b[0m eta \u001b[36m0:00:01\u001b[0m\n",
      "\u001b[?25hInstalling collected packages: websocket-client, update-checker, prawcore, praw\n",
      "Successfully installed praw-7.7.1 prawcore-2.4.0 update-checker-0.18.0 websocket-client-1.6.4\n",
      "Note: you may need to restart the kernel to use updated packages.\n",
      "Collecting feedparser\n",
      "  Downloading feedparser-6.0.10-py3-none-any.whl (81 kB)\n",
      "\u001b[2K     \u001b[38;2;114;156;31m━━━━━━━━━━━━━━━━━━━━━━━━━━━━━━━━━━━━━━━\u001b[0m \u001b[32m81.1/81.1 kB\u001b[0m \u001b[31m950.4 kB/s\u001b[0m eta \u001b[36m0:00:00\u001b[0m kB/s\u001b[0m eta \u001b[36m0:00:01\u001b[0m\n",
      "\u001b[?25hCollecting sgmllib3k (from feedparser)\n",
      "  Downloading sgmllib3k-1.0.0.tar.gz (5.8 kB)\n",
      "  Preparing metadata (setup.py) ... \u001b[?25ldone\n",
      "\u001b[?25hBuilding wheels for collected packages: sgmllib3k\n",
      "  Building wheel for sgmllib3k (setup.py) ... \u001b[?25ldone\n",
      "\u001b[?25h  Created wheel for sgmllib3k: filename=sgmllib3k-1.0.0-py3-none-any.whl size=6049 sha256=962f7cfb243f03ccf16886ad536aea6fc0e25533cc805b5582694727207dea30\n",
      "  Stored in directory: /Users/bazottie/Library/Caches/pip/wheels/3b/25/2a/105d6a15df6914f4d15047691c6c28f9052cc1173e40285d03\n",
      "Successfully built sgmllib3k\n",
      "Installing collected packages: sgmllib3k, feedparser\n",
      "Successfully installed feedparser-6.0.10 sgmllib3k-1.0.0\n",
      "Note: you may need to restart the kernel to use updated packages.\n",
      "Collecting nltk\n",
      "  Downloading nltk-3.8.1-py3-none-any.whl (1.5 MB)\n",
      "\u001b[2K     \u001b[38;2;114;156;31m━━━━━━━━━━━━━━━━━━━━━━━━━━━━━━━━━━━━━━━━\u001b[0m \u001b[32m1.5/1.5 MB\u001b[0m \u001b[31m809.2 kB/s\u001b[0m eta \u001b[36m0:00:00\u001b[0m[36m0:00:01\u001b[0mm eta \u001b[36m0:00:01\u001b[0m\n",
      "\u001b[?25hRequirement already satisfied: click in /opt/homebrew/lib/python3.11/site-packages (from nltk) (8.1.7)\n",
      "Collecting joblib (from nltk)\n",
      "  Downloading joblib-1.3.2-py3-none-any.whl.metadata (5.4 kB)\n",
      "Collecting regex>=2021.8.3 (from nltk)\n",
      "  Downloading regex-2023.10.3-cp311-cp311-macosx_11_0_arm64.whl.metadata (40 kB)\n",
      "\u001b[2K     \u001b[38;2;114;156;31m━━━━━━━━━━━━━━━━━━━━━━━━━━━━━━━━━━━━━━━━\u001b[0m \u001b[32m40.9/40.9 kB\u001b[0m \u001b[31m1.1 MB/s\u001b[0m eta \u001b[36m0:00:00\u001b[0m MB/s\u001b[0m eta \u001b[36m0:00:01\u001b[0m\n",
      "\u001b[?25hCollecting tqdm (from nltk)\n",
      "  Downloading tqdm-4.66.1-py3-none-any.whl.metadata (57 kB)\n",
      "\u001b[2K     \u001b[38;2;114;156;31m━━━━━━━━━━━━━━━━━━━━━━━━━━━━━━━━━━━━━━━━\u001b[0m \u001b[32m57.6/57.6 kB\u001b[0m \u001b[31m1.1 MB/s\u001b[0m eta \u001b[36m0:00:00\u001b[0m MB/s\u001b[0m eta \u001b[36m0:00:01\u001b[0m\n",
      "\u001b[?25hDownloading regex-2023.10.3-cp311-cp311-macosx_11_0_arm64.whl (291 kB)\n",
      "\u001b[2K   \u001b[38;2;114;156;31m━━━━━━━━━━━━━━━━━━━━━━━━━━━━━━━━━━━━━━━━\u001b[0m \u001b[32m291.0/291.0 kB\u001b[0m \u001b[31m1.1 MB/s\u001b[0m eta \u001b[36m0:00:00\u001b[0m MB/s\u001b[0m eta \u001b[36m0:00:01\u001b[0m:01\u001b[0m\n",
      "\u001b[?25hDownloading joblib-1.3.2-py3-none-any.whl (302 kB)\n",
      "\u001b[2K   \u001b[38;2;114;156;31m━━━━━━━━━━━━━━━━━━━━━━━━━━━━━━━━━━━━━━━━\u001b[0m \u001b[32m302.2/302.2 kB\u001b[0m \u001b[31m1.1 MB/s\u001b[0m eta \u001b[36m0:00:00\u001b[0m[31m1.1 MB/s\u001b[0m eta \u001b[36m0:00:01\u001b[0m\n",
      "\u001b[?25hDownloading tqdm-4.66.1-py3-none-any.whl (78 kB)\n",
      "\u001b[2K   \u001b[38;2;114;156;31m━━━━━━━━━━━━━━━━━━━━━━━━━━━━━━━━━━━━━━━━\u001b[0m \u001b[32m78.3/78.3 kB\u001b[0m \u001b[31m1.1 MB/s\u001b[0m eta \u001b[36m0:00:00\u001b[0m[31m1.3 MB/s\u001b[0m eta \u001b[36m0:00:01\u001b[0m\n",
      "\u001b[?25hInstalling collected packages: tqdm, regex, joblib, nltk\n",
      "Successfully installed joblib-1.3.2 nltk-3.8.1 regex-2023.10.3 tqdm-4.66.1\n",
      "Note: you may need to restart the kernel to use updated packages.\n"
     ]
    }
   ],
   "source": [
    "import sys\n",
    "\n",
    "%pip install praw\n",
    "%pip install feedparser\n",
    "%pip install nltk"
   ]
  },
  {
   "cell_type": "markdown",
   "metadata": {},
   "source": [
    "In the snippets below, you can find:\n",
    "* creation of a small toy database in form of a dictionary of dictionaries;\n",
    "* issuing several similarity measures based on critics' preferences; and\n",
    "* use those values to obtain meaningful statistics pertaining a user."
   ]
  },
  {
   "cell_type": "markdown",
   "metadata": {},
   "source": [
    "# Movie preferences of movie critics\n",
    "As example data, let us define a python dictionary of movie critics and their ratings of a small set of movies\n"
   ]
  },
  {
   "cell_type": "code",
   "execution_count": 2,
   "metadata": {},
   "outputs": [],
   "source": [
    "critics = {\n",
    "    'Lisa Rose': {\n",
    "        'Lady in the Water': 2.5,\n",
    "        'Snakes on a Plane': 3.5,\n",
    "        'Just My Luck': 3.0,\n",
    "        'Superman Returns': 3.5,\n",
    "        'You, Me and Dupree': 2.5,\n",
    "        'The Night Listener': 3.0,\n",
    "    },\n",
    "    'Gene Seymour': {\n",
    "        'Lady in the Water': 3.0,\n",
    "        'Snakes on a Plane': 3.5,\n",
    "        'Just My Luck': 1.5,\n",
    "        'Superman Returns': 5.0,\n",
    "        'The Night Listener': 3.0,\n",
    "        'You, Me and Dupree': 3.5,\n",
    "    },\n",
    "    'Michael Phillips': {\n",
    "        'Lady in the Water': 2.5,\n",
    "        'Snakes on a Plane': 3.0,\n",
    "        'Superman Returns': 3.5,\n",
    "        'The Night Listener': 4.0,\n",
    "    },\n",
    "    'Claudia Puig': {\n",
    "        'Snakes on a Plane': 3.5,\n",
    "        'Just My Luck': 3.0,\n",
    "        'The Night Listener': 4.5,\n",
    "        'Superman Returns': 4.0,\n",
    "        'You, Me and Dupree': 2.5,\n",
    "    },\n",
    "    'Mick LaSalle': {\n",
    "        'Lady in the Water': 3.0,\n",
    "        'Snakes on a Plane': 4.0,\n",
    "        'Just My Luck': 2.0,\n",
    "        'Superman Returns': 3.0,\n",
    "        'The Night Listener': 3.0,\n",
    "        'You, Me and Dupree': 2.0,\n",
    "    },\n",
    "    'Jack Matthews': {\n",
    "        'Lady in the Water': 3.0,\n",
    "        'Snakes on a Plane': 4.0,\n",
    "        'The Night Listener': 3.0,\n",
    "        'Superman Returns': 5.0,\n",
    "        'You, Me and Dupree': 3.5,\n",
    "    },\n",
    "    'Toby': {'Snakes on a Plane': 4.5, \n",
    "             'You, Me and Dupree': 1.0,\n",
    "             'Superman Returns': 4.0},\n",
    "}"
   ]
  },
  {
   "cell_type": "markdown",
   "metadata": {},
   "source": [
    "# **Exercise 1: Finding Similar Users**\n",
    "\n",
    "In the code below, two different simililarity measures are used: Euclidean distance and the Pearson correlation. If you are not familiar with them, we recommend you look them up to deepen your understanding."
   ]
  },
  {
   "cell_type": "markdown",
   "metadata": {},
   "source": [
    "## Euclidian distance"
   ]
  },
  {
   "attachments": {
    "image.png": {
     "image/png": "[encoded data removed]"
    }
   },
   "cell_type": "markdown",
   "metadata": {},
   "source": [
    "To assess the degree similarity between critics given their respective preferences, we can use the euclidian distance.\n",
    "Its formula for an N-dimensional space is is: ![image.png](attachment:image.png)\n",
    "Because we want a smaller distance to indicate a larger similarity, we will use 1/d(p,q) as our similarity value:"
   ]
  },
  {
   "cell_type": "code",
   "execution_count": 3,
   "metadata": {},
   "outputs": [],
   "source": [
    "from math import sqrt\n",
    "\n",
    "def sim_distance(p1, p2, show_common_dims=False, prefs=critics):\n",
    "    '''\n",
    "    Returns a distance-based similarity score between two critics.\n",
    "    '''\n",
    "\n",
    "    # Get the list of shared_items\n",
    "    common_items = []\n",
    "    for movie in prefs[p1]:\n",
    "        if movie in prefs[p2]:\n",
    "            common_items.append(movie)\n",
    "    # If they have no ratings in common, return 0\n",
    "    if len(common_items) == 0:\n",
    "        return 0\n",
    "    if show_common_dims:\n",
    "        print(\"common dimensions between {} and {}: \".format(p1, p2) + str(len(common_items)))\n",
    "    # Add up the squares of all the differences\n",
    "    sum_of_squares = sum([pow(prefs[p1][movie] - prefs[p2][movie], 2) for movie in common_items])\n",
    "    \n",
    "    # return sqrt(sum_of_squares)\n",
    "    return 1 / sqrt(sum_of_squares)"
   ]
  },
  {
   "cell_type": "markdown",
   "metadata": {},
   "source": [
    "Using this simple formula, you can calculate a similarity between two critics:"
   ]
  },
  {
   "cell_type": "code",
   "execution_count": 4,
   "metadata": {},
   "outputs": [
    {
     "data": {
      "text/plain": [
       "0.41702882811414954"
      ]
     },
     "execution_count": 4,
     "metadata": {},
     "output_type": "execute_result"
    }
   ],
   "source": [
    "# get the distance between 'Lisa Rose' and 'Gene Seymour'\n",
    "sim_distance('Lisa Rose','Gene Seymour') "
   ]
  },
  {
   "cell_type": "code",
   "execution_count": 5,
   "metadata": {},
   "outputs": [
    {
     "data": {
      "text/plain": [
       "0.3922322702763681"
      ]
     },
     "execution_count": 5,
     "metadata": {},
     "output_type": "execute_result"
    }
   ],
   "source": [
    "# get the distance between 'Claudia Puig' and 'Gene Seymour'\n",
    "sim_distance('Claudia Puig','Gene Seymour') "
   ]
  },
  {
   "cell_type": "markdown",
   "metadata": {},
   "source": [
    "Try this with other names so you can see who is closer or further."
   ]
  },
  {
   "cell_type": "markdown",
   "metadata": {},
   "source": [
    "Name at least two problems with the sim_distance function as it is defined above. "
   ]
  },
  {
   "cell_type": "markdown",
   "metadata": {},
   "source": [
    "Problems:\n",
    "1. If two critics generally judge the same movies as good or bad, but one is a bit more strict (so gives more lower grades), they\n",
    "will be dissimilar with this distcance.\n",
    "2. One movie that they rate differently will increase the distance by a lot\n",
    "3. not normalized so distance tends to increase with increased movie size\n",
    "    "
   ]
  },
  {
   "attachments": {
    "image.png": {
     "image/png": "[encoded data removed]"
    }
   },
   "cell_type": "markdown",
   "metadata": {},
   "source": [
    "A different measure of similarity can be given by pearson correlation.\n",
    "Which follows: ![image.png](attachment:image.png)\n",
    "\n",
    "Where the dividend represents a measure of covariance between dimensions, whereas the divisor is the product of the standard deviation of the scores given by each user."
   ]
  },
  {
   "cell_type": "code",
   "execution_count": 6,
   "metadata": {},
   "outputs": [],
   "source": [
    "def sim_pearson(p1, p2, prefs=critics, verbose=False):\n",
    "    '''\n",
    "    Returns the Pearson correlation coefficient for p1 and p2.\n",
    "    '''\n",
    "\n",
    "    '''Step 1: Get the list of mutually rated items'''\n",
    "    common_items = []\n",
    "    dic = {}\n",
    "    for movie in prefs[p1]:\n",
    "        if movie in prefs[p2]:\n",
    "            common_items.append(movie)\n",
    "    # If they are no ratings in common, return 0\n",
    "    if len(common_items) == 0:\n",
    "        return 0\n",
    "    '''Step 2: Sum calculations'''\n",
    "    n_common_items = len(common_items)\n",
    "    sum1 = sum([prefs[p1][movie] for movie in common_items])\n",
    "    sum2 = sum([prefs[p2][movie] for movie in common_items])\n",
    "    # Sums of squares\n",
    "    sum1Sq = sum([pow(prefs[p1][movie], 2) for movie in common_items])\n",
    "    sum2Sq = sum([pow(prefs[p2][movie], 2) for movie in common_items])\n",
    "    # Sum of the products\n",
    "    pSum = sum([prefs[p1][movie] * prefs[p2][movie] for movie in common_items])\n",
    "    # Calculate r (Pearson score)\n",
    "    num = pSum - sum1 * sum2 / n_common_items\n",
    "    den = sqrt((sum1Sq - pow(sum1, 2) / n_common_items) * (sum2Sq - pow(sum2, 2) / n_common_items))\n",
    "    if den == 0:\n",
    "        return 0\n",
    "    r = num / den\n",
    "    if verbose:\n",
    "        print(\"common dimensions: %s\" % len(common_items))\n",
    "        print(\"Similarity Score for {} and {}: {}\".format(p1, p2, r))\n",
    "    return r\n",
    "\n",
    "# for k in critics.keys():\n",
    "#     sim_pearson('Michael Phillips', k, verbose=True)"
   ]
  },
  {
   "cell_type": "markdown",
   "metadata": {},
   "source": [
    "Try the examples you used for the eucledian distance again, but now using the pearson correlation:"
   ]
  },
  {
   "cell_type": "code",
   "execution_count": 7,
   "metadata": {},
   "outputs": [
    {
     "data": {
      "text/plain": [
       "0.39605901719066977"
      ]
     },
     "execution_count": 7,
     "metadata": {},
     "output_type": "execute_result"
    }
   ],
   "source": [
    "sim_pearson('Lisa Rose','Gene Seymour')"
   ]
  },
  {
   "cell_type": "code",
   "execution_count": 10,
   "metadata": {},
   "outputs": [
    {
     "data": {
      "text/plain": [
       "0.31497039417435607"
      ]
     },
     "execution_count": 10,
     "metadata": {},
     "output_type": "execute_result"
    }
   ],
   "source": [
    "sim_pearson('Claudia Puig','Gene Seymour')"
   ]
  },
  {
   "cell_type": "markdown",
   "metadata": {},
   "source": [
    "### Ranking critics on similarity\n",
    "The topMatches function below calculates all similarities of a given critic with his peers:"
   ]
  },
  {
   "cell_type": "code",
   "execution_count": 8,
   "metadata": {},
   "outputs": [],
   "source": [
    "def topMatches(person, n=5, similarity=sim_pearson, prefs=critics):\n",
    "    '''\n",
    "    Returns the best matches for person from the prefs dictionary. \n",
    "    Number of results and similarity function are optional params.\n",
    "    '''\n",
    "    if similarity not in [sim_distance, sim_pearson]:\n",
    "        # NB: here we are comparing FUNCTION DEFINITION.\n",
    "        # We do that only in a jupyter notebook for the sake of simplicity.\n",
    "        raise ValueError(\"Callback functions should be: 'sim_pearson' or 'sim_distance'.\")\n",
    "        \n",
    "    scores = [(similarity(person, other, prefs=prefs), other) for other in prefs\n",
    "              if other != person]\n",
    "    scores.sort()\n",
    "    scores.reverse()\n",
    "    return scores[0:n]"
   ]
  },
  {
   "cell_type": "markdown",
   "metadata": {},
   "source": [
    "So you can now get the 3 critics closest to Toby by calling:"
   ]
  },
  {
   "cell_type": "code",
   "execution_count": 9,
   "metadata": {},
   "outputs": [
    {
     "data": {
      "text/plain": [
       "[(0.9912407071619299, 'Lisa Rose'),\n",
       " (0.9244734516419049, 'Mick LaSalle'),\n",
       " (0.8934051474415647, 'Claudia Puig')]"
      ]
     },
     "execution_count": 9,
     "metadata": {},
     "output_type": "execute_result"
    }
   ],
   "source": [
    "topMatches('Toby',n=3)"
   ]
  },
  {
   "cell_type": "markdown",
   "metadata": {
    "tags": []
   },
   "source": [
    "*****************************************************\n",
    "### Task: Effect of similarity function used\n",
    "Call the topMatches function on a number of critics with both the default sim_pearson, but also with the sim_distance function. Would you have preference of one over the other? \n",
    "*****************************************************"
   ]
  },
  {
   "cell_type": "code",
   "execution_count": 11,
   "metadata": {
    "tags": []
   },
   "outputs": [
    {
     "name": "stdout",
     "output_type": "stream",
     "text": [
      "Lisa Rose\n",
      "[(0.9912407071619299, 'Toby'), (0.7470178808339965, 'Jack Matthews'), (0.5940885257860044, 'Mick LaSalle')]\n",
      "[(0.8944271909999159, 'Michael Phillips'), (0.7071067811865475, 'Mick LaSalle'), (0.6324555320336759, 'Claudia Puig')]\n",
      "_____________\n",
      "Gene Seymour\n",
      "[(0.963795681875635, 'Jack Matthews'), (0.41176470588235276, 'Mick LaSalle'), (0.39605901719066977, 'Lisa Rose')]\n",
      "[(2.0, 'Jack Matthews'), (0.5163977794943222, 'Michael Phillips'), (0.41702882811414954, 'Lisa Rose')]\n",
      "_____________\n",
      "Michael Phillips\n",
      "[(1.0, 'Claudia Puig'), (0.40451991747794525, 'Lisa Rose'), (0.20459830184114206, 'Gene Seymour')]\n",
      "[(1.1547005383792517, 'Claudia Puig'), (0.8944271909999159, 'Lisa Rose'), (0.6324555320336759, 'Toby')]\n",
      "_____________\n",
      "Claudia Puig\n",
      "[(1.0, 'Michael Phillips'), (0.8934051474415647, 'Toby'), (0.5669467095138411, 'Mick LaSalle')]\n",
      "[(1.1547005383792517, 'Michael Phillips'), (0.6324555320336759, 'Lisa Rose'), (0.5547001962252291, 'Toby')]\n",
      "_____________\n",
      "Mick LaSalle\n",
      "[(0.9244734516419049, 'Toby'), (0.5940885257860044, 'Lisa Rose'), (0.5669467095138411, 'Claudia Puig')]\n",
      "[(0.7071067811865475, 'Lisa Rose'), (0.6666666666666666, 'Toby'), (0.6324555320336759, 'Michael Phillips')]\n",
      "_____________\n",
      "Jack Matthews\n",
      "[(0.963795681875635, 'Gene Seymour'), (0.7470178808339965, 'Lisa Rose'), (0.66284898035987, 'Toby')]\n",
      "[(2.0, 'Gene Seymour'), (0.5163977794943222, 'Lisa Rose'), (0.47140452079103173, 'Michael Phillips')]\n",
      "_____________\n",
      "Toby\n",
      "[(0.9912407071619299, 'Lisa Rose'), (0.9244734516419049, 'Mick LaSalle'), (0.8934051474415647, 'Claudia Puig')]\n",
      "[(0.6666666666666666, 'Mick LaSalle'), (0.6324555320336759, 'Michael Phillips'), (0.5547001962252291, 'Claudia Puig')]\n",
      "_____________\n"
     ]
    }
   ],
   "source": [
    "for critic in critics.keys():\n",
    "    print(critic)\n",
    "    print(topMatches(critic,n=3))\n",
    "    print(topMatches(critic,n=3,similarity=sim_distance))\n",
    "    print(\"_____________\")"
   ]
  },
  {
   "cell_type": "markdown",
   "metadata": {},
   "source": [
    "Describe differences found here. "
   ]
  },
  {
   "cell_type": "markdown",
   "metadata": {},
   "source": [
    "### In many cases we notice that the pearson correlation and euclidian distance is quite different based on how the critics rate the movies. The euclidian distance between 2 critics is more fluid if the critics rate the same movies but with stricter ratings. The pearson correlation is more strict and will give a lower score if the critics rate the same movies but with different ratings."
   ]
  },
  {
   "cell_type": "markdown",
   "metadata": {},
   "source": [
    "use pearson because of the ordinal nature of movie data.\n",
    "Furthermore, its scale irrelevant (described above) and directional relationship."
   ]
  },
  {
   "cell_type": "markdown",
   "metadata": {},
   "source": [
    "### **Exercise 2: Recommending Items**\n",
    "\n",
    "One way to recommend movies to a person would be to rate the movies she has not seen yet by using the scores of the others weighted by the similarity."
   ]
  },
  {
   "cell_type": "code",
   "execution_count": 59,
   "metadata": {},
   "outputs": [],
   "source": [
    "def getRecommendations(person, similarity=sim_pearson, prefs=critics):\n",
    "    '''\n",
    "    Gets recommendations for a person by using a weighted average\n",
    "    of every other user's rankings\n",
    "    '''\n",
    "    if similarity not in [sim_distance, sim_pearson]:\n",
    "        raise ValueError(\"Callback functions should be: 'sim_pearson' or 'sim_distance'.\")\n",
    "\n",
    "    totals = {}\n",
    "    simSums = {}\n",
    "    for other in prefs:\n",
    "    # Don't compare me to myself\n",
    "        if other == person:\n",
    "            continue\n",
    "        # print(person, other)\n",
    "        sim = similarity(person, other, prefs=prefs)\n",
    "    # Ignore scores of zero or lower\n",
    "        if sim <= 0: \n",
    "            continue\n",
    "        for item in prefs[other]:\n",
    "            # Only score movies I haven't seen yet\n",
    "            if item not in prefs[person] or prefs[person][item] == 0:\n",
    "                # Similarity * Score\n",
    "                    totals.setdefault(item, 0)\n",
    "                    # The final score is calculated by multiplying each item by the\n",
    "                    #   similarity and adding these products together\n",
    "                    totals[item] += prefs[other][item] * sim\n",
    "                    # Sum of similarities\n",
    "                    simSums.setdefault(item, 0)\n",
    "                    simSums[item] += sim\n",
    "    # Create the normalized list\n",
    "    rankings = [(total / simSums[item], item) for (item, total) in\n",
    "                totals.items()]\n",
    "    # Return the sorted list\n",
    "    rankings.sort()\n",
    "    rankings.reverse()\n",
    "    return rankings"
   ]
  },
  {
   "cell_type": "code",
   "execution_count": 60,
   "metadata": {},
   "outputs": [
    {
     "data": {
      "text/plain": [
       "[(3.4721701369256524, 'The Night Listener'),\n",
       " (2.7709066207646793, 'Lady in the Water'),\n",
       " (2.4349456273856207, 'Just My Luck')]"
      ]
     },
     "execution_count": 60,
     "metadata": {},
     "output_type": "execute_result"
    }
   ],
   "source": [
    "getRecommendations('Toby', similarity=sim_distance)"
   ]
  },
  {
   "cell_type": "code",
   "execution_count": 61,
   "metadata": {},
   "outputs": [
    {
     "data": {
      "text/plain": [
       "[(3.3477895267131017, 'The Night Listener'),\n",
       " (2.8325499182641614, 'Lady in the Water'),\n",
       " (2.530980703765565, 'Just My Luck')]"
      ]
     },
     "execution_count": 61,
     "metadata": {},
     "output_type": "execute_result"
    }
   ],
   "source": [
    "getRecommendations('Toby')\n"
   ]
  },
  {
   "cell_type": "markdown",
   "metadata": {},
   "source": [
    "Note that the output does not only consist of a movie title, but also a guess at what the user's rating for each movie would be.\n",
    "\n",
    "*****************************************************\n",
    "### Task: Explainable recommendations\n",
    "Can you also find out how to give information on how the recommendation is built up. For example about the 'closest' person that also watched this movie?\n",
    "*****************************************************"
   ]
  },
  {
   "cell_type": "code",
   "execution_count": 96,
   "metadata": {},
   "outputs": [],
   "source": [
    "def getRecommendations_plus(person, similarity = sim_pearson, pref = critics):\n",
    "    '''\n",
    "    Gets recommendations for a person by finding the most similar person and\n",
    "    using their rankings to make recommendations\n",
    "    '''\n",
    "    if similarity not in [sim_distance, sim_pearson]:\n",
    "        raise ValueError(\"Callback functions should be: 'sim_pearson' or 'sim_distance'.\")\n",
    "    recommendations = {}\n",
    "    simSums = {}\n",
    "    # find the most similar person to person\n",
    "    most_similar_people = topMatches(person, n=3, similarity=similarity, prefs=pref)\n",
    "    # print(most_similar_people)\n",
    "    # filter the dictionary of pref by the most similar people\n",
    "    filtered_prefs = {k[1]: pref[k[1]] for k in most_similar_people}\n",
    "    filtered_prefs[person] = pref[person]\n",
    "    pref_recommendations = getRecommendations(person, similarity=similarity, prefs=filtered_prefs)\n",
    "    for recommendation in pref_recommendations:\n",
    "        recommendations[recommendation[1]] = [(filtered_pref) for  filtered_pref in filtered_prefs if recommendation[1] in filtered_prefs[filtered_pref].keys()]\n",
    "    return recommendations"
   ]
  },
  {
   "cell_type": "markdown",
   "metadata": {},
   "source": [
    "### Recommendation_plus function returns a dictionary with recommendations and which similar critics has seen said film, the list can only include critics that are used to make the recommendation"
   ]
  },
  {
   "cell_type": "code",
   "execution_count": 97,
   "metadata": {
    "tags": []
   },
   "outputs": [
    {
     "data": {
      "text/plain": [
       "{'The Night Listener': ['Lisa Rose', 'Mick LaSalle', 'Claudia Puig'],\n",
       " 'Lady in the Water': ['Lisa Rose', 'Mick LaSalle'],\n",
       " 'Just My Luck': ['Lisa Rose', 'Mick LaSalle', 'Claudia Puig']}"
      ]
     },
     "execution_count": 97,
     "metadata": {},
     "output_type": "execute_result"
    }
   ],
   "source": [
    "getRecommendations_plus('Toby')"
   ]
  },
  {
   "cell_type": "markdown",
   "metadata": {},
   "source": [
    "### **Exercise 3: Transformations** \n",
    "**You have been building recommendations based on similar users in Exercise 2, but you could of course also build recommendations based on similar items. In this exercise you will do this.** \n",
    "\n",
    "The function is essentially the same, but you need to transfer your data, from:\n",
    "\n",
    "<code>{'Lisa Rose': {'Lady in the Water': 2.5, 'Snakes on a Plane': 3.5},\n",
    "'Gene Seymour': {'Lady in the Water': 3.0, 'Snakes on a Plane': 3.5}}</code>\n",
    "\n",
    "to\n",
    "\n",
    "<code>{'Lady in the Water': {'Lisa Rose': 2.5,'Gene Seymour': 3.0},\n",
    "'Snakes on a Plane': {'Lisa Rose': 3.5,'Gene Seymour': 3.5}}</code>\n",
    "\n",
    "This is what the transformPrefs function does. \n",
    "\n",
    "You can now create a dictionary for movies with their scores assigned by different people by invoking:"
   ]
  },
  {
   "cell_type": "code",
   "execution_count": 98,
   "metadata": {},
   "outputs": [],
   "source": [
    "def transformPrefs(prefs=critics):\n",
    "    '''\n",
    "    Transform the recommendations into a mapping where persons are described\n",
    "    with interest scores for a given title e.g. {title: person} instead of\n",
    "    {person: title}.\n",
    "    '''\n",
    "    result = {}\n",
    "    for person in prefs:\n",
    "        for item in prefs[person]:\n",
    "            result.setdefault(item, {})\n",
    "            # Flip item and person\n",
    "            result[item][person] = prefs[person][item]\n",
    "    return result"
   ]
  },
  {
   "cell_type": "code",
   "execution_count": 99,
   "metadata": {},
   "outputs": [
    {
     "name": "stdout",
     "output_type": "stream",
     "text": [
      "{'Lady in the Water': {'Lisa Rose': 2.5, 'Gene Seymour': 3.0, 'Michael Phillips': 2.5, 'Mick LaSalle': 3.0, 'Jack Matthews': 3.0}, 'Snakes on a Plane': {'Lisa Rose': 3.5, 'Gene Seymour': 3.5, 'Michael Phillips': 3.0, 'Claudia Puig': 3.5, 'Mick LaSalle': 4.0, 'Jack Matthews': 4.0, 'Toby': 4.5}, 'Just My Luck': {'Lisa Rose': 3.0, 'Gene Seymour': 1.5, 'Claudia Puig': 3.0, 'Mick LaSalle': 2.0}, 'Superman Returns': {'Lisa Rose': 3.5, 'Gene Seymour': 5.0, 'Michael Phillips': 3.5, 'Claudia Puig': 4.0, 'Mick LaSalle': 3.0, 'Jack Matthews': 5.0, 'Toby': 4.0}, 'You, Me and Dupree': {'Lisa Rose': 2.5, 'Gene Seymour': 3.5, 'Claudia Puig': 2.5, 'Mick LaSalle': 2.0, 'Jack Matthews': 3.5, 'Toby': 1.0}, 'The Night Listener': {'Lisa Rose': 3.0, 'Gene Seymour': 3.0, 'Michael Phillips': 4.0, 'Claudia Puig': 4.5, 'Mick LaSalle': 3.0, 'Jack Matthews': 3.0}}\n"
     ]
    }
   ],
   "source": [
    "movies = transformPrefs()\n",
    "print(movies)"
   ]
  },
  {
   "cell_type": "markdown",
   "metadata": {},
   "source": [
    "And find similar items for a particular movie like this:"
   ]
  },
  {
   "cell_type": "code",
   "execution_count": 100,
   "metadata": {},
   "outputs": [
    {
     "data": {
      "text/plain": [
       "[(0.6579516949597695, 'You, Me and Dupree'),\n",
       " (0.4879500364742689, 'Lady in the Water'),\n",
       " (0.11180339887498941, 'Snakes on a Plane'),\n",
       " (-0.1798471947990544, 'The Night Listener'),\n",
       " (-0.42289003161103106, 'Just My Luck')]"
      ]
     },
     "execution_count": 100,
     "metadata": {},
     "output_type": "execute_result"
    }
   ],
   "source": [
    "topMatches('Superman Returns', prefs=movies)"
   ]
  },
  {
   "cell_type": "markdown",
   "metadata": {},
   "source": [
    "Or find people who may like a particular movie:"
   ]
  },
  {
   "cell_type": "code",
   "execution_count": 101,
   "metadata": {
    "tags": []
   },
   "outputs": [
    {
     "data": {
      "text/plain": [
       "[(4.0, 'Michael Phillips'), (3.0, 'Jack Matthews')]"
      ]
     },
     "execution_count": 101,
     "metadata": {},
     "output_type": "execute_result"
    }
   ],
   "source": [
    "getRecommendations('Just My Luck', prefs=movies)"
   ]
  },
  {
   "cell_type": "markdown",
   "metadata": {
    "tags": []
   },
   "source": [
    "*****************************************************\n",
    "#### Task: why does the example above work?\n",
    "Try to follow exactly what is going on in the last call. Notice that Michael and Jack did not rate 'Just my Luck'. How is their rating for it built up?\n",
    "*****************************************************"
   ]
  },
  {
   "cell_type": "markdown",
   "metadata": {},
   "source": [
    "Now the dataset has been restructured to a movie-centric format (movie:user:rating).\n",
    "So the similarity functions calculate for each user who has not rated 'Just My Luck', a similarity score with those who have rated it. The similarity score is based on how similarly two users rate other movies they've both seen.\n",
    "For each user who hasn't seen 'Just My Luck', the function estimates a rating by weighted averaging. It does this by taking each rating of 'Just My Luck' by other users, multiplying these ratings by the similarity score between the non-rater and the rater, and summing these products.\n",
    "The result is a list of users with their estimated enjoyment of 'Just My Luck', ranked from highest to lowest.\n",
    "In the case of Michael and Jack, who did not rate 'Just My Luck', the function predicts their rating for the movie based on how similar their tastes are to those who have rated the movie. If Michael, for example, has tastes very similar to users who liked 'Just My Luck', then the predicted rating for Michael will be high. Conversely, if his tastes align more with users who rated the movie poorly, the predicted rating will be lower."
   ]
  },
  {
   "cell_type": "markdown",
   "metadata": {},
   "source": [
    "### **Exercise 4: Sentence Similarity**"
   ]
  },
  {
   "cell_type": "code",
   "execution_count": 102,
   "metadata": {},
   "outputs": [],
   "source": [
    "# import natural language processing software we need later.\n",
    "import nltk\n",
    "from nltk.stem import WordNetLemmatizer\n"
   ]
  },
  {
   "cell_type": "code",
   "execution_count": 103,
   "metadata": {},
   "outputs": [
    {
     "name": "stderr",
     "output_type": "stream",
     "text": [
      "[nltk_data] Downloading package wordnet to\n",
      "[nltk_data]     /Users/bazottie/nltk_data...\n",
      "[nltk_data] Downloading package punkt to /Users/bazottie/nltk_data...\n",
      "[nltk_data]   Unzipping tokenizers/punkt.zip.\n",
      "[nltk_data] Downloading package omw-1.4 to\n",
      "[nltk_data]     /Users/bazottie/nltk_data...\n"
     ]
    },
    {
     "data": {
      "text/plain": [
       "True"
      ]
     },
     "execution_count": 103,
     "metadata": {},
     "output_type": "execute_result"
    }
   ],
   "source": [
    "# Download wordnet and punkt sentence tokenizer\n",
    "nltk.download('wordnet')\n",
    "nltk.download('punkt')\n",
    "nltk.download('omw-1.4')\n"
   ]
  },
  {
   "cell_type": "markdown",
   "metadata": {},
   "source": [
    "Below we have some example sentences to compare later on."
   ]
  },
  {
   "cell_type": "code",
   "execution_count": 104,
   "metadata": {},
   "outputs": [],
   "source": [
    "movies = [\"I saw a really good movie last night.\",\n",
    "\"The movie is based on the director's life.\",\n",
    "\"The movie starts at ten.\",\n",
    "\"I took her to a movie.\",\n",
    "\"The movie stars Al Pacino.\",\n",
    "\"The movie opened last weekend.\",\n",
    "\"The movie lasted two hours.\",\n",
    "\"He directed several movies.\", \n",
    "\"We just shot another movie.\", \n",
    "\"The movie was set in New York.\"]"
   ]
  },
  {
   "cell_type": "code",
   "execution_count": 105,
   "metadata": {},
   "outputs": [],
   "source": [
    "def get_jaccard_sim(str1, str2): \n",
    "    a = set(str1.split()) \n",
    "    b = set(str2.split())\n",
    "    c = a.intersection(b)\n",
    "    return float(len(c)) / (len(a) + len(b) - len(c))"
   ]
  },
  {
   "cell_type": "markdown",
   "metadata": {},
   "source": [
    "To get the Jaccard Similarity of two sentences however, we first need to do some preprocessing in the form of Lemmatization and Tokenization."
   ]
  },
  {
   "cell_type": "code",
   "execution_count": 109,
   "metadata": {},
   "outputs": [],
   "source": [
    "def compare(s1, s2):\n",
    "\n",
    "    #Import a Lemmatizer to get the root form of certain words\n",
    "    lemmatizer = WordNetLemmatizer() \n",
    "    \n",
    "    #Tokenize both sentences to get each word separately\n",
    "    word_list1 = nltk.word_tokenize(s1)\n",
    "    word_list2 = nltk.word_tokenize(s2)\n",
    "    \n",
    "    # print(\"Tokenized sentence\", word_list1) #Uncomment to see an example of the tokenized sentence \n",
    "    \n",
    "    #Lemmatize both sentences\n",
    "    lemmatized_output1 = ' '.join([lemmatizer.lemmatize(w, 'v') for w in word_list1])\n",
    "    lemmatized_output2 = ' '.join([lemmatizer.lemmatize(w, 'v') for w in word_list2])\n",
    "    #print(lemmatized_output2)\n",
    "    return lemmatized_output1, lemmatized_output2"
   ]
  },
  {
   "cell_type": "code",
   "execution_count": 110,
   "metadata": {
    "scrolled": true
   },
   "outputs": [
    {
     "name": "stdout",
     "output_type": "stream",
     "text": [
      "Sentence 1: I saw a really good movie last night . \n",
      " Sentence 2: I saw a really good movie last night . \n",
      " Similarity Score: 1.0\n",
      "Sentence 1: I saw a really good movie last night . \n",
      " Sentence 2: The movie be base on the director 's life . \n",
      " Similarity Score: 0.11764705882352941\n",
      "Sentence 1: I saw a really good movie last night . \n",
      " Sentence 2: The movie start at ten . \n",
      " Similarity Score: 0.15384615384615385\n",
      "Sentence 1: I saw a really good movie last night . \n",
      " Sentence 2: I take her to a movie . \n",
      " Similarity Score: 0.3333333333333333\n",
      "Sentence 1: I saw a really good movie last night . \n",
      " Sentence 2: The movie star Al Pacino . \n",
      " Similarity Score: 0.15384615384615385\n",
      "Sentence 1: I saw a really good movie last night . \n",
      " Sentence 2: The movie open last weekend . \n",
      " Similarity Score: 0.25\n",
      "Sentence 1: I saw a really good movie last night . \n",
      " Sentence 2: The movie last two hours . \n",
      " Similarity Score: 0.25\n",
      "Sentence 1: I saw a really good movie last night . \n",
      " Sentence 2: He direct several movies . \n",
      " Similarity Score: 0.07692307692307693\n",
      "Sentence 1: I saw a really good movie last night . \n",
      " Sentence 2: We just shoot another movie . \n",
      " Similarity Score: 0.15384615384615385\n",
      "Sentence 1: I saw a really good movie last night . \n",
      " Sentence 2: The movie be set in New York . \n",
      " Similarity Score: 0.13333333333333333\n"
     ]
    }
   ],
   "source": [
    "from nltk.stem import WordNetLemmatizer\n",
    "for x in range(len(movies)):\n",
    "    l1, l2 = compare(movies[0], movies[x])\n",
    "    print(\"Sentence 1:\", l1, '\\n', \"Sentence 2:\", l2, '\\n', \"Similarity Score:\", get_jaccard_sim(l1,l2))"
   ]
  },
  {
   "cell_type": "markdown",
   "metadata": {},
   "source": [
    "*****************************************************\n",
    "#### Task: In what scenario's could the Jaccard Similarity be more useful than the Euclidean distance and the Pearson Similarity metrics? Why is that? \n",
    "*****************************************************"
   ]
  },
  {
   "cell_type": "markdown",
   "metadata": {},
   "source": [
    "The jaccard similarity measures similarity between sets by dividing the intersection by the union of two sets. So in a case where two sets are 100% identical union and intersection are identical == 1. If they do not have any shared elements, then the intersection is empty so 0/some number == 0. For comparisons where it is hard to give definete real values (as we have the case here), the jaccard similarity is a better pick. A possible solution would be to one hot encode appearing words to apply pearson/euclidean similarity, but with more extensive vocabulary these measure start to fail quickly as the vectors tend to get very scarce (Curse of Dimensionality: With increasing dimensions, Euclidean distances tend to become less meaningful, and the Pearson correlation can be less informative due to the lack of variance in most dimensions). Also: jaccard distance better at Handling Outliers and Non-Normal Distributions."
   ]
  },
  {
   "cell_type": "markdown",
   "metadata": {},
   "source": [
    "### **Exercise 5: Building a Reddit Recommender**\n",
    "\n",
    "After having created your Reddit account, go to User Settings -> Safety & Privacy -> Manage third-party app authorization.\n",
    "Here, you will create your own app. Give it a name, and add \"https://www.reddit.com/prefs/apps/ \" to the redirect uri. Keep the other settings as they are.\n",
    "You may encounter some issues accessing \"https://www.reddit.com/prefs/apps/ \" in Chrome. If so, try with another browser.\n",
    "\n",
    "* replace the '???' in the user_agent string with your name (or any unique string).\n",
    "* replace the '???' in the client_id with the id right underneath your web app name.\n",
    "* replace the '???' in the client_secret with the key next to 'secret'.\n",
    "\n",
    "NOTE: install praw v. 3.5 \n"
   ]
  },
  {
   "cell_type": "code",
   "execution_count": 120,
   "metadata": {},
   "outputs": [],
   "source": [
    "from dotenv import load_dotenv\n",
    "import os\n",
    "load_dotenv()\n",
    "user_agent = os.environ.get(\"USER_AGENT\")\n",
    "client_id = os.environ.get('CLIENT_ID')\n",
    "client_secret = os.environ.get('CLIENT_SECRET')"
   ]
  },
  {
   "cell_type": "code",
   "execution_count": 122,
   "metadata": {},
   "outputs": [],
   "source": [
    "# -*- coding: utf-8 -*-\n",
    "\n",
    "import praw\n",
    "import time\n",
    "\n",
    "#Delete keys before handing in the notebook\n",
    "r = praw.Reddit(user_agent=user_agent, client_id=client_id,client_secret=client_secret, redirect_url='https://www.reddit.com/prefs/apps/' 'authorize_callback')\n",
    "\n",
    "\n",
    "def initializeUserDict(subreddit, count=10):\n",
    "    user_dict={}\n",
    "    # get the top count' popular posts\n",
    "    for post in r.subreddit(subreddit).top(limit=count):\n",
    "        # find all users who commented in this\n",
    "        flat_comments = post.comments.list()\n",
    "        for comment in flat_comments:\n",
    "            try:\n",
    "                user = comment.author.name\n",
    "                user_dict[user] = {}\n",
    "            except AttributeError:\n",
    "                pass\n",
    "    return user_dict\n",
    "\n",
    "def fillItems(user_dict, count=100):\n",
    "    all_items={}\n",
    "    # Find links posted by all users\n",
    "    for user in user_dict:\n",
    "        # print(\"finding subreddits where user \" + user + \"has commented\")\n",
    "        # find new comments for given user\n",
    "        comments = r.redditor(user).comments.new(limit=count)\n",
    "        for c in comments:\n",
    "            # Get the subreddit where the comment was made\n",
    "            subreddit = c.subreddit\n",
    "            sub_name = subreddit.display_name\n",
    "            # print(sub_name)\n",
    "            if sub_name in user_dict[user]:\n",
    "                user_dict[user][sub_name] += 1.0\n",
    "            else:\n",
    "                user_dict[user][sub_name] = 1.0\n",
    "            \n",
    "            all_items[sub_name] = 1\n",
    "#     Fill in missing items with 0\n",
    "    # for subr_counts in user_dict.values():\n",
    "    #     for item in all_items:\n",
    "    #         if item not in subr_counts:\n",
    "    #             subr_counts[item]=0.0\n",
    "    \n",
    "    return user_dict\n",
    " "
   ]
  },
  {
   "cell_type": "markdown",
   "metadata": {},
   "source": [
    "You can get a list of popular recent posts about programming from the programming subreddit (https://www.reddit.com/r/VUAmsterdam) by invoking the code below.  Don't forget to replace the '???' in the user_agent string with your name (or any unique string)."
   ]
  },
  {
   "cell_type": "code",
   "execution_count": 116,
   "metadata": {
    "scrolled": true
   },
   "outputs": [
    {
     "name": "stdout",
     "output_type": "stream",
     "text": [
      "praw version == 7.7.1\n",
      "\n",
      " * Cs selection exam\n",
      "\n",
      " * Opinions on Political Science: Global Politics\n",
      "\n",
      " * How is the study for the CS selection exam going for you guys?\n",
      "\n",
      " * Menta Health Well-being at the VU\n",
      "\n",
      " * Coronavirus at the VU\n"
     ]
    }
   ],
   "source": [
    "print(\"praw version == \" + praw.__version__)\n",
    "\n",
    "subreddit = r.subreddit(\"programming\")\n",
    "for post in r.subreddit('VUAmsterdam').top(limit=5):\n",
    "    print(end='\\n * ')\n",
    "    print(post.title)"
   ]
  },
  {
   "cell_type": "markdown",
   "metadata": {},
   "source": [
    "See here a list of other subreddits you can explore with this code: https://www.reddit.com/reddits/\n",
    "\n",
    "To automatically create a data set of reddit users similar to the movie watchers you can invoke the initializeUserDict function in redditrec.py "
   ]
  },
  {
   "cell_type": "code",
   "execution_count": 129,
   "metadata": {
    "tags": []
   },
   "outputs": [
    {
     "name": "stdout",
     "output_type": "stream",
     "text": [
      "{'Honey_2525': {}, 'GoldenPants_64': {}, 'Nashmia_23': {}, 'zdendsus': {}, 'princesa-leia': {}, 'Huge_Angle_7630': {}, 'wassup5551': {}, 'pegmafia': {}, 'Efficient_Scarcity_3': {}, 'Otherwise_Extreme_59': {}, 'Hot-Manufacturer9221': {}, 'alecsferra': {}, 'tronceeper': {}, 'KarateGandolf': {}, 'bdaffa': {}, 'IcyPen21': {}, 'Zealousideal_Tone_16': {}, 'HoldCertain8245': {}, 'nikitkat11': {}, 'SenseiTrade': {}, '_OreA_': {}, '777Raiden777': {}, 'Johnny_Jacket': {}, 'angulardragon03': {}, 'Ok_Advertising_5366': {}, 'Express_Item4648': {}, 'WannShav': {}, '96352y': {}, 'BillHoudini': {}}\n"
     ]
    }
   ],
   "source": [
    "red_users=initializeUserDict('VUAmsterdam', count=10) # or for any other subreddit\n",
    "print(red_users)"
   ]
  },
  {
   "cell_type": "markdown",
   "metadata": {},
   "source": [
    "Now initializeUserDict has only created the user keys. We of course also want to know what subreddits they posted comments on. You can pull those in through:"
   ]
  },
  {
   "cell_type": "code",
   "execution_count": 130,
   "metadata": {
    "tags": []
   },
   "outputs": [],
   "source": [
    "dict_ = fillItems(red_users, count=50)\n",
    "# here you can see how often each user commented in what sub."
   ]
  },
  {
   "cell_type": "markdown",
   "metadata": {},
   "source": [
    "This script may take a few minutes to collect all the data. Use this time to review what is going on in the code. Notice that users don't give ratings to subreddits, instead we are counting how many comments they posted in each subreddit. \n",
    "\n",
    "To recommend a similar user, we can use our topMatches function again.\n",
    "\n",
    "First choose a random user for whom you're going to find neighbours"
   ]
  },
  {
   "cell_type": "code",
   "execution_count": 131,
   "metadata": {},
   "outputs": [
    {
     "name": "stdout",
     "output_type": "stream",
     "text": [
      "nikitkat11\n"
     ]
    },
    {
     "data": {
      "text/plain": [
       "[(1.0, 'wassup5551'),\n",
       " (1.0, 'SenseiTrade'),\n",
       " (1.0, 'Nashmia_23'),\n",
       " (1.0, 'KarateGandolf'),\n",
       " (1.0, 'Honey_2525')]"
      ]
     },
     "execution_count": 131,
     "metadata": {},
     "output_type": "execute_result"
    }
   ],
   "source": [
    "import random\n",
    "user= random.choice( list( red_users.keys() ))\n",
    "print(user) # print the username \n",
    "topMatches(user, prefs=red_users) # from all redditors, get the most similar to user"
   ]
  },
  {
   "cell_type": "markdown",
   "metadata": {},
   "source": [
    "If no similar user was found, you can try increasing the count of users or comments for each initializeUserDict and fillItems."
   ]
  },
  {
   "cell_type": "markdown",
   "metadata": {},
   "source": [
    "*****************************************************\n",
    "#### Task: Recommend subreddits for a user based on what subreddits similar users have commented in. Recommend posts for a user based on posts they have commented on. \n",
    "*****************************************************"
   ]
  },
  {
   "cell_type": "code",
   "execution_count": 132,
   "metadata": {
    "tags": []
   },
   "outputs": [],
   "source": [
    "def jaccard_similarity(user1, user2, prefs):\n",
    "    # Extracting the sets of subreddits for each user\n",
    "    set1 = set(prefs[user1].keys())\n",
    "    set2 = set(prefs[user2].keys())\n",
    "\n",
    "    # Calculating intersection and union\n",
    "    intersection = set1.intersection(set2)\n",
    "    union = set1.union(set2)\n",
    "\n",
    "    # Handling division by zero in case both sets are empty\n",
    "    if len(union) == 0:\n",
    "        return 0\n",
    "\n",
    "    # Calculating Jaccard Similarity\n",
    "    return len(intersection) / len(union)\n"
   ]
  },
  {
   "cell_type": "code",
   "execution_count": 133,
   "metadata": {
    "tags": []
   },
   "outputs": [],
   "source": [
    "def getRecommendations1(target_user, prefs):\n",
    "    totals = {}\n",
    "    simSums = {}\n",
    "\n",
    "    for other_user in prefs:\n",
    "        # Skip similarity with self\n",
    "        if other_user == target_user:\n",
    "            continue\n",
    "\n",
    "        sim = jaccard_similarity(target_user, other_user, prefs)\n",
    "\n",
    "        # Ignore scores of zero or lower\n",
    "        if sim <= 0:\n",
    "            continue\n",
    "\n",
    "        for subreddit in prefs[other_user]:\n",
    "            # Recommend only subreddits target user hasn't commented on\n",
    "            if subreddit not in prefs[target_user] or prefs[target_user][subreddit] == 0:\n",
    "                # Similarity * Comment Frequency\n",
    "                totals.setdefault(subreddit, 0)\n",
    "                totals[subreddit] += prefs[other_user][subreddit] * sim\n",
    "                # Sum of similarities\n",
    "                simSums.setdefault(subreddit, 0)\n",
    "                simSums[subreddit] += sim\n",
    "\n",
    "    # Create a normalized list\n",
    "    rankings = [(total / simSums[subreddit], subreddit) for subreddit, total in totals.items()]\n",
    "\n",
    "    # Return the sorted list\n",
    "    rankings.sort(reverse=True)\n",
    "    return rankings\n"
   ]
  },
  {
   "cell_type": "code",
   "execution_count": 134,
   "metadata": {
    "collapsed": true,
    "jupyter": {
     "outputs_hidden": true
    },
    "tags": []
   },
   "outputs": [
    {
     "data": {
      "text/plain": [
       "[(23.0, 'wallstreetbets'),\n",
       " (20.0, 'croatia'),\n",
       " (17.0, 'Drugs'),\n",
       " (11.0, 'smallpenisproblems'),\n",
       " (10.0, 'polls'),\n",
       " (10.0, 'pcmasterrace'),\n",
       " (10.0, 'igcse'),\n",
       " (10.0, 'Kanye'),\n",
       " (10.0, 'G2eSports'),\n",
       " (8.0, 'macsysadmin'),\n",
       " (7.067428377417165, 'StudyInTheNetherlands'),\n",
       " (7.051282051282052, 'IBO'),\n",
       " (6.999999999999999, 'maastricht'),\n",
       " (6.0, 'rape'),\n",
       " (6.0, 'overcominggravity'),\n",
       " (6.0, 'bodyweightfitness'),\n",
       " (5.999999999999999, 'alevel'),\n",
       " (5.0, 'weightlifting'),\n",
       " (5.0, 'outside'),\n",
       " (5.0, 'formula1'),\n",
       " (5.0, 'facepalm'),\n",
       " (5.0, 'Romania'),\n",
       " (5.0, 'GenZ'),\n",
       " (5.0, 'Anarchy101'),\n",
       " (4.0, 'thinkpad'),\n",
       " (4.0, 'fuckcars'),\n",
       " (4.0, 'arcticmonkeys'),\n",
       " (4.0, 'Seiko'),\n",
       " (4.0, 'AskMen'),\n",
       " (4.0, 'AskBalkans'),\n",
       " (3.0273972602739723, 'Netherlands'),\n",
       " (3.0, 'thenetherlands'),\n",
       " (3.0, 'projectzomboid'),\n",
       " (3.0, 'europe'),\n",
       " (3.0, 'amsterdam_rave'),\n",
       " (2.9999999999999996, 'Pandabuy'),\n",
       " (2.9999999999999996, 'NoFap'),\n",
       " (2.0229741019214704, 'TUDelft'),\n",
       " (2.0, 'swift'),\n",
       " (2.0, 'socialism'),\n",
       " (2.0, 'rwth'),\n",
       " (2.0, 'powerlifting'),\n",
       " (2.0, 'okbuddychicanery'),\n",
       " (2.0, 'medical_advice'),\n",
       " (2.0, 'csgomarketforum'),\n",
       " (2.0, 'brakebills'),\n",
       " (2.0, 'UniversityofTwente'),\n",
       " (2.0, 'Singlesinferno_2'),\n",
       " (2.0, 'NBA2k'),\n",
       " (2.0, 'MechanicalKeyboards'),\n",
       " (2.0, 'ITCareerQuestions'),\n",
       " (2.0, 'IELTS'),\n",
       " (2.0, 'HydroHomies'),\n",
       " (2.0, 'Denver'),\n",
       " (2.0, 'CasualRO'),\n",
       " (2.0, 'AmerExit'),\n",
       " (2.0, '5nafcirclejerk'),\n",
       " (1.5697841726618706, 'AskReddit'),\n",
       " (1.5, 'PlasticSurgery'),\n",
       " (1.491738862850921, 'KULeuven'),\n",
       " (1.3513513513513513, 'nextfuckinglevel'),\n",
       " (1.0, 'vmware'),\n",
       " (1.0, 'urbanplanning'),\n",
       " (1.0, 'u_studyeuropecollege'),\n",
       " (1.0, 'tumunich'),\n",
       " (1.0, 'trans'),\n",
       " (1.0, 'television'),\n",
       " (1.0, 'tattoo'),\n",
       " (1.0, 'studentsofgroningen'),\n",
       " (1.0, 'starterpacks'),\n",
       " (1.0, 'ssbbw'),\n",
       " (1.0, 'shitposting'),\n",
       " (1.0, 'sheetmusic'),\n",
       " (1.0, 'reddeadredemption'),\n",
       " (1.0, 'pestcontrol'),\n",
       " (1.0, 'pctroubleshooting'),\n",
       " (1.0, 'oddlysatisfying'),\n",
       " (1.0, 'mildlyinfuriating'),\n",
       " (1.0, 'metalgearsolid'),\n",
       " (1.0, 'maybemaybemaybe'),\n",
       " (1.0, 'mac'),\n",
       " (1.0, 'lgbt'),\n",
       " (1.0, 'learnprogramming'),\n",
       " (1.0, 'leagueoflegends'),\n",
       " (1.0, 'jpegmafia'),\n",
       " (1.0, 'jordan'),\n",
       " (1.0, 'interesting'),\n",
       " (1.0, 'insanepeoplefacebook'),\n",
       " (1.0, 'iasi'),\n",
       " (1.0, 'fredagain'),\n",
       " (1.0, 'fragrance'),\n",
       " (1.0, 'eu4'),\n",
       " (1.0, 'electricvehicles'),\n",
       " (1.0, 'devops'),\n",
       " (1.0, 'dankmemes'),\n",
       " (1.0, 'csgo'),\n",
       " (1.0, 'buildapcsales'),\n",
       " (1.0, 'buildapc'),\n",
       " (1.0, 'booksuggestions'),\n",
       " (1.0, 'bodybuilding'),\n",
       " (1.0, 'blackmagicfuckery'),\n",
       " (1.0, 'bisexual'),\n",
       " (1.0, 'bikecommuting'),\n",
       " (1.0, 'apple'),\n",
       " (1.0, 'apolloapp'),\n",
       " (1.0, 'RDR2'),\n",
       " (1.0, 'Polska_wpz'),\n",
       " (1.0, 'PokemonScarletViolet'),\n",
       " (1.0, 'PokemonGoFriends'),\n",
       " (1.0, 'NonCredibleDefense'),\n",
       " (1.0, 'Mastodon'),\n",
       " (1.0, 'LifeProTips'),\n",
       " (1.0, 'Leiden'),\n",
       " (1.0, 'LeagueOfMemes'),\n",
       " (1.0, 'Laptop'),\n",
       " (1.0, 'HomeNetworking'),\n",
       " (1.0, 'HealthAnxiety'),\n",
       " (1.0, 'FreeKarma4You'),\n",
       " (1.0, 'FitnessMaterialHeaven'),\n",
       " (1.0, 'FifaCareers'),\n",
       " (1.0, 'EvelynnMains'),\n",
       " (1.0, 'DrawMyTattoo'),\n",
       " (1.0, 'DenverCirclejerk'),\n",
       " (1.0, 'Delft'),\n",
       " (1.0, 'DataHoarder'),\n",
       " (1.0, 'CrackSupport'),\n",
       " (1.0, 'CloneHero'),\n",
       " (1.0, 'BisexualTeens'),\n",
       " (1.0, 'AskDocs'),\n",
       " (1.0, 'AnarchyChess'),\n",
       " (1.0, 'Amsterdam'),\n",
       " (1.0, 'ARK'),\n",
       " (1.0, 'AITAH'),\n",
       " (1.0, '3dprinter')]"
      ]
     },
     "execution_count": 134,
     "metadata": {},
     "output_type": "execute_result"
    }
   ],
   "source": [
    "getRecommendations1(\"alecsferra\",dict_)"
   ]
  },
  {
   "cell_type": "code",
   "execution_count": 141,
   "metadata": {
    "tags": []
   },
   "outputs": [],
   "source": [
    "def fillItems1(user_dict, count=100):\n",
    "    all_items = {}\n",
    "    # Find comments made by all users\n",
    "    for user in user_dict:\n",
    "        # Find new comments for the given user\n",
    "        comments = r.redditor(user).comments.new(limit=count)\n",
    "        for comment in comments:\n",
    "            # Get the submission (post) where the comment was made\n",
    "            submission = comment.submission\n",
    "            # print(submission_id)\n",
    "            submission_id = submission.id\n",
    "            # print(submission_id)\n",
    "            if submission_id in user_dict[user]:\n",
    "                user_dict[user][submission_id] += 1.0\n",
    "            else:\n",
    "                user_dict[user][submission_id] = 1.0\n",
    "\n",
    "            all_items[submission_id] = 1\n",
    "    \n",
    "    return user_dict\n"
   ]
  },
  {
   "cell_type": "code",
   "execution_count": 137,
   "metadata": {
    "tags": []
   },
   "outputs": [
    {
     "name": "stdout",
     "output_type": "stream",
     "text": [
      "{'Honey_2525': {}, 'GoldenPants_64': {}, 'Nashmia_23': {}, 'zdendsus': {}, 'princesa-leia': {}, 'Huge_Angle_7630': {}, 'wassup5551': {}, 'pegmafia': {}, 'Efficient_Scarcity_3': {}, 'Otherwise_Extreme_59': {}, 'Hot-Manufacturer9221': {}, 'alecsferra': {}, 'tronceeper': {}, 'KarateGandolf': {}, 'bdaffa': {}, 'IcyPen21': {}, 'Zealousideal_Tone_16': {}, 'HoldCertain8245': {}, 'nikitkat11': {}, 'SenseiTrade': {}, '_OreA_': {}, '777Raiden777': {}, 'Johnny_Jacket': {}, 'angulardragon03': {}, 'Ok_Advertising_5366': {}, 'Express_Item4648': {}, 'WannShav': {}, '96352y': {}, 'BillHoudini': {}}\n"
     ]
    }
   ],
   "source": [
    "red_users=initializeUserDict('VUAmsterdam', count=10) # or for any other subreddit\n",
    "print(red_users)"
   ]
  },
  {
   "cell_type": "code",
   "execution_count": 142,
   "metadata": {
    "tags": []
   },
   "outputs": [],
   "source": [
    "dict_ = fillItems1(red_users, count=50)\n",
    "# here you can see how often each user commented in what sub."
   ]
  },
  {
   "cell_type": "code",
   "execution_count": 143,
   "metadata": {
    "collapsed": true,
    "jupyter": {
     "outputs_hidden": true
    },
    "tags": []
   },
   "outputs": [
    {
     "data": {
      "text/plain": [
       "{'Honey_2525': {'17gr88k': 1.0,\n",
       "  '15pmcq3': 2.0,\n",
       "  '15pwefe': 1.0,\n",
       "  '15pwfwn': 1.0,\n",
       "  '15jxc7t': 1.0,\n",
       "  '15jrdkw': 1.0,\n",
       "  '15jo9sm': 1.0,\n",
       "  '14t9f6p': 2.0,\n",
       "  '14rad4s': 1.0,\n",
       "  '14ow795': 1.0,\n",
       "  '14m0ng7': 1.0,\n",
       "  '144irq3': 1.0,\n",
       "  '13e2dat': 1.0,\n",
       "  '12pgbuf': 1.0,\n",
       "  '12qwu3t': 1.0,\n",
       "  '12on69s': 1.0,\n",
       "  '12j6lpc': 1.0,\n",
       "  '12g346e': 1.0,\n",
       "  '12fz3w0': 1.0,\n",
       "  '12adlus': 1.0,\n",
       "  '125md5s': 1.0,\n",
       "  '124gnzw': 1.0,\n",
       "  '11kyxwv': 1.0,\n",
       "  '11iloen': 1.0,\n",
       "  '11cdwj3': 1.0,\n",
       "  '11bshs1': 1.0,\n",
       "  '11arz7a': 1.0,\n",
       "  '114vcjx': 1.0,\n",
       "  '1126ugg': 1.0,\n",
       "  '10yppba': 1.0,\n",
       "  '10izu63': 1.0,\n",
       "  '10ihqk9': 1.0,\n",
       "  '10i328h': 1.0,\n",
       "  '10hydv1': 1.0,\n",
       "  '10gbuwu': 1.0,\n",
       "  '10f3nxr': 1.0,\n",
       "  '101d2c2': 1.0,\n",
       "  'zzggtf': 2.0,\n",
       "  'zznds6': 1.0,\n",
       "  'zznf3i': 1.0,\n",
       "  'zz6a07': 2.0,\n",
       "  'zyrcn2': 1.0,\n",
       "  'zh82i9': 1.0,\n",
       "  'zce4ek': 1.0,\n",
       "  'ynlhol': 1.0,\n",
       "  'yk27qo': 1.0},\n",
       " 'GoldenPants_64': {'13u46lr': 1.0,\n",
       "  '12xj0fs': 1.0,\n",
       "  '12v7n3x': 1.0,\n",
       "  '12dx58a': 1.0,\n",
       "  '11s4z6d': 1.0,\n",
       "  '11kyxwv': 1.0},\n",
       " 'Nashmia_23': {'12meub6': 1.0, '11kyxwv': 3.0},\n",
       " 'zdendsus': {'13ph1zs': 1.0,\n",
       "  'uf922u': 2.0,\n",
       "  '12bf9jc': 1.0,\n",
       "  '125ygbm': 1.0,\n",
       "  '11l8067': 2.0,\n",
       "  '11kyxwv': 1.0,\n",
       "  '11jejrs': 1.0},\n",
       " 'princesa-leia': {'13d5ky9': 4.0,\n",
       "  '141fm12': 1.0,\n",
       "  '11lq7hi': 1.0,\n",
       "  '12on69s': 3.0,\n",
       "  '12nqbo4': 3.0,\n",
       "  '12mgeg0': 6.0,\n",
       "  '12mx0pz': 1.0,\n",
       "  '12mdnbo': 5.0,\n",
       "  '12kwlfx': 1.0,\n",
       "  '12htw5f': 1.0,\n",
       "  '125ygbm': 3.0,\n",
       "  '11kyxwv': 3.0,\n",
       "  '10pgcmp': 1.0,\n",
       "  '11j6q9s': 1.0,\n",
       "  '11i20b4': 5.0,\n",
       "  '10pgbla': 1.0},\n",
       " 'Huge_Angle_7630': {'15n4ggq': 2.0,\n",
       "  '14v77s8': 1.0,\n",
       "  '14n5g68': 1.0,\n",
       "  '1490b0b': 1.0,\n",
       "  '144xoql': 2.0,\n",
       "  '12on69s': 2.0,\n",
       "  '12o23q4': 1.0,\n",
       "  '12mgeg0': 6.0,\n",
       "  '12mx0pz': 1.0,\n",
       "  '11kyxwv': 1.0,\n",
       "  '11jejrs': 1.0,\n",
       "  '11ehagq': 1.0,\n",
       "  '117xp67': 1.0,\n",
       "  'uh8z7x': 1.0,\n",
       "  'pclhjr': 1.0,\n",
       "  'oqw16s': 1.0,\n",
       "  'nduj3l': 1.0,\n",
       "  'n6ux4s': 7.0,\n",
       "  'n6rvoe': 1.0},\n",
       " 'wassup5551': {'11rr4b0': 1.0,\n",
       "  '11kyxwv': 1.0,\n",
       "  '11l8067': 1.0,\n",
       "  'ylejve': 1.0,\n",
       "  'wmk9kp': 1.0,\n",
       "  'm0gl2p': 1.0,\n",
       "  'ujjwv2': 2.0,\n",
       "  'rpqz1m': 1.0,\n",
       "  'rn26zr': 1.0,\n",
       "  'rctcko': 1.0,\n",
       "  'r26z76': 2.0,\n",
       "  'qtr2i3': 1.0,\n",
       "  'qpylv9': 3.0,\n",
       "  'qhkap7': 1.0,\n",
       "  'q2kthg': 1.0,\n",
       "  'prb30a': 1.0,\n",
       "  'pm9xod': 1.0,\n",
       "  'pmcav9': 1.0,\n",
       "  'pm3a33': 1.0,\n",
       "  'pf9bv4': 18.0,\n",
       "  'pfqavz': 2.0,\n",
       "  'ozarn5': 1.0,\n",
       "  'oqf6wg': 2.0,\n",
       "  'oqdis2': 1.0,\n",
       "  'nq08mh': 1.0,\n",
       "  'n5cmm8': 2.0},\n",
       " 'pegmafia': {'13xan7x': 1.0,\n",
       "  'lgv4e7': 1.0,\n",
       "  '145gm4o': 3.0,\n",
       "  '145g6g1': 1.0,\n",
       "  '12zbix8': 1.0,\n",
       "  '136umzv': 2.0,\n",
       "  '137uwd1': 2.0,\n",
       "  '12w3zj1': 1.0,\n",
       "  '11qn3z3': 1.0,\n",
       "  '11o2mi0': 1.0,\n",
       "  '11kyxwv': 2.0,\n",
       "  '11jejrs': 1.0,\n",
       "  '11izlfw': 1.0},\n",
       " 'Efficient_Scarcity_3': {'14phes9': 1.0,\n",
       "  '11kyxwv': 4.0,\n",
       "  '11i20b4': 2.0,\n",
       "  '10fdr3k': 1.0,\n",
       "  '10a35ga': 1.0},\n",
       " 'Otherwise_Extreme_59': {'15fry1s': 1.0,\n",
       "  '143ugrl': 1.0,\n",
       "  '146rozk': 2.0,\n",
       "  'ylejve': 2.0,\n",
       "  '12on69s': 6.0,\n",
       "  '12p4yi6': 1.0,\n",
       "  '12oj2oj': 5.0,\n",
       "  '12nnw2s': 1.0,\n",
       "  '12ojkvp': 1.0,\n",
       "  '12o23q4': 1.0,\n",
       "  '12mgeg0': 1.0,\n",
       "  '11kyxwv': 3.0,\n",
       "  '11jejrs': 2.0,\n",
       "  '11i20b4': 6.0,\n",
       "  'ylelca': 2.0},\n",
       " 'Hot-Manufacturer9221': {'14e93q5': 1.0,\n",
       "  '12on69s': 1.0,\n",
       "  '11kyxwv': 3.0,\n",
       "  '1130svj': 1.0,\n",
       "  'uf922u': 1.0},\n",
       " 'alecsferra': {'16mmc30': 1.0,\n",
       "  '1660uus': 1.0,\n",
       "  '1592mvm': 1.0,\n",
       "  '1520u5n': 1.0,\n",
       "  '14kmvxe': 2.0,\n",
       "  '14a9ase': 2.0,\n",
       "  '144eqm7': 2.0,\n",
       "  '1409adv': 1.0,\n",
       "  '13u46lr': 1.0,\n",
       "  'y64fbo': 1.0,\n",
       "  'x6hqky': 1.0,\n",
       "  'wn8yy5': 1.0,\n",
       "  'w3ld34': 1.0,\n",
       "  'vzo5wa': 5.0,\n",
       "  'vhdi5u': 1.0,\n",
       "  'uouj01': 1.0,\n",
       "  'u090qj': 1.0,\n",
       "  'tumyuu': 1.0,\n",
       "  'so97d4': 1.0,\n",
       "  'qnexjh': 1.0,\n",
       "  'q6gnc3': 2.0,\n",
       "  'pw035f': 1.0,\n",
       "  'pvonmt': 1.0,\n",
       "  'ptqut1': 2.0,\n",
       "  'ptjo91': 1.0,\n",
       "  'psjsvy': 1.0,\n",
       "  'pphboe': 1.0,\n",
       "  'pk5vqj': 1.0,\n",
       "  'oruytt': 1.0,\n",
       "  'jx0wbt': 1.0,\n",
       "  'jupiop': 1.0,\n",
       "  'jk5o6t': 1.0,\n",
       "  'iqfk8h': 1.0,\n",
       "  'if09ah': 3.0,\n",
       "  'i2bo6w': 1.0,\n",
       "  'fpvjbi': 2.0,\n",
       "  'dszmyf': 1.0,\n",
       "  'dfuag7': 1.0},\n",
       " 'tronceeper': {'181nxqw': 1.0,\n",
       "  '18128yc': 1.0,\n",
       "  '180n2ux': 1.0,\n",
       "  '180a8r3': 1.0,\n",
       "  '17ybpef': 2.0,\n",
       "  '17w0jnb': 2.0,\n",
       "  '17ub6qq': 1.0,\n",
       "  '17kfmnm': 1.0,\n",
       "  '17igruv': 1.0,\n",
       "  '17ilqyr': 1.0,\n",
       "  '17hpu1v': 3.0,\n",
       "  '17h0md9': 1.0,\n",
       "  '17fpa8e': 13.0,\n",
       "  '17erfze': 2.0,\n",
       "  '17d0ges': 11.0,\n",
       "  '10ym6k0': 1.0,\n",
       "  '17a11xb': 4.0,\n",
       "  '1763yoi': 2.0,\n",
       "  '174syh6': 1.0},\n",
       " 'KarateGandolf': {'17nhuhu': 2.0,\n",
       "  '17a4ikg': 1.0,\n",
       "  '17246nb': 1.0,\n",
       "  '169i3u4': 1.0,\n",
       "  '15rzegu': 1.0,\n",
       "  '15l0upt': 2.0,\n",
       "  '15d3p3a': 2.0,\n",
       "  '15b9z3u': 1.0,\n",
       "  '15a6xi6': 1.0,\n",
       "  '159i687': 1.0,\n",
       "  '152xqp4': 1.0,\n",
       "  '14z31lt': 1.0,\n",
       "  '14ybiyu': 1.0,\n",
       "  '14wx3gz': 1.0,\n",
       "  '14vd2si': 2.0,\n",
       "  '14uy64j': 2.0,\n",
       "  '14u85ew': 1.0,\n",
       "  '14t4744': 1.0,\n",
       "  '14pthmg': 1.0,\n",
       "  '14o739r': 1.0,\n",
       "  '14o2cl0': 1.0,\n",
       "  '14l81aw': 1.0,\n",
       "  '14kem1c': 1.0,\n",
       "  '14jnkah': 4.0,\n",
       "  '14c4rru': 2.0,\n",
       "  '14a7rnk': 1.0,\n",
       "  '14a9ase': 1.0,\n",
       "  '147wir8': 1.0,\n",
       "  '144eqm7': 1.0,\n",
       "  '14473ih': 1.0,\n",
       "  '143jsuf': 1.0,\n",
       "  '1426615': 3.0,\n",
       "  '143mqjk': 1.0,\n",
       "  '141gcp5': 1.0,\n",
       "  '13zlewd': 2.0,\n",
       "  '13yzyqh': 1.0,\n",
       "  '13xvgkr': 1.0,\n",
       "  '13u9fd1': 1.0},\n",
       " 'bdaffa': {'15sixpg': 2.0,\n",
       "  '163foqd': 1.0,\n",
       "  '144eqm7': 1.0,\n",
       "  '14kem1c': 1.0,\n",
       "  '13wk1vk': 1.0,\n",
       "  '13sonj2': 1.0,\n",
       "  '13nny6n': 1.0,\n",
       "  '13her8r': 2.0,\n",
       "  '12dzyfi': 1.0,\n",
       "  '1172ckl': 1.0,\n",
       "  '10fveuu': 2.0,\n",
       "  '10g09cf': 1.0,\n",
       "  'zzs696': 1.0,\n",
       "  'wlsu6z': 1.0,\n",
       "  'tsvxo0': 1.0,\n",
       "  'mzxyeq': 4.0,\n",
       "  'm8fs9o': 1.0,\n",
       "  'lz3bur': 1.0,\n",
       "  'ly8098': 2.0,\n",
       "  'ldp9et': 1.0,\n",
       "  'l79o2j': 1.0,\n",
       "  'l72m91': 1.0,\n",
       "  'l70owc': 2.0,\n",
       "  'l710wi': 1.0,\n",
       "  'l710wp': 1.0,\n",
       "  'l710wq': 1.0,\n",
       "  'l710yh': 1.0,\n",
       "  'l70ov9': 1.0,\n",
       "  'l70p15': 1.0,\n",
       "  'l70p1o': 1.0,\n",
       "  'l70p7g': 1.0,\n",
       "  'l70hdq': 1.0,\n",
       "  'l70he9': 1.0,\n",
       "  'l70hge': 1.0,\n",
       "  'l70hgh': 1.0,\n",
       "  'l70fux': 1.0,\n",
       "  'l709gk': 1.0,\n",
       "  'l709fe': 1.0,\n",
       "  'l709zg': 2.0,\n",
       "  'l7060j': 1.0,\n",
       "  'l6zgy3': 1.0},\n",
       " 'IcyPen21': {'14xfulx': 1.0,\n",
       "  '14pnig4': 1.0,\n",
       "  '12mgeg0': 2.0,\n",
       "  '11xevlp': 1.0,\n",
       "  '11jejrs': 1.0},\n",
       " 'Zealousideal_Tone_16': {'17szqkt': 6.0,\n",
       "  '12yk83i': 2.0,\n",
       "  'uf922u': 2.0,\n",
       "  '12htw5f': 1.0,\n",
       "  '12ltl4s': 1.0,\n",
       "  '12mgeg0': 1.0,\n",
       "  '11jejrs': 1.0},\n",
       " 'HoldCertain8245': {'12mgeg0': 1.0,\n",
       "  '11s4z6d': 1.0,\n",
       "  '11l9v14': 1.0,\n",
       "  '11jejrs': 1.0},\n",
       " 'nikitkat11': {'13krfkm': 1.0,\n",
       "  '13j3jux': 1.0,\n",
       "  '13j2ic1': 1.0,\n",
       "  '13j15z8': 1.0,\n",
       "  '12taoch': 1.0,\n",
       "  '12pppyb': 1.0,\n",
       "  '12mgeg0': 1.0,\n",
       "  '12hkn5q': 1.0,\n",
       "  '111noy4': 2.0,\n",
       "  'vs624z': 1.0,\n",
       "  'vsp1pa': 1.0,\n",
       "  'vrxk13': 1.0,\n",
       "  'vkal15': 2.0,\n",
       "  'uquzd8': 2.0,\n",
       "  'un2ipe': 1.0,\n",
       "  'uelidt': 2.0,\n",
       "  'la5d6x': 1.0,\n",
       "  'ithy66': 1.0,\n",
       "  'fjb61m': 2.0,\n",
       "  'dlrz06': 1.0,\n",
       "  'dk1ptd': 10.0,\n",
       "  '6fb4a5': 1.0},\n",
       " 'SenseiTrade': {'13ppyft': 1.0,\n",
       "  '12qpk9z': 1.0,\n",
       "  '12mgeg0': 1.0,\n",
       "  '12mfahm': 1.0,\n",
       "  '12htw5f': 1.0,\n",
       "  '125ygbm': 1.0,\n",
       "  '11l8067': 2.0,\n",
       "  '10if8kl': 2.0,\n",
       "  '10d1cdb': 1.0,\n",
       "  '109d541': 3.0,\n",
       "  'yfohi6': 1.0,\n",
       "  'xfvx2w': 1.0,\n",
       "  'ugu62f': 1.0,\n",
       "  'wqrimu': 1.0,\n",
       "  'wkdua9': 1.0,\n",
       "  'whyrub': 1.0,\n",
       "  'w8i9kw': 1.0,\n",
       "  'w2p2dm': 1.0,\n",
       "  't70amu': 1.0,\n",
       "  'sz2hr9': 1.0,\n",
       "  'sthcx5': 1.0,\n",
       "  'mv1rn0': 2.0,\n",
       "  'pf9mi6': 2.0,\n",
       "  'jdz0u1': 1.0,\n",
       "  'i5udxa': 1.0,\n",
       "  'hojp3g': 1.0,\n",
       "  'h9mxv5': 2.0,\n",
       "  'gzirvt': 1.0,\n",
       "  'gs72kh': 1.0},\n",
       " '_OreA_': {'13qx8hx': 1.0,\n",
       "  '14q9ptc': 1.0,\n",
       "  '14pz0eu': 1.0,\n",
       "  'ut47bl': 2.0,\n",
       "  '13p5rq0': 1.0,\n",
       "  '12rs8lz': 1.0,\n",
       "  '13kxfjc': 3.0,\n",
       "  '13k42ch': 4.0,\n",
       "  'youseo': 2.0,\n",
       "  '13hdhm8': 1.0,\n",
       "  '13hbklu': 1.0,\n",
       "  '13h8onn': 1.0,\n",
       "  '13alnom': 1.0,\n",
       "  '13aznuq': 1.0,\n",
       "  '139vwzt': 1.0,\n",
       "  'w7qlov': 3.0,\n",
       "  '139ir3e': 1.0,\n",
       "  '137gw56': 1.0,\n",
       "  '12tzar1': 3.0,\n",
       "  '12w3opn': 1.0,\n",
       "  '12xtg1b': 3.0,\n",
       "  '12wrpxk': 1.0,\n",
       "  'zowhij': 1.0,\n",
       "  '12w1s16': 3.0,\n",
       "  '12usvty': 2.0,\n",
       "  '12vdr55': 3.0,\n",
       "  '12ur4qp': 1.0,\n",
       "  '12es8rk': 1.0,\n",
       "  '12u3gwa': 1.0,\n",
       "  '12s7p9o': 3.0},\n",
       " '777Raiden777': {'15bthfn': 1.0,\n",
       "  '157llql': 1.0,\n",
       "  '12on69s': 2.0,\n",
       "  '12mza5d': 1.0,\n",
       "  '12ndsm5': 1.0,\n",
       "  '12nbjmq': 1.0,\n",
       "  '12mgeg0': 1.0,\n",
       "  '12kwlfx': 1.0,\n",
       "  '125ygbm': 1.0,\n",
       "  '11s4z6d': 1.0,\n",
       "  '11iwdbn': 1.0,\n",
       "  '1130svj': 2.0,\n",
       "  '10c1dds': 3.0,\n",
       "  '108g0yx': 2.0,\n",
       "  't5un16': 1.0,\n",
       "  'qw0j9n': 1.0,\n",
       "  'qre5i3': 1.0,\n",
       "  'q5sh06': 1.0,\n",
       "  'punzo8': 1.0,\n",
       "  'pqoi8k': 1.0,\n",
       "  'piddja': 1.0,\n",
       "  'p8o87z': 1.0,\n",
       "  'ox58q1': 1.0,\n",
       "  'omc47w': 1.0,\n",
       "  'og77eu': 1.0,\n",
       "  'oe51w7': 1.0,\n",
       "  'nbcq7h': 1.0,\n",
       "  'n9xch2': 1.0,\n",
       "  'mso5ar': 1.0,\n",
       "  'lmb28u': 1.0,\n",
       "  'lgvhzg': 3.0,\n",
       "  'ld9s5w': 1.0,\n",
       "  'kpfofm': 1.0},\n",
       " 'Johnny_Jacket': {'155bc74': 11.0,\n",
       "  '151ikjy': 3.0,\n",
       "  '1505a25': 1.0,\n",
       "  '13c092k': 2.0,\n",
       "  '13bspni': 1.0,\n",
       "  '138jcm8': 1.0,\n",
       "  '1394cli': 1.0,\n",
       "  '138ifet': 1.0,\n",
       "  '135wc8g': 2.0,\n",
       "  '12mgeg0': 3.0,\n",
       "  'yhy57t': 1.0,\n",
       "  'ybn6oa': 1.0,\n",
       "  'xl0hom': 1.0,\n",
       "  'qoxaag': 1.0,\n",
       "  'q0a8y3': 1.0,\n",
       "  'pygjut': 16.0,\n",
       "  'p3e0xy': 1.0,\n",
       "  'oir4r0': 2.0},\n",
       " 'angulardragon03': {'144f6xm': 1.0,\n",
       "  '142w5uo': 1.0,\n",
       "  '13zfvn5': 1.0,\n",
       "  '13a9dwk': 1.0,\n",
       "  '13a29kq': 1.0,\n",
       "  '138fe5y': 1.0,\n",
       "  '133apbg': 1.0,\n",
       "  '12xmagf': 2.0,\n",
       "  'vev9qg': 2.0,\n",
       "  '12w6hv1': 1.0,\n",
       "  '12teiq6': 1.0,\n",
       "  '12mgeg0': 2.0,\n",
       "  '12kqyz7': 1.0,\n",
       "  '12czkk4': 1.0,\n",
       "  '12cutm6': 1.0,\n",
       "  '127pgre': 1.0,\n",
       "  '11hpgij': 1.0,\n",
       "  '11c07kq': 2.0,\n",
       "  '11bvwv2': 1.0,\n",
       "  '1191hfr': 1.0,\n",
       "  '1181ug1': 1.0,\n",
       "  '112xxx9': 1.0,\n",
       "  '1115ya4': 1.0,\n",
       "  '110r8vv': 1.0,\n",
       "  '110rkrl': 1.0,\n",
       "  '10rj691': 1.0,\n",
       "  '10lp8x1': 1.0,\n",
       "  '10h1sdo': 3.0,\n",
       "  '10djzdf': 1.0,\n",
       "  '1059kiy': 1.0,\n",
       "  '104wxaf': 1.0,\n",
       "  'zz9sbw': 1.0,\n",
       "  'zp0rub': 1.0,\n",
       "  'zjva48': 1.0,\n",
       "  'z0wcf0': 1.0,\n",
       "  'yvpwaf': 1.0,\n",
       "  'y7n5ci': 1.0,\n",
       "  'y1z3ya': 1.0,\n",
       "  'xw6lan': 2.0,\n",
       "  'xtsjm6': 1.0,\n",
       "  'xg4c8t': 2.0,\n",
       "  'x79pz4': 1.0},\n",
       " 'Ok_Advertising_5366': {'182sx8b': 3.0,\n",
       "  '12cwcs3': 1.0,\n",
       "  'uf922u': 1.0,\n",
       "  '12o40d8': 1.0,\n",
       "  '12mgeg0': 1.0,\n",
       "  '117xp67': 2.0},\n",
       " 'Express_Item4648': {'184lccw': 1.0,\n",
       "  '184pwqo': 1.0,\n",
       "  '184hf5l': 3.0,\n",
       "  '184arw3': 1.0,\n",
       "  '183qn22': 8.0,\n",
       "  '1848lwa': 1.0,\n",
       "  '1844bbu': 1.0,\n",
       "  '1848xvu': 1.0,\n",
       "  '1845uuf': 1.0,\n",
       "  '183qh1h': 2.0,\n",
       "  '183g5wq': 2.0,\n",
       "  '183hpev': 4.0,\n",
       "  '183qhxh': 1.0,\n",
       "  '1831jbl': 2.0,\n",
       "  '1837k43': 1.0,\n",
       "  '1835ba2': 1.0,\n",
       "  '18326a4': 1.0,\n",
       "  '1831w5d': 1.0,\n",
       "  '182js3g': 5.0,\n",
       "  '182yrqa': 1.0,\n",
       "  '182d9jo': 1.0,\n",
       "  '1829joa': 3.0,\n",
       "  '182chiy': 1.0,\n",
       "  '1822hkc': 1.0,\n",
       "  '180z6rr': 1.0,\n",
       "  '181n0iq': 1.0,\n",
       "  '181bbef': 2.0,\n",
       "  '181mrhu': 1.0},\n",
       " 'WannShav': {'17woyub': 3.0,\n",
       "  '17vwg73': 1.0,\n",
       "  '166wyl6': 2.0,\n",
       "  '17srg1b': 2.0,\n",
       "  '17rlva9': 1.0,\n",
       "  '179ha8o': 1.0,\n",
       "  '14xrgv4': 1.0,\n",
       "  '168ukge': 1.0,\n",
       "  '169e9op': 1.0,\n",
       "  '15t9yol': 1.0,\n",
       "  '15swkl7': 1.0,\n",
       "  '15f8ye5': 3.0,\n",
       "  '15m9wks': 1.0,\n",
       "  '15jvdnh': 1.0,\n",
       "  '15hj7ie': 1.0,\n",
       "  '15hg7ri': 1.0,\n",
       "  '15f9z9b': 1.0,\n",
       "  '15faolh': 3.0,\n",
       "  '15ev3ui': 3.0,\n",
       "  '159t6fz': 1.0,\n",
       "  '14me57w': 1.0,\n",
       "  '14h3qud': 1.0,\n",
       "  'y19rfp': 1.0,\n",
       "  '14d8n39': 1.0,\n",
       "  '14cxy8y': 1.0,\n",
       "  '14c4fm8': 1.0,\n",
       "  '148ymza': 1.0,\n",
       "  '145y90z': 1.0,\n",
       "  '1405zvj': 1.0,\n",
       "  '13xk6wd': 1.0,\n",
       "  '13xn6o7': 1.0,\n",
       "  '13x27hk': 1.0,\n",
       "  '13x66jo': 1.0,\n",
       "  '13uy3ik': 4.0,\n",
       "  '13uy20p': 1.0,\n",
       "  '13stpj9': 1.0,\n",
       "  '13qm7hn': 1.0},\n",
       " '96352y': {'16bw8vo': 1.0,\n",
       "  '15mgtcl': 2.0,\n",
       "  'uf922u': 1.0,\n",
       "  '13vpod9': 1.0,\n",
       "  '11jejrs': 1.0,\n",
       "  'tcg0sw': 1.0},\n",
       " 'BillHoudini': {'182qa3o': 1.0,\n",
       "  '17wyegi': 1.0,\n",
       "  '17wt7fb': 1.0,\n",
       "  '17r8qrz': 2.0,\n",
       "  '17nod9b': 1.0,\n",
       "  '1709rad': 2.0,\n",
       "  '1703q6t': 1.0,\n",
       "  '16w1brj': 1.0,\n",
       "  '16upmso': 1.0,\n",
       "  '16ttvmk': 1.0,\n",
       "  '16pvknu': 1.0,\n",
       "  '16pwxu0': 1.0,\n",
       "  '16lngu7': 1.0,\n",
       "  '16d4mab': 1.0,\n",
       "  '16agq72': 1.0,\n",
       "  '161od9m': 1.0,\n",
       "  '15bq6cz': 1.0,\n",
       "  '15bafdt': 3.0,\n",
       "  '15b67xk': 2.0,\n",
       "  '15abdqb': 1.0,\n",
       "  '1551ck3': 1.0,\n",
       "  '154vye8': 4.0,\n",
       "  '1520s00': 1.0,\n",
       "  '151cnuj': 1.0,\n",
       "  '1514kbt': 2.0,\n",
       "  '150ebaw': 1.0,\n",
       "  '15080ez': 1.0,\n",
       "  '14zn2cg': 1.0,\n",
       "  '14zk9sl': 1.0,\n",
       "  '14zjdxt': 1.0,\n",
       "  '14wkr15': 1.0,\n",
       "  '14tkhkn': 1.0,\n",
       "  '14rjqjt': 1.0,\n",
       "  '14k9ca9': 4.0,\n",
       "  '14auefu': 3.0,\n",
       "  '145e4uv': 1.0}}"
      ]
     },
     "execution_count": 143,
     "metadata": {},
     "output_type": "execute_result"
    }
   ],
   "source": [
    "dict_"
   ]
  },
  {
   "cell_type": "code",
   "execution_count": 144,
   "metadata": {
    "collapsed": true,
    "jupyter": {
     "outputs_hidden": true
    },
    "tags": []
   },
   "outputs": [
    {
     "data": {
      "text/plain": [
       "[(18.0, 'pf9bv4'),\n",
       " (7.0, 'n6ux4s'),\n",
       " (5.0, '12oj2oj'),\n",
       " (5.0, '12mdnbo'),\n",
       " (4.700777202072539, '11i20b4'),\n",
       " (4.0, '13d5ky9'),\n",
       " (3.9105734700677512, '12mgeg0'),\n",
       " (3.0000000000000004, 'lgvhzg'),\n",
       " (3.0000000000000004, '10c1dds'),\n",
       " (3.0, 'qpylv9'),\n",
       " (3.0, '145gm4o'),\n",
       " (3.0, '12nqbo4'),\n",
       " (2.019607843137255, '125ygbm'),\n",
       " (2.0, 'ylelca'),\n",
       " (2.0, 'ujjwv2'),\n",
       " (2.0, 'r26z76'),\n",
       " (2.0, 'pfqavz'),\n",
       " (2.0, 'oqf6wg'),\n",
       " (2.0, 'n5cmm8'),\n",
       " (2.0, '15n4ggq'),\n",
       " (2.0, '146rozk'),\n",
       " (2.0, '144xoql'),\n",
       " (2.0, '137uwd1'),\n",
       " (2.0, '136umzv'),\n",
       " (2.0, '108g0yx'),\n",
       " (1.7064676616915422, 'ylejve'),\n",
       " (1.5772357723577235, '11l8067'),\n",
       " (1.331957224744797, '11jejrs'),\n",
       " (1.3202614379084967, 'uf922u'),\n",
       " (1.2390243902439024, '1130svj'),\n",
       " (1.0, 'wmk9kp'),\n",
       " (1.0, 'uh8z7x'),\n",
       " (1.0, 't5un16'),\n",
       " (1.0, 'rpqz1m'),\n",
       " (1.0, 'rn26zr'),\n",
       " (1.0, 'rctcko'),\n",
       " (1.0, 'qw0j9n'),\n",
       " (1.0, 'qtr2i3'),\n",
       " (1.0, 'qre5i3'),\n",
       " (1.0, 'qhkap7'),\n",
       " (1.0, 'q5sh06'),\n",
       " (1.0, 'q2kthg'),\n",
       " (1.0, 'punzo8'),\n",
       " (1.0, 'prb30a'),\n",
       " (1.0, 'pqoi8k'),\n",
       " (1.0, 'pmcav9'),\n",
       " (1.0, 'pm9xod'),\n",
       " (1.0, 'pm3a33'),\n",
       " (1.0, 'piddja'),\n",
       " (1.0, 'pclhjr'),\n",
       " (1.0, 'p8o87z'),\n",
       " (1.0, 'ozarn5'),\n",
       " (1.0, 'ox58q1'),\n",
       " (1.0, 'oqw16s'),\n",
       " (1.0, 'oqdis2'),\n",
       " (1.0, 'omc47w'),\n",
       " (1.0, 'og77eu'),\n",
       " (1.0, 'oe51w7'),\n",
       " (1.0, 'nq08mh'),\n",
       " (1.0, 'nduj3l'),\n",
       " (1.0, 'nbcq7h'),\n",
       " (1.0, 'n9xch2'),\n",
       " (1.0, 'n6rvoe'),\n",
       " (1.0, 'mso5ar'),\n",
       " (1.0, 'm0gl2p'),\n",
       " (1.0, 'lmb28u'),\n",
       " (1.0, 'lgv4e7'),\n",
       " (1.0, 'ld9s5w'),\n",
       " (1.0, 'kpfofm'),\n",
       " (1.0, '15fry1s'),\n",
       " (1.0, '15bthfn'),\n",
       " (1.0, '157llql'),\n",
       " (1.0, '14v77s8'),\n",
       " (1.0, '14phes9'),\n",
       " (1.0, '14n5g68'),\n",
       " (1.0, '14e93q5'),\n",
       " (1.0, '1490b0b'),\n",
       " (1.0, '145g6g1'),\n",
       " (1.0, '143ugrl'),\n",
       " (1.0, '141fm12'),\n",
       " (1.0, '13xan7x'),\n",
       " (1.0, '13u46lr'),\n",
       " (1.0, '13ph1zs'),\n",
       " (1.0, '12zbix8'),\n",
       " (1.0, '12xj0fs'),\n",
       " (1.0, '12w3zj1'),\n",
       " (1.0, '12v7n3x'),\n",
       " (1.0, '12p4yi6'),\n",
       " (1.0, '12ojkvp'),\n",
       " (1.0, '12o23q4'),\n",
       " (1.0, '12nnw2s'),\n",
       " (1.0, '12ndsm5'),\n",
       " (1.0, '12nbjmq'),\n",
       " (1.0, '12mza5d'),\n",
       " (1.0, '12mx0pz'),\n",
       " (1.0, '12meub6'),\n",
       " (1.0, '12kwlfx'),\n",
       " (1.0, '12htw5f'),\n",
       " (1.0, '12dx58a'),\n",
       " (1.0, '12bf9jc'),\n",
       " (1.0, '11s4z6d'),\n",
       " (1.0, '11rr4b0'),\n",
       " (1.0, '11qn3z3'),\n",
       " (1.0, '11o2mi0'),\n",
       " (1.0, '11lq7hi'),\n",
       " (1.0, '11j6q9s'),\n",
       " (1.0, '11izlfw'),\n",
       " (1.0, '11iwdbn'),\n",
       " (1.0, '11ehagq'),\n",
       " (1.0, '117xp67'),\n",
       " (1.0, '10pgcmp'),\n",
       " (1.0, '10pgbla'),\n",
       " (1.0, '10fdr3k'),\n",
       " (1.0, '10a35ga')]"
      ]
     },
     "execution_count": 144,
     "metadata": {},
     "output_type": "execute_result"
    }
   ],
   "source": [
    "getRecommendations1(\"Honey_2525\",dict_)"
   ]
  },
  {
   "cell_type": "code",
   "execution_count": 145,
   "metadata": {
    "tags": []
   },
   "outputs": [
    {
     "name": "stdout",
     "output_type": "stream",
     "text": [
      "Post Title: Hello! What do you think?\n",
      "Author: wassup5551\n",
      "Subreddit: StudyInTheNetherlands\n",
      "Score: 3\n",
      "Number of Comments: 32\n"
     ]
    }
   ],
   "source": [
    "post = r.submission(id=\"pf9bv4\")\n",
    "\n",
    "# Print information about the post\n",
    "print(\"Post Title:\", post.title)\n",
    "print(\"Author:\", post.author)\n",
    "print(\"Subreddit:\", post.subreddit.display_name)\n",
    "print(\"Score:\", post.score)\n",
    "print(\"Number of Comments:\", post.num_comments)"
   ]
  }
 ],
 "metadata": {
  "kernelspec": {
   "display_name": "Python 3 (ipykernel)",
   "language": "python",
   "name": "python3"
  },
  "language_info": {
   "codemirror_mode": {
    "name": "ipython",
    "version": 3
   },
   "file_extension": ".py",
   "mimetype": "text/x-python",
   "name": "python",
   "nbconvert_exporter": "python",
   "pygments_lexer": "ipython3",
   "version": "3.11.6"
  }
 },
 "nbformat": 4,
 "nbformat_minor": 4
}
